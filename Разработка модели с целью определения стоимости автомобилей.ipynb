{
 "cells": [
  {
   "cell_type": "markdown",
   "metadata": {},
   "source": [
    "# Разработка модели с целью определения стоимости автомобилей"
   ]
  },
  {
   "cell_type": "markdown",
   "metadata": {},
   "source": [
    "# Описание проекта\n",
    "\n",
    "Построение модели для определения стоимости автомобиля с пробегом - это сложная задача, которая требует тщательной подготовки данных, выбора правильной модели и её обучения. Следуя этим шагам, вы можете создать точную и надежную модель, которая поможет сервису по продаже б/у автомобилей привлечь новых клиентов.\n",
    "\n",
    "Сервис по продаже автомобилей с пробегом разрабатывает приложение для привлечения новых клиентов. В нём можно быстро узнать рыночную стоимость своего автомобиля. В распоряжении исторические данные: технические характеристики, комплектации и цены автомобилей. Необходимо построить модель для определения стоимости. \n",
    "\n",
    "Заказчику важны:\n",
    "- качество предсказания;\n",
    "- скорость предсказания;\n",
    "- время обучения."
   ]
  },
  {
   "cell_type": "markdown",
   "metadata": {},
   "source": [
    "# Описание данных\n",
    "\n",
    "**Файл `/datasets/autos.csv` содержит данные об автомобилях, выставленных на продажу**\n",
    "- `DateCrawled` - дата скачивания анкеты из базы\n",
    "- `VehicleType` - тип автомобильного кузова\n",
    "- `RegistrationYear` - год регистрации автомобиля\n",
    "- `Gearbox` - тип коробки передач\n",
    "- `Power` - мощность (л. с.)\n",
    "- `Model` - модель автомобиля\n",
    "- `Kilometer` - пробег (км)\n",
    "- `RegistrationMonth` - месяц регистрации автомобиля\n",
    "- `FuelType` - тип топлива\n",
    "- `Brand` - марка автомобиля\n",
    "- `Repaired` - была машина в ремонте или нет\n",
    "- `DateCreated` - дата создания анкеты\n",
    "- `NumberOfPictures` - количество фотографий автомобиля\n",
    "- `PostalCode` - почтовый индекс владельца анкеты (пользователя)\n",
    "- `LastSeen` - дата последней активности пользователя\n",
    "- `Price` — цена (евро)"
   ]
  },
  {
   "cell_type": "markdown",
   "metadata": {},
   "source": [
    "# План работы\n",
    "\n",
    "**Шаг 1.** Загрузить данные\n",
    "\n",
    "**Шаг 2.** Изучить данные. Заполнить пропущенные значения и обработать аномалии в столбцах. Неинформативные признаки удалить.\n",
    "\n",
    "**Шаг 3.** Подготовить выборки для обучения моделей.\n",
    "\n",
    "**Шаг 4.** Обучить разные модели, одна из которых — LightGBM, как минимум одна — не бустинг. Для каждой модели попробовать разные гиперпараметры.\n",
    "\n",
    "**Шаг 5.** Проанализировать время обучения, время предсказания и качество моделей.\n",
    "\n",
    "**Шаг 6.** Опираясь на критерии заказчика, выбрать лучшую модель, проверить её качество на тестовой выборке."
   ]
  },
  {
   "cell_type": "markdown",
   "metadata": {},
   "source": [
    "## Подготовка данных"
   ]
  },
  {
   "cell_type": "markdown",
   "metadata": {},
   "source": [
    "### Импортируем необходимые библиотеки"
   ]
  },
  {
   "cell_type": "code",
   "execution_count": 1,
   "metadata": {},
   "outputs": [],
   "source": [
    "!pip install -q phik\n",
    "import pandas as pd\n",
    "import numpy as np\n",
    "import seaborn as sns\n",
    "import matplotlib.pyplot as plt\n",
    "import warnings\n",
    "import phik\n",
    "\n",
    "# импортируем класс LinearRegression, класс Ridge, DecisionTreeRegressor и функцию для разделения данных и кроссвалидации\n",
    "from sklearn.linear_model import LinearRegression, Ridge\n",
    "from sklearn.tree import DecisionTreeRegressor\n",
    "from sklearn.model_selection import train_test_split, cross_val_score, GridSearchCV\n",
    "\n",
    "# импортируем функции для стандартизации, кодирования \n",
    "from sklearn.preprocessing import StandardScaler, OneHotEncoder, OrdinalEncoder\n",
    "\n",
    "# импортируем класс DummyRegressor\n",
    "from sklearn.dummy import DummyRegressor\n",
    "\n",
    "# импортируем функцию для RMSE\n",
    "from sklearn.metrics import mean_squared_error, make_scorer\n",
    "\n",
    "from catboost import Pool, CatBoostRegressor, cv\n",
    "from lightgbm import LGBMRegressor\n",
    "warnings.filterwarnings('ignore')\n",
    "\n",
    "# Задаем константы\n",
    "RANDOM_STATE = 12345\n",
    "TEST_SIZE = 0.25\n",
    "\n",
    "from time import time"
   ]
  },
  {
   "cell_type": "markdown",
   "metadata": {},
   "source": [
    "### Загрузим данные в датафреймы pandas"
   ]
  },
  {
   "cell_type": "code",
   "execution_count": 2,
   "metadata": {},
   "outputs": [],
   "source": [
    "try:\n",
    "    data = pd.read_csv('/datasets/autos.csv ')\n",
    "except:\n",
    "    data = pd.read_csv('https://code.s3.yandex.net/datasets/autos.csv ')"
   ]
  },
  {
   "cell_type": "markdown",
   "metadata": {},
   "source": [
    "### Изучим данные"
   ]
  },
  {
   "cell_type": "code",
   "execution_count": 3,
   "metadata": {},
   "outputs": [
    {
     "data": {
      "text/html": [
       "<div>\n",
       "<style scoped>\n",
       "    .dataframe tbody tr th:only-of-type {\n",
       "        vertical-align: middle;\n",
       "    }\n",
       "\n",
       "    .dataframe tbody tr th {\n",
       "        vertical-align: top;\n",
       "    }\n",
       "\n",
       "    .dataframe thead th {\n",
       "        text-align: right;\n",
       "    }\n",
       "</style>\n",
       "<table border=\"1\" class=\"dataframe\">\n",
       "  <thead>\n",
       "    <tr style=\"text-align: right;\">\n",
       "      <th></th>\n",
       "      <th>DateCrawled</th>\n",
       "      <th>Price</th>\n",
       "      <th>VehicleType</th>\n",
       "      <th>RegistrationYear</th>\n",
       "      <th>Gearbox</th>\n",
       "      <th>Power</th>\n",
       "      <th>Model</th>\n",
       "      <th>Kilometer</th>\n",
       "      <th>RegistrationMonth</th>\n",
       "      <th>FuelType</th>\n",
       "      <th>Brand</th>\n",
       "      <th>Repaired</th>\n",
       "      <th>DateCreated</th>\n",
       "      <th>NumberOfPictures</th>\n",
       "      <th>PostalCode</th>\n",
       "      <th>LastSeen</th>\n",
       "    </tr>\n",
       "  </thead>\n",
       "  <tbody>\n",
       "    <tr>\n",
       "      <th>0</th>\n",
       "      <td>2016-03-24 11:52:17</td>\n",
       "      <td>480</td>\n",
       "      <td>NaN</td>\n",
       "      <td>1993</td>\n",
       "      <td>manual</td>\n",
       "      <td>0</td>\n",
       "      <td>golf</td>\n",
       "      <td>150000</td>\n",
       "      <td>0</td>\n",
       "      <td>petrol</td>\n",
       "      <td>volkswagen</td>\n",
       "      <td>NaN</td>\n",
       "      <td>2016-03-24 00:00:00</td>\n",
       "      <td>0</td>\n",
       "      <td>70435</td>\n",
       "      <td>2016-04-07 03:16:57</td>\n",
       "    </tr>\n",
       "    <tr>\n",
       "      <th>1</th>\n",
       "      <td>2016-03-24 10:58:45</td>\n",
       "      <td>18300</td>\n",
       "      <td>coupe</td>\n",
       "      <td>2011</td>\n",
       "      <td>manual</td>\n",
       "      <td>190</td>\n",
       "      <td>NaN</td>\n",
       "      <td>125000</td>\n",
       "      <td>5</td>\n",
       "      <td>gasoline</td>\n",
       "      <td>audi</td>\n",
       "      <td>yes</td>\n",
       "      <td>2016-03-24 00:00:00</td>\n",
       "      <td>0</td>\n",
       "      <td>66954</td>\n",
       "      <td>2016-04-07 01:46:50</td>\n",
       "    </tr>\n",
       "    <tr>\n",
       "      <th>2</th>\n",
       "      <td>2016-03-14 12:52:21</td>\n",
       "      <td>9800</td>\n",
       "      <td>suv</td>\n",
       "      <td>2004</td>\n",
       "      <td>auto</td>\n",
       "      <td>163</td>\n",
       "      <td>grand</td>\n",
       "      <td>125000</td>\n",
       "      <td>8</td>\n",
       "      <td>gasoline</td>\n",
       "      <td>jeep</td>\n",
       "      <td>NaN</td>\n",
       "      <td>2016-03-14 00:00:00</td>\n",
       "      <td>0</td>\n",
       "      <td>90480</td>\n",
       "      <td>2016-04-05 12:47:46</td>\n",
       "    </tr>\n",
       "    <tr>\n",
       "      <th>3</th>\n",
       "      <td>2016-03-17 16:54:04</td>\n",
       "      <td>1500</td>\n",
       "      <td>small</td>\n",
       "      <td>2001</td>\n",
       "      <td>manual</td>\n",
       "      <td>75</td>\n",
       "      <td>golf</td>\n",
       "      <td>150000</td>\n",
       "      <td>6</td>\n",
       "      <td>petrol</td>\n",
       "      <td>volkswagen</td>\n",
       "      <td>no</td>\n",
       "      <td>2016-03-17 00:00:00</td>\n",
       "      <td>0</td>\n",
       "      <td>91074</td>\n",
       "      <td>2016-03-17 17:40:17</td>\n",
       "    </tr>\n",
       "    <tr>\n",
       "      <th>4</th>\n",
       "      <td>2016-03-31 17:25:20</td>\n",
       "      <td>3600</td>\n",
       "      <td>small</td>\n",
       "      <td>2008</td>\n",
       "      <td>manual</td>\n",
       "      <td>69</td>\n",
       "      <td>fabia</td>\n",
       "      <td>90000</td>\n",
       "      <td>7</td>\n",
       "      <td>gasoline</td>\n",
       "      <td>skoda</td>\n",
       "      <td>no</td>\n",
       "      <td>2016-03-31 00:00:00</td>\n",
       "      <td>0</td>\n",
       "      <td>60437</td>\n",
       "      <td>2016-04-06 10:17:21</td>\n",
       "    </tr>\n",
       "  </tbody>\n",
       "</table>\n",
       "</div>"
      ],
      "text/plain": [
       "           DateCrawled  Price VehicleType  RegistrationYear Gearbox  Power  \\\n",
       "0  2016-03-24 11:52:17    480         NaN              1993  manual      0   \n",
       "1  2016-03-24 10:58:45  18300       coupe              2011  manual    190   \n",
       "2  2016-03-14 12:52:21   9800         suv              2004    auto    163   \n",
       "3  2016-03-17 16:54:04   1500       small              2001  manual     75   \n",
       "4  2016-03-31 17:25:20   3600       small              2008  manual     69   \n",
       "\n",
       "   Model  Kilometer  RegistrationMonth  FuelType       Brand Repaired  \\\n",
       "0   golf     150000                  0    petrol  volkswagen      NaN   \n",
       "1    NaN     125000                  5  gasoline        audi      yes   \n",
       "2  grand     125000                  8  gasoline        jeep      NaN   \n",
       "3   golf     150000                  6    petrol  volkswagen       no   \n",
       "4  fabia      90000                  7  gasoline       skoda       no   \n",
       "\n",
       "           DateCreated  NumberOfPictures  PostalCode             LastSeen  \n",
       "0  2016-03-24 00:00:00                 0       70435  2016-04-07 03:16:57  \n",
       "1  2016-03-24 00:00:00                 0       66954  2016-04-07 01:46:50  \n",
       "2  2016-03-14 00:00:00                 0       90480  2016-04-05 12:47:46  \n",
       "3  2016-03-17 00:00:00                 0       91074  2016-03-17 17:40:17  \n",
       "4  2016-03-31 00:00:00                 0       60437  2016-04-06 10:17:21  "
      ]
     },
     "execution_count": 3,
     "metadata": {},
     "output_type": "execute_result"
    }
   ],
   "source": [
    "data.head()"
   ]
  },
  {
   "cell_type": "code",
   "execution_count": 4,
   "metadata": {},
   "outputs": [
    {
     "name": "stdout",
     "output_type": "stream",
     "text": [
      "<class 'pandas.core.frame.DataFrame'>\n",
      "RangeIndex: 354369 entries, 0 to 354368\n",
      "Data columns (total 16 columns):\n",
      " #   Column             Non-Null Count   Dtype \n",
      "---  ------             --------------   ----- \n",
      " 0   DateCrawled        354369 non-null  object\n",
      " 1   Price              354369 non-null  int64 \n",
      " 2   VehicleType        316879 non-null  object\n",
      " 3   RegistrationYear   354369 non-null  int64 \n",
      " 4   Gearbox            334536 non-null  object\n",
      " 5   Power              354369 non-null  int64 \n",
      " 6   Model              334664 non-null  object\n",
      " 7   Kilometer          354369 non-null  int64 \n",
      " 8   RegistrationMonth  354369 non-null  int64 \n",
      " 9   FuelType           321474 non-null  object\n",
      " 10  Brand              354369 non-null  object\n",
      " 11  Repaired           283215 non-null  object\n",
      " 12  DateCreated        354369 non-null  object\n",
      " 13  NumberOfPictures   354369 non-null  int64 \n",
      " 14  PostalCode         354369 non-null  int64 \n",
      " 15  LastSeen           354369 non-null  object\n",
      "dtypes: int64(7), object(9)\n",
      "memory usage: 43.3+ MB\n"
     ]
    }
   ],
   "source": [
    "data.info()"
   ]
  },
  {
   "cell_type": "code",
   "execution_count": 5,
   "metadata": {},
   "outputs": [
    {
     "data": {
      "text/plain": [
       "DateCrawled              0\n",
       "Price                    0\n",
       "VehicleType          37490\n",
       "RegistrationYear         0\n",
       "Gearbox              19833\n",
       "Power                    0\n",
       "Model                19705\n",
       "Kilometer                0\n",
       "RegistrationMonth        0\n",
       "FuelType             32895\n",
       "Brand                    0\n",
       "Repaired             71154\n",
       "DateCreated              0\n",
       "NumberOfPictures         0\n",
       "PostalCode               0\n",
       "LastSeen                 0\n",
       "dtype: int64"
      ]
     },
     "execution_count": 5,
     "metadata": {},
     "output_type": "execute_result"
    }
   ],
   "source": [
    "data.isna().sum()"
   ]
  },
  {
   "cell_type": "code",
   "execution_count": 6,
   "metadata": {},
   "outputs": [
    {
     "data": {
      "text/html": [
       "<div>\n",
       "<style scoped>\n",
       "    .dataframe tbody tr th:only-of-type {\n",
       "        vertical-align: middle;\n",
       "    }\n",
       "\n",
       "    .dataframe tbody tr th {\n",
       "        vertical-align: top;\n",
       "    }\n",
       "\n",
       "    .dataframe thead th {\n",
       "        text-align: right;\n",
       "    }\n",
       "</style>\n",
       "<table border=\"1\" class=\"dataframe\">\n",
       "  <thead>\n",
       "    <tr style=\"text-align: right;\">\n",
       "      <th></th>\n",
       "      <th>Price</th>\n",
       "      <th>RegistrationYear</th>\n",
       "      <th>Power</th>\n",
       "      <th>Kilometer</th>\n",
       "      <th>RegistrationMonth</th>\n",
       "      <th>NumberOfPictures</th>\n",
       "      <th>PostalCode</th>\n",
       "    </tr>\n",
       "  </thead>\n",
       "  <tbody>\n",
       "    <tr>\n",
       "      <th>count</th>\n",
       "      <td>354369.000000</td>\n",
       "      <td>354369.000000</td>\n",
       "      <td>354369.000000</td>\n",
       "      <td>354369.000000</td>\n",
       "      <td>354369.000000</td>\n",
       "      <td>354369.0</td>\n",
       "      <td>354369.000000</td>\n",
       "    </tr>\n",
       "    <tr>\n",
       "      <th>mean</th>\n",
       "      <td>4416.656776</td>\n",
       "      <td>2004.234448</td>\n",
       "      <td>110.094337</td>\n",
       "      <td>128211.172535</td>\n",
       "      <td>5.714645</td>\n",
       "      <td>0.0</td>\n",
       "      <td>50508.689087</td>\n",
       "    </tr>\n",
       "    <tr>\n",
       "      <th>std</th>\n",
       "      <td>4514.158514</td>\n",
       "      <td>90.227958</td>\n",
       "      <td>189.850405</td>\n",
       "      <td>37905.341530</td>\n",
       "      <td>3.726421</td>\n",
       "      <td>0.0</td>\n",
       "      <td>25783.096248</td>\n",
       "    </tr>\n",
       "    <tr>\n",
       "      <th>min</th>\n",
       "      <td>0.000000</td>\n",
       "      <td>1000.000000</td>\n",
       "      <td>0.000000</td>\n",
       "      <td>5000.000000</td>\n",
       "      <td>0.000000</td>\n",
       "      <td>0.0</td>\n",
       "      <td>1067.000000</td>\n",
       "    </tr>\n",
       "    <tr>\n",
       "      <th>25%</th>\n",
       "      <td>1050.000000</td>\n",
       "      <td>1999.000000</td>\n",
       "      <td>69.000000</td>\n",
       "      <td>125000.000000</td>\n",
       "      <td>3.000000</td>\n",
       "      <td>0.0</td>\n",
       "      <td>30165.000000</td>\n",
       "    </tr>\n",
       "    <tr>\n",
       "      <th>50%</th>\n",
       "      <td>2700.000000</td>\n",
       "      <td>2003.000000</td>\n",
       "      <td>105.000000</td>\n",
       "      <td>150000.000000</td>\n",
       "      <td>6.000000</td>\n",
       "      <td>0.0</td>\n",
       "      <td>49413.000000</td>\n",
       "    </tr>\n",
       "    <tr>\n",
       "      <th>75%</th>\n",
       "      <td>6400.000000</td>\n",
       "      <td>2008.000000</td>\n",
       "      <td>143.000000</td>\n",
       "      <td>150000.000000</td>\n",
       "      <td>9.000000</td>\n",
       "      <td>0.0</td>\n",
       "      <td>71083.000000</td>\n",
       "    </tr>\n",
       "    <tr>\n",
       "      <th>max</th>\n",
       "      <td>20000.000000</td>\n",
       "      <td>9999.000000</td>\n",
       "      <td>20000.000000</td>\n",
       "      <td>150000.000000</td>\n",
       "      <td>12.000000</td>\n",
       "      <td>0.0</td>\n",
       "      <td>99998.000000</td>\n",
       "    </tr>\n",
       "  </tbody>\n",
       "</table>\n",
       "</div>"
      ],
      "text/plain": [
       "               Price  RegistrationYear          Power      Kilometer  \\\n",
       "count  354369.000000     354369.000000  354369.000000  354369.000000   \n",
       "mean     4416.656776       2004.234448     110.094337  128211.172535   \n",
       "std      4514.158514         90.227958     189.850405   37905.341530   \n",
       "min         0.000000       1000.000000       0.000000    5000.000000   \n",
       "25%      1050.000000       1999.000000      69.000000  125000.000000   \n",
       "50%      2700.000000       2003.000000     105.000000  150000.000000   \n",
       "75%      6400.000000       2008.000000     143.000000  150000.000000   \n",
       "max     20000.000000       9999.000000   20000.000000  150000.000000   \n",
       "\n",
       "       RegistrationMonth  NumberOfPictures     PostalCode  \n",
       "count      354369.000000          354369.0  354369.000000  \n",
       "mean            5.714645               0.0   50508.689087  \n",
       "std             3.726421               0.0   25783.096248  \n",
       "min             0.000000               0.0    1067.000000  \n",
       "25%             3.000000               0.0   30165.000000  \n",
       "50%             6.000000               0.0   49413.000000  \n",
       "75%             9.000000               0.0   71083.000000  \n",
       "max            12.000000               0.0   99998.000000  "
      ]
     },
     "execution_count": 6,
     "metadata": {},
     "output_type": "execute_result"
    }
   ],
   "source": [
    "data.describe()"
   ]
  },
  {
   "cell_type": "markdown",
   "metadata": {},
   "source": [
    "**Посмотрим на распределение целевого признака \"Price\"**"
   ]
  },
  {
   "cell_type": "code",
   "execution_count": 7,
   "metadata": {},
   "outputs": [
    {
     "data": {
      "image/png": "[encoded data removed]",
      "text/plain": [
       "<Figure size 720x288 with 1 Axes>"
      ]
     },
     "metadata": {
      "needs_background": "light"
     },
     "output_type": "display_data"
    }
   ],
   "source": [
    "data['Price'].plot(kind='hist', grid=True, title= 'Распределение признака Price', bins=25, color='green', figsize=(10,4));\n",
    "plt.xlabel('Price')\n",
    "plt.ylabel('Количество')\n",
    "plt.show()"
   ]
  },
  {
   "cell_type": "markdown",
   "metadata": {},
   "source": [
    "**Посмотрим на распределение категориальных признаков \"VehicleType\", \"Gearbox\", \"FuelType\", \"Brand\", \"Repaired\"**"
   ]
  },
  {
   "cell_type": "code",
   "execution_count": 8,
   "metadata": {},
   "outputs": [
    {
     "data": {
      "image/png": "[encoded data removed]",
      "text/plain": [
       "<Figure size 864x288 with 1 Axes>"
      ]
     },
     "metadata": {
      "needs_background": "light"
     },
     "output_type": "display_data"
    },
    {
     "data": {
      "image/png": "[encoded data removed]",
      "text/plain": [
       "<Figure size 864x288 with 1 Axes>"
      ]
     },
     "metadata": {
      "needs_background": "light"
     },
     "output_type": "display_data"
    },
    {
     "data": {
      "image/png": "[encoded data removed]",
      "text/plain": [
       "<Figure size 864x288 with 1 Axes>"
      ]
     },
     "metadata": {
      "needs_background": "light"
     },
     "output_type": "display_data"
    },
    {
     "data": {
      "image/png": "[encoded data removed]",
      "text/plain": [
       "<Figure size 864x288 with 1 Axes>"
      ]
     },
     "metadata": {
      "needs_background": "light"
     },
     "output_type": "display_data"
    },
    {
     "data": {
      "image/png": "[encoded data removed]",
      "text/plain": [
       "<Figure size 864x288 with 1 Axes>"
      ]
     },
     "metadata": {
      "needs_background": "light"
     },
     "output_type": "display_data"
    }
   ],
   "source": [
    "plt.rcParams.update({'font.size': 10})\n",
    "for i in data[['VehicleType', 'Gearbox', 'FuelType', 'Brand', 'Repaired']]:\n",
    "    data.pivot_table(index=i, \n",
    "                         values='Power', \n",
    "                         aggfunc='count').plot(kind='bar', \n",
    "                                               grid=True, \n",
    "                                               title= f'Распределение признака {i}', \n",
    "                                               colormap=\"turbo\", figsize=(12,4));\n",
    "    plt.ylabel('Количество')\n",
    "    plt.show()"
   ]
  },
  {
   "cell_type": "markdown",
   "metadata": {},
   "source": [
    "**Выводы по изучению данных:**\n",
    "- В столбцах \"VehicleType\", \"Gearbox\", \"Model\", \"FuelType\", \"Repaired\" имеются пропуски. Их необходимо обработать.\n",
    "- В столбце \"Power\" можно наблюдать аномальные значения как в большую так и в меньшую сторону.\n",
    "- В столбцах \"Price\", \"Power\" имеются нулевые значения. Данные строки необходимо обработать.\n",
    "- Столбец \"NumberOfPictures\" неинформативен ввиду отсутствия каких-либо значений. Данный столбец удалим.\n",
    "- Столбцы \"DateCrawled\", \"PostalCode\", \"LastSeen\", \"DateCreated\" неинформативны для предсказания целевого признака \"Price\" (цена (евро)). Данные столбцы удалим.\n",
    "- Столбец \"RegistrationMonth\" не информативен, ввиду наличия данных о годе регистрации автомобиля, месяц регистрации автомобиля без года бессмыслен. Удалим его.\n",
    "- Данные в столбце \"RegistrationYear\" имеют аномальные значения. Необходимо обработать это."
   ]
  },
  {
   "cell_type": "markdown",
   "metadata": {},
   "source": [
    "### Проверим данные на наличие неявных дубликатов и ошибок в данных"
   ]
  },
  {
   "cell_type": "code",
   "execution_count": 9,
   "metadata": {},
   "outputs": [
    {
     "data": {
      "text/plain": [
       "array([nan, 'coupe', 'suv', 'small', 'sedan', 'convertible', 'bus',\n",
       "       'wagon', 'other'], dtype=object)"
      ]
     },
     "execution_count": 9,
     "metadata": {},
     "output_type": "execute_result"
    }
   ],
   "source": [
    "data['VehicleType'].unique()"
   ]
  },
  {
   "cell_type": "code",
   "execution_count": 10,
   "metadata": {},
   "outputs": [
    {
     "data": {
      "text/plain": [
       "array(['manual', 'auto', nan], dtype=object)"
      ]
     },
     "execution_count": 10,
     "metadata": {},
     "output_type": "execute_result"
    }
   ],
   "source": [
    "data['Gearbox'].unique()"
   ]
  },
  {
   "cell_type": "code",
   "execution_count": 11,
   "metadata": {},
   "outputs": [
    {
     "data": {
      "text/plain": [
       "array(['golf', nan, 'grand', 'fabia', '3er', '2_reihe', 'other', 'c_max',\n",
       "       '3_reihe', 'passat', 'navara', 'ka', 'polo', 'twingo', 'a_klasse',\n",
       "       'scirocco', '5er', 'meriva', 'arosa', 'c4', 'civic', 'transporter',\n",
       "       'punto', 'e_klasse', 'clio', 'kadett', 'kangoo', 'corsa', 'one',\n",
       "       'fortwo', '1er', 'b_klasse', 'signum', 'astra', 'a8', 'jetta',\n",
       "       'fiesta', 'c_klasse', 'micra', 'vito', 'sprinter', '156', 'escort',\n",
       "       'forester', 'xc_reihe', 'scenic', 'a4', 'a1', 'insignia', 'combo',\n",
       "       'focus', 'tt', 'a6', 'jazz', 'omega', 'slk', '7er', '80', '147',\n",
       "       '100', 'z_reihe', 'sportage', 'sorento', 'v40', 'ibiza', 'mustang',\n",
       "       'eos', 'touran', 'getz', 'a3', 'almera', 'megane', 'lupo', 'r19',\n",
       "       'zafira', 'caddy', 'mondeo', 'cordoba', 'colt', 'impreza',\n",
       "       'vectra', 'berlingo', 'tiguan', 'i_reihe', 'espace', 'sharan',\n",
       "       '6_reihe', 'panda', 'up', 'seicento', 'ceed', '5_reihe', 'yeti',\n",
       "       'octavia', 'mii', 'rx_reihe', '6er', 'modus', 'fox', 'matiz',\n",
       "       'beetle', 'c1', 'rio', 'touareg', 'logan', 'spider', 'cuore',\n",
       "       's_max', 'a2', 'galaxy', 'c3', 'viano', 's_klasse', '1_reihe',\n",
       "       'avensis', 'roomster', 'sl', 'kaefer', 'santa', 'cooper', 'leon',\n",
       "       '4_reihe', 'a5', '500', 'laguna', 'ptcruiser', 'clk', 'primera',\n",
       "       'x_reihe', 'exeo', '159', 'transit', 'juke', 'qashqai', 'carisma',\n",
       "       'accord', 'corolla', 'lanos', 'phaeton', 'verso', 'swift', 'rav',\n",
       "       'picanto', 'boxster', 'kalos', 'superb', 'stilo', 'alhambra',\n",
       "       'mx_reihe', 'roadster', 'ypsilon', 'cayenne', 'galant', 'justy',\n",
       "       '90', 'sirion', 'crossfire', 'agila', 'duster', 'cr_reihe', 'v50',\n",
       "       'c_reihe', 'v_klasse', 'm_klasse', 'yaris', 'c5', 'aygo', 'cc',\n",
       "       'carnival', 'fusion', '911', 'bora', 'forfour', 'm_reihe', 'cl',\n",
       "       'tigra', '300c', 'spark', 'v70', 'kuga', 'x_type', 'ducato',\n",
       "       's_type', 'x_trail', 'toledo', 'altea', 'voyager', 'calibra',\n",
       "       'bravo', 'antara', 'tucson', 'citigo', 'jimny', 'wrangler',\n",
       "       'lybra', 'q7', 'lancer', 'captiva', 'c2', 'discovery',\n",
       "       'freelander', 'sandero', 'note', '900', 'cherokee', 'clubman',\n",
       "       'samara', 'defender', '601', 'cx_reihe', 'legacy', 'pajero',\n",
       "       'auris', 'niva', 's60', 'nubira', 'vivaro', 'g_klasse', 'lodgy',\n",
       "       '850', 'range_rover', 'q3', 'serie_2', 'glk', 'charade', 'croma',\n",
       "       'outlander', 'doblo', 'musa', 'move', '9000', 'v60', '145', 'aveo',\n",
       "       '200', 'b_max', 'range_rover_sport', 'terios', 'rangerover', 'q5',\n",
       "       'range_rover_evoque', 'materia', 'delta', 'gl', 'kalina', 'amarok',\n",
       "       'elefantino', 'i3', 'kappa', 'serie_3', 'serie_1'], dtype=object)"
      ]
     },
     "execution_count": 11,
     "metadata": {},
     "output_type": "execute_result"
    }
   ],
   "source": [
    "data['Model'].unique()"
   ]
  },
  {
   "cell_type": "code",
   "execution_count": 12,
   "metadata": {},
   "outputs": [
    {
     "data": {
      "text/plain": [
       "array(['petrol', 'gasoline', nan, 'lpg', 'other', 'hybrid', 'cng',\n",
       "       'electric'], dtype=object)"
      ]
     },
     "execution_count": 12,
     "metadata": {},
     "output_type": "execute_result"
    }
   ],
   "source": [
    "data['FuelType'].unique()"
   ]
  },
  {
   "cell_type": "code",
   "execution_count": 13,
   "metadata": {},
   "outputs": [
    {
     "data": {
      "text/plain": [
       "array(['volkswagen', 'audi', 'jeep', 'skoda', 'bmw', 'peugeot', 'ford',\n",
       "       'mazda', 'nissan', 'renault', 'mercedes_benz', 'opel', 'seat',\n",
       "       'citroen', 'honda', 'fiat', 'mini', 'smart', 'hyundai',\n",
       "       'sonstige_autos', 'alfa_romeo', 'subaru', 'volvo', 'mitsubishi',\n",
       "       'kia', 'suzuki', 'lancia', 'toyota', 'chevrolet', 'dacia',\n",
       "       'daihatsu', 'trabant', 'saab', 'chrysler', 'jaguar', 'daewoo',\n",
       "       'porsche', 'rover', 'land_rover', 'lada'], dtype=object)"
      ]
     },
     "execution_count": 13,
     "metadata": {},
     "output_type": "execute_result"
    }
   ],
   "source": [
    "data['Brand'].unique()"
   ]
  },
  {
   "cell_type": "code",
   "execution_count": 14,
   "metadata": {},
   "outputs": [
    {
     "data": {
      "text/plain": [
       "array([nan, 'yes', 'no'], dtype=object)"
      ]
     },
     "execution_count": 14,
     "metadata": {},
     "output_type": "execute_result"
    }
   ],
   "source": [
    "data['Repaired'].unique()"
   ]
  },
  {
   "cell_type": "markdown",
   "metadata": {},
   "source": [
    "### Проверим данные на наличие явных дубликатов"
   ]
  },
  {
   "cell_type": "code",
   "execution_count": 15,
   "metadata": {},
   "outputs": [
    {
     "name": "stdout",
     "output_type": "stream",
     "text": [
      "Количество явных дубликатов в датасете: 4\n"
     ]
    }
   ],
   "source": [
    "print('Количество явных дубликатов в датасете:', data.duplicated().sum())"
   ]
  },
  {
   "cell_type": "code",
   "execution_count": 16,
   "metadata": {},
   "outputs": [],
   "source": [
    "data = data.drop_duplicates()"
   ]
  },
  {
   "cell_type": "markdown",
   "metadata": {},
   "source": [
    "### Обработаем пропуски и аномалии"
   ]
  },
  {
   "cell_type": "markdown",
   "metadata": {},
   "source": [
    "**Признак 'Price'**"
   ]
  },
  {
   "cell_type": "markdown",
   "metadata": {},
   "source": [
    "Необходимо избавиться от строк в столбце \"Price\" с аномальными значениями ниже 300 и свыше 8000 евро."
   ]
  },
  {
   "cell_type": "code",
   "execution_count": 17,
   "metadata": {},
   "outputs": [],
   "source": [
    "data = data.query('300 < Price < 8000')"
   ]
  },
  {
   "cell_type": "markdown",
   "metadata": {},
   "source": [
    "**Признак 'Power'**"
   ]
  },
  {
   "cell_type": "markdown",
   "metadata": {},
   "source": [
    "Строки с нулевыми значениями и значениями свыше 1000 л.с. в столбце \"Power\" заменим на медианное значение в зависимости от модели машины. Также учтем машины с мощностью менее 10 л.с., их также заменим на медианное значение."
   ]
  },
  {
   "cell_type": "code",
   "execution_count": 18,
   "metadata": {},
   "outputs": [],
   "source": [
    "data.loc[(data['Power'] < 10) | (data['Power'] > 1000), 'Power'] = None\n",
    "data['Power'] = data['Power'].fillna(data.groupby('Model')['Power'].transform('median'))"
   ]
  },
  {
   "cell_type": "code",
   "execution_count": 19,
   "metadata": {},
   "outputs": [
    {
     "data": {
      "text/plain": [
       "3880"
      ]
     },
     "execution_count": 19,
     "metadata": {},
     "output_type": "execute_result"
    }
   ],
   "source": [
    "#data.info()\n",
    "data['Power'].isna().sum()"
   ]
  },
  {
   "cell_type": "code",
   "execution_count": 20,
   "metadata": {},
   "outputs": [],
   "source": [
    "data = data.loc[~data['Power'].isna()]"
   ]
  },
  {
   "cell_type": "markdown",
   "metadata": {},
   "source": [
    "**Признак 'Gearbox'**"
   ]
  },
  {
   "cell_type": "markdown",
   "metadata": {},
   "source": [
    "Заменим пропущенные значения на 'manual'"
   ]
  },
  {
   "cell_type": "code",
   "execution_count": 21,
   "metadata": {},
   "outputs": [],
   "source": [
    "data.fillna({'Gearbox':'manual'}, inplace=True)"
   ]
  },
  {
   "cell_type": "markdown",
   "metadata": {},
   "source": [
    "**Признак 'VehicleType'**"
   ]
  },
  {
   "cell_type": "markdown",
   "metadata": {},
   "source": [
    "Заменим пропущенные значения на 'other'"
   ]
  },
  {
   "cell_type": "code",
   "execution_count": 22,
   "metadata": {},
   "outputs": [],
   "source": [
    "data.fillna({'VehicleType':'other'}, inplace=True)"
   ]
  },
  {
   "cell_type": "markdown",
   "metadata": {},
   "source": [
    "**Признаки 'Model', 'FuelType', 'Repaired'**"
   ]
  },
  {
   "cell_type": "markdown",
   "metadata": {},
   "source": [
    "Заменим пропущенные значения на 'unknown', а в столбеце 'Repaired' заменим пропущенные занчения на 'yes', так как подержанное авто, скорее всего, хоть один раз подвергалось ремонту."
   ]
  },
  {
   "cell_type": "code",
   "execution_count": 23,
   "metadata": {},
   "outputs": [],
   "source": [
    "data.fillna({'Model':'unknown',\n",
    "             'Repaired':'yes',\n",
    "             'FuelType':'unknown'}, inplace=True)"
   ]
  },
  {
   "cell_type": "markdown",
   "metadata": {},
   "source": [
    "**Признак 'RegistrationYear'**"
   ]
  },
  {
   "cell_type": "markdown",
   "metadata": {},
   "source": [
    "Отберем года релевантные под задачу. Оставим период с 1900 и по последний год с даты выгрузки данных."
   ]
  },
  {
   "cell_type": "code",
   "execution_count": 24,
   "metadata": {},
   "outputs": [
    {
     "name": "stdout",
     "output_type": "stream",
     "text": [
      "2016-04-07 14:36:58\n"
     ]
    }
   ],
   "source": [
    "# Выведем последнюю дату выгрузки данных\n",
    "print(pd.to_datetime(data['DateCrawled']).max())"
   ]
  },
  {
   "cell_type": "code",
   "execution_count": 25,
   "metadata": {},
   "outputs": [],
   "source": [
    "data = data.query('1900 <= RegistrationYear <= 2016')"
   ]
  },
  {
   "cell_type": "markdown",
   "metadata": {},
   "source": [
    "**Удалим неинформативные столбцы**"
   ]
  },
  {
   "cell_type": "code",
   "execution_count": 26,
   "metadata": {},
   "outputs": [],
   "source": [
    "data = data.drop([\"NumberOfPictures\", \n",
    "                   \"DateCrawled\", \n",
    "                   \"PostalCode\", \n",
    "                   \"LastSeen\",\n",
    "                   \"RegistrationMonth\", \n",
    "                   \"DateCreated\"], axis = 1)"
   ]
  },
  {
   "cell_type": "code",
   "execution_count": 27,
   "metadata": {},
   "outputs": [
    {
     "name": "stdout",
     "output_type": "stream",
     "text": [
      "<class 'pandas.core.frame.DataFrame'>\n",
      "Int64Index: 248130 entries, 0 to 354368\n",
      "Data columns (total 10 columns):\n",
      " #   Column            Non-Null Count   Dtype  \n",
      "---  ------            --------------   -----  \n",
      " 0   Price             248130 non-null  int64  \n",
      " 1   VehicleType       248130 non-null  object \n",
      " 2   RegistrationYear  248130 non-null  int64  \n",
      " 3   Gearbox           248130 non-null  object \n",
      " 4   Power             248130 non-null  float64\n",
      " 5   Model             248130 non-null  object \n",
      " 6   Kilometer         248130 non-null  int64  \n",
      " 7   FuelType          248130 non-null  object \n",
      " 8   Brand             248130 non-null  object \n",
      " 9   Repaired          248130 non-null  object \n",
      "dtypes: float64(1), int64(3), object(6)\n",
      "memory usage: 20.8+ MB\n"
     ]
    }
   ],
   "source": [
    "data.info()"
   ]
  },
  {
   "cell_type": "code",
   "execution_count": 28,
   "metadata": {},
   "outputs": [
    {
     "data": {
      "text/html": [
       "<div>\n",
       "<style scoped>\n",
       "    .dataframe tbody tr th:only-of-type {\n",
       "        vertical-align: middle;\n",
       "    }\n",
       "\n",
       "    .dataframe tbody tr th {\n",
       "        vertical-align: top;\n",
       "    }\n",
       "\n",
       "    .dataframe thead th {\n",
       "        text-align: right;\n",
       "    }\n",
       "</style>\n",
       "<table border=\"1\" class=\"dataframe\">\n",
       "  <thead>\n",
       "    <tr style=\"text-align: right;\">\n",
       "      <th></th>\n",
       "      <th>Price</th>\n",
       "      <th>VehicleType</th>\n",
       "      <th>RegistrationYear</th>\n",
       "      <th>Gearbox</th>\n",
       "      <th>Power</th>\n",
       "      <th>Model</th>\n",
       "      <th>Kilometer</th>\n",
       "      <th>FuelType</th>\n",
       "      <th>Brand</th>\n",
       "      <th>Repaired</th>\n",
       "    </tr>\n",
       "  </thead>\n",
       "  <tbody>\n",
       "    <tr>\n",
       "      <th>0</th>\n",
       "      <td>480</td>\n",
       "      <td>other</td>\n",
       "      <td>1993</td>\n",
       "      <td>manual</td>\n",
       "      <td>90.0</td>\n",
       "      <td>golf</td>\n",
       "      <td>150000</td>\n",
       "      <td>petrol</td>\n",
       "      <td>volkswagen</td>\n",
       "      <td>yes</td>\n",
       "    </tr>\n",
       "    <tr>\n",
       "      <th>3</th>\n",
       "      <td>1500</td>\n",
       "      <td>small</td>\n",
       "      <td>2001</td>\n",
       "      <td>manual</td>\n",
       "      <td>75.0</td>\n",
       "      <td>golf</td>\n",
       "      <td>150000</td>\n",
       "      <td>petrol</td>\n",
       "      <td>volkswagen</td>\n",
       "      <td>no</td>\n",
       "    </tr>\n",
       "    <tr>\n",
       "      <th>4</th>\n",
       "      <td>3600</td>\n",
       "      <td>small</td>\n",
       "      <td>2008</td>\n",
       "      <td>manual</td>\n",
       "      <td>69.0</td>\n",
       "      <td>fabia</td>\n",
       "      <td>90000</td>\n",
       "      <td>gasoline</td>\n",
       "      <td>skoda</td>\n",
       "      <td>no</td>\n",
       "    </tr>\n",
       "    <tr>\n",
       "      <th>5</th>\n",
       "      <td>650</td>\n",
       "      <td>sedan</td>\n",
       "      <td>1995</td>\n",
       "      <td>manual</td>\n",
       "      <td>102.0</td>\n",
       "      <td>3er</td>\n",
       "      <td>150000</td>\n",
       "      <td>petrol</td>\n",
       "      <td>bmw</td>\n",
       "      <td>yes</td>\n",
       "    </tr>\n",
       "    <tr>\n",
       "      <th>6</th>\n",
       "      <td>2200</td>\n",
       "      <td>convertible</td>\n",
       "      <td>2004</td>\n",
       "      <td>manual</td>\n",
       "      <td>109.0</td>\n",
       "      <td>2_reihe</td>\n",
       "      <td>150000</td>\n",
       "      <td>petrol</td>\n",
       "      <td>peugeot</td>\n",
       "      <td>no</td>\n",
       "    </tr>\n",
       "  </tbody>\n",
       "</table>\n",
       "</div>"
      ],
      "text/plain": [
       "   Price  VehicleType  RegistrationYear Gearbox  Power    Model  Kilometer  \\\n",
       "0    480        other              1993  manual   90.0     golf     150000   \n",
       "3   1500        small              2001  manual   75.0     golf     150000   \n",
       "4   3600        small              2008  manual   69.0    fabia      90000   \n",
       "5    650        sedan              1995  manual  102.0      3er     150000   \n",
       "6   2200  convertible              2004  manual  109.0  2_reihe     150000   \n",
       "\n",
       "   FuelType       Brand Repaired  \n",
       "0    petrol  volkswagen      yes  \n",
       "3    petrol  volkswagen       no  \n",
       "4  gasoline       skoda       no  \n",
       "5    petrol         bmw      yes  \n",
       "6    petrol     peugeot       no  "
      ]
     },
     "execution_count": 28,
     "metadata": {},
     "output_type": "execute_result"
    }
   ],
   "source": [
    "data.head()"
   ]
  },
  {
   "cell_type": "code",
   "execution_count": 29,
   "metadata": {},
   "outputs": [
    {
     "name": "stdout",
     "output_type": "stream",
     "text": [
      "Количество явных дубликатов в измененном датасете: 37240\n"
     ]
    }
   ],
   "source": [
    "# Проверим еще раз данные на наличие явнях дубликатов после всех изменений\n",
    "print('Количество явных дубликатов в измененном датасете:', data.duplicated().sum())"
   ]
  },
  {
   "cell_type": "code",
   "execution_count": 30,
   "metadata": {},
   "outputs": [],
   "source": [
    "data = data.drop_duplicates()"
   ]
  },
  {
   "cell_type": "markdown",
   "metadata": {},
   "source": [
    "**Выводы по предподготовке данных:**\n",
    "- Избавились от дубликатов;\n",
    "- Столбцы с аномальными значениями были обработаны (Избавились от строк в столбце \"Price\" с аномальными значениями ниже 300 и свыше 8000 евро. Строки с нулевыми значениями и значениями свыше 1000 л.с. в столбце \"Power\" заменили на медианное значение в зависимости от модели машины. Учли машины с мощностью менее 10 л.с., их также заменили на медианное значение. В столбце 'Gearbox' заменили пропущенные значения на 'manual'. В столбце  'VehicleType' заменили пропущенные значения на 'other'. В столбце 'RegistrationYear' отобрали года релевантные под задачу, оставили период с 1900 по 2024 гг.)\n",
    "- Удалили неинформативные признаки."
   ]
  },
  {
   "cell_type": "markdown",
   "metadata": {},
   "source": [
    "### Выполним анализ корреляции датасета"
   ]
  },
  {
   "cell_type": "code",
   "execution_count": 31,
   "metadata": {},
   "outputs": [
    {
     "data": {
      "image/png": "[encoded data removed]",
      "text/plain": [
       "<Figure size 720x576 with 2 Axes>"
      ]
     },
     "metadata": {
      "needs_background": "light"
     },
     "output_type": "display_data"
    }
   ],
   "source": [
    "# Вычислим матрицу корреляции с использованием phik\n",
    "corr_matrix = data.phik_matrix(interval_cols=['Price', 'Power'])\n",
    "\n",
    "# Визуализируем матрицу корреляции\n",
    "plt.figure(figsize=(10, 8))\n",
    "sns.heatmap(corr_matrix, cmap='coolwarm', center=0, annot=True)\n",
    "plt.title('Phi_K Correlation Matrix')\n",
    "plt.show()"
   ]
  },
  {
   "cell_type": "markdown",
   "metadata": {},
   "source": [
    "Можно отметить сильную прямая взаимосвязь между следующими признаками:\n",
    "- `Model` и `VehicleType`;\n",
    "- `Model` и `RegistrationYear`;\n",
    "- `Model` и `Power`;\n",
    "- `Model` и `Brand`."
   ]
  },
  {
   "cell_type": "markdown",
   "metadata": {},
   "source": [
    "## Обучение моделей"
   ]
  },
  {
   "cell_type": "markdown",
   "metadata": {},
   "source": [
    "На данном этапе подготовим признаками методами кодирования и стандартизации.\n",
    "\n",
    "Обучим следующие модели: LinearRegression, DecisionTreeRegressor, LGBMRegressor, CatBoostRegressor."
   ]
  },
  {
   "cell_type": "code",
   "execution_count": 32,
   "metadata": {},
   "outputs": [
    {
     "data": {
      "text/html": [
       "<div>\n",
       "<style scoped>\n",
       "    .dataframe tbody tr th:only-of-type {\n",
       "        vertical-align: middle;\n",
       "    }\n",
       "\n",
       "    .dataframe tbody tr th {\n",
       "        vertical-align: top;\n",
       "    }\n",
       "\n",
       "    .dataframe thead th {\n",
       "        text-align: right;\n",
       "    }\n",
       "</style>\n",
       "<table border=\"1\" class=\"dataframe\">\n",
       "  <thead>\n",
       "    <tr style=\"text-align: right;\">\n",
       "      <th></th>\n",
       "      <th>Price</th>\n",
       "      <th>VehicleType</th>\n",
       "      <th>RegistrationYear</th>\n",
       "      <th>Gearbox</th>\n",
       "      <th>Power</th>\n",
       "      <th>Model</th>\n",
       "      <th>Kilometer</th>\n",
       "      <th>FuelType</th>\n",
       "      <th>Brand</th>\n",
       "      <th>Repaired</th>\n",
       "    </tr>\n",
       "  </thead>\n",
       "  <tbody>\n",
       "    <tr>\n",
       "      <th>0</th>\n",
       "      <td>480</td>\n",
       "      <td>other</td>\n",
       "      <td>1993</td>\n",
       "      <td>manual</td>\n",
       "      <td>90.0</td>\n",
       "      <td>golf</td>\n",
       "      <td>150000</td>\n",
       "      <td>petrol</td>\n",
       "      <td>volkswagen</td>\n",
       "      <td>yes</td>\n",
       "    </tr>\n",
       "    <tr>\n",
       "      <th>3</th>\n",
       "      <td>1500</td>\n",
       "      <td>small</td>\n",
       "      <td>2001</td>\n",
       "      <td>manual</td>\n",
       "      <td>75.0</td>\n",
       "      <td>golf</td>\n",
       "      <td>150000</td>\n",
       "      <td>petrol</td>\n",
       "      <td>volkswagen</td>\n",
       "      <td>no</td>\n",
       "    </tr>\n",
       "    <tr>\n",
       "      <th>4</th>\n",
       "      <td>3600</td>\n",
       "      <td>small</td>\n",
       "      <td>2008</td>\n",
       "      <td>manual</td>\n",
       "      <td>69.0</td>\n",
       "      <td>fabia</td>\n",
       "      <td>90000</td>\n",
       "      <td>gasoline</td>\n",
       "      <td>skoda</td>\n",
       "      <td>no</td>\n",
       "    </tr>\n",
       "  </tbody>\n",
       "</table>\n",
       "</div>"
      ],
      "text/plain": [
       "   Price VehicleType  RegistrationYear Gearbox  Power  Model  Kilometer  \\\n",
       "0    480       other              1993  manual   90.0   golf     150000   \n",
       "3   1500       small              2001  manual   75.0   golf     150000   \n",
       "4   3600       small              2008  manual   69.0  fabia      90000   \n",
       "\n",
       "   FuelType       Brand Repaired  \n",
       "0    petrol  volkswagen      yes  \n",
       "3    petrol  volkswagen       no  \n",
       "4  gasoline       skoda       no  "
      ]
     },
     "execution_count": 32,
     "metadata": {},
     "output_type": "execute_result"
    }
   ],
   "source": [
    "data.head(3)"
   ]
  },
  {
   "cell_type": "code",
   "execution_count": 33,
   "metadata": {},
   "outputs": [
    {
     "data": {
      "text/plain": [
       "(210890, 10)"
      ]
     },
     "execution_count": 33,
     "metadata": {},
     "output_type": "execute_result"
    }
   ],
   "source": [
    "data.shape"
   ]
  },
  {
   "cell_type": "markdown",
   "metadata": {},
   "source": [
    "### Выполним подготовку данных для дальнейшего обучения моделей"
   ]
  },
  {
   "cell_type": "code",
   "execution_count": 34,
   "metadata": {},
   "outputs": [],
   "source": [
    "# Загружаем данные \n",
    "feature = data.drop('Price', axis=1)\n",
    "target = data['Price']"
   ]
  },
  {
   "cell_type": "code",
   "execution_count": 35,
   "metadata": {},
   "outputs": [],
   "source": [
    "# Разделим на выборки\n",
    "feature_train, feature_test, target_train, target_test = train_test_split(feature, \n",
    "                                                                          target, \n",
    "                                                                          test_size = TEST_SIZE, \n",
    "                                                                          random_state = RANDOM_STATE)"
   ]
  },
  {
   "cell_type": "code",
   "execution_count": 36,
   "metadata": {},
   "outputs": [
    {
     "name": "stdout",
     "output_type": "stream",
     "text": [
      "(158167, 9)\n",
      "(52723, 9)\n",
      "(158167,)\n",
      "(52723,)\n"
     ]
    }
   ],
   "source": [
    "for i in [feature_train, feature_test, target_train, target_test]:\n",
    "    print(i.shape)  "
   ]
  },
  {
   "cell_type": "code",
   "execution_count": 37,
   "metadata": {},
   "outputs": [],
   "source": [
    "# Закодируем признаки с помощью OneHotEncoder\n",
    "cat_col_names = ['VehicleType', 'Model', 'FuelType', 'Brand', 'Gearbox', 'Repaired']\n",
    "# Создадим переменную с классом кодирования, включим параметр для избегания дамми-ошибок\n",
    "encoder1 = OneHotEncoder(drop='first', sparse=False)\n",
    "feature_train_ohe = encoder1.fit_transform(feature_train[cat_col_names])\n",
    "# Преобразуем категориальные признаки в тренировочной выборке\n",
    "feature_test_ohe = encoder1.transform(feature_test[cat_col_names])"
   ]
  },
  {
   "cell_type": "code",
   "execution_count": 38,
   "metadata": {},
   "outputs": [],
   "source": [
    "# Выведем список новых столбцов после кодирования\n",
    "encoder_col_names = encoder1.get_feature_names()\n",
    "\n",
    "feature_train_ohe = pd.DataFrame(feature_train_ohe, columns=encoder_col_names)\n",
    "feature_test_ohe = pd.DataFrame(feature_test_ohe, columns=encoder_col_names)"
   ]
  },
  {
   "cell_type": "code",
   "execution_count": 39,
   "metadata": {},
   "outputs": [],
   "source": [
    "# Закодируем признаки с помощью OrdinalEncoder\n",
    "encoder2 = OrdinalEncoder(handle_unknown='ignore')\n",
    "columns_oe = ['VehicleType', 'Model', 'FuelType', 'Brand', 'Gearbox', 'Repaired']\n",
    "# Кодирование для тренировочных данных\n",
    "oe_feature_train = encoder2.fit_transform(feature_train[columns_oe])\n",
    "# Кодирование для тестовых данных\n",
    "oe_feature_test = encoder2.transform(feature_test[columns_oe])"
   ]
  },
  {
   "cell_type": "code",
   "execution_count": 40,
   "metadata": {},
   "outputs": [],
   "source": [
    "# Выведем список новых столбцов после кодирования с помощью OrdinalEncoder\n",
    "oe_feature_train = pd.DataFrame(oe_feature_train, columns=columns_oe)\n",
    "oe_feature_test = pd.DataFrame(oe_feature_test, columns=columns_oe)"
   ]
  },
  {
   "cell_type": "code",
   "execution_count": 41,
   "metadata": {},
   "outputs": [],
   "source": [
    "scaler = StandardScaler()\n",
    "num_col_names = ['RegistrationYear', 'Power', 'Kilometer']\n",
    "# Обучим и преобразуем количественные признаки в тренировочной выборке\n",
    "scaler_feature_train = scaler.fit_transform(feature_train[num_col_names])\n",
    "# Преобразуем количественные признаки в тестовой выборке\n",
    "scaler_feature_test = scaler.transform(feature_test[num_col_names])"
   ]
  },
  {
   "cell_type": "code",
   "execution_count": 42,
   "metadata": {},
   "outputs": [],
   "source": [
    "# Выведем список новых столбцов после стандартизации\n",
    "scaler_feature_train = pd.DataFrame(scaler_feature_train, columns=num_col_names)\n",
    "scaler_feature_test = pd.DataFrame(scaler_feature_test, columns=num_col_names)"
   ]
  },
  {
   "cell_type": "code",
   "execution_count": 43,
   "metadata": {},
   "outputs": [],
   "source": [
    "# Объединим полученные закодированные данные с помощью  OneHotEncoder и стандартизованные данные\n",
    "\n",
    "OHE_feature_train = pd.concat([feature_train_ohe, feature_train[num_col_names].sort_index().reset_index(drop=True)], axis=1)\n",
    "OHE_feature_test = pd.concat([feature_test_ohe, feature_test[num_col_names].sort_index().reset_index(drop=True)], axis=1)"
   ]
  },
  {
   "cell_type": "code",
   "execution_count": 45,
   "metadata": {},
   "outputs": [],
   "source": [
    "# Объединим полученные закодированные данные с помощью  OrdinalEncoder и стандартизованные данные\n",
    "\n",
    "OE_feature_train = pd.concat([oe_feature_train, scaler_feature_train], axis=1)\n",
    "OE_feature_test = pd.concat([oe_feature_test, scaler_feature_test], axis=1)"
   ]
  },
  {
   "cell_type": "markdown",
   "metadata": {},
   "source": [
    "### Обучение модели LinearRegression"
   ]
  },
  {
   "cell_type": "code",
   "execution_count": 46,
   "metadata": {},
   "outputs": [],
   "source": [
    "scoring_metrics = make_scorer(mean_squared_error, \n",
    "                              greater_is_better=False,\n",
    "                              squared=False)"
   ]
  },
  {
   "cell_type": "code",
   "execution_count": 47,
   "metadata": {},
   "outputs": [
    {
     "name": "stdout",
     "output_type": "stream",
     "text": [
      "RMSE на модели LinearRegression = 1760.985341068263\n",
      "50.713 сек\n"
     ]
    }
   ],
   "source": [
    "start = time()\n",
    "\n",
    "LR_model = LinearRegression()\n",
    "cv_RMSE_LR = (cross_val_score(LR_model,\n",
    "                           OHE_feature_train,\n",
    "                           target_train,\n",
    "                           cv = 5,\n",
    "                           scoring = scoring_metrics)).mean()*-1\n",
    "           \n",
    "print('RMSE на модели LinearRegression =', cv_RMSE_LR)\n",
    "\n",
    "end = time()\n",
    "LR_model_time = (end-start)\n",
    "print(round(LR_model_time,3),'сек')"
   ]
  },
  {
   "cell_type": "code",
   "execution_count": 48,
   "metadata": {},
   "outputs": [
    {
     "name": "stdout",
     "output_type": "stream",
     "text": [
      "Время обучения модели LinearRegression 11.699 сек\n"
     ]
    }
   ],
   "source": [
    "start = time()\n",
    "LR_model.fit(OHE_feature_train, target_train)\n",
    "end = time()\n",
    "LR_time = (end-start)\n",
    "print('Время обучения модели LinearRegression', round(LR_time,3),'сек')"
   ]
  },
  {
   "cell_type": "code",
   "execution_count": 49,
   "metadata": {},
   "outputs": [
    {
     "name": "stdout",
     "output_type": "stream",
     "text": [
      "Время предсказания модели LinearRegression 0.311 сек\n"
     ]
    }
   ],
   "source": [
    "start = time()\n",
    "LR_predict = LR_model.predict(OHE_feature_train)\n",
    "end = time()\n",
    "LR_predict = (end-start)\n",
    "print('Время предсказания модели LinearRegression', round(LR_predict,3),'сек')"
   ]
  },
  {
   "cell_type": "markdown",
   "metadata": {},
   "source": [
    "### Обучение модели DecisionTreeRegressor"
   ]
  },
  {
   "cell_type": "code",
   "execution_count": 50,
   "metadata": {},
   "outputs": [
    {
     "name": "stdout",
     "output_type": "stream",
     "text": [
      "Лучшие параметры модели DecisionTreeRegressor:\n",
      "\n",
      " {'criterion': 'friedman_mse', 'max_depth': 13}\n",
      "RMSE для лучшей модели DecisionTreeRegressor на CV: 1148.904387774491\n",
      "67.453 сек\n"
     ]
    }
   ],
   "source": [
    "start = time()\n",
    "\n",
    "DTR_model = DecisionTreeRegressor(random_state=RANDOM_STATE)\n",
    "params = [{'criterion':['friedman_mse', 'poisson'],\n",
    "           'max_depth': (None, *range(2, 25))}]\n",
    "\n",
    "clf = GridSearchCV(DTR_model, params, scoring = scoring_metrics)\n",
    "clf.fit(OE_feature_train, target_train)\n",
    "\n",
    "print('Лучшие параметры модели DecisionTreeRegressor:\\n\\n', clf.best_params_)\n",
    "\n",
    "means = clf.cv_results_['mean_test_score']\n",
    "stds = clf.cv_results_['std_test_score']\n",
    "par = clf.cv_results_['params']\n",
    "    \n",
    "cv_RMSE_DTR = (max(means)*-1) \n",
    "print('RMSE для лучшей модели DecisionTreeRegressor на CV:', cv_RMSE_DTR)\n",
    "\n",
    "end = time()\n",
    "DTR_model_time = (end-start)\n",
    "print(round(DTR_model_time,3),'сек')"
   ]
  },
  {
   "cell_type": "code",
   "execution_count": 51,
   "metadata": {},
   "outputs": [
    {
     "name": "stdout",
     "output_type": "stream",
     "text": [
      "Время обучения модели DecisionTreeRegressor 0.342 сек\n"
     ]
    }
   ],
   "source": [
    "start = time()\n",
    "DTR_model = DecisionTreeRegressor(criterion = 'friedman_mse', \n",
    "                                  max_depth = 13,\n",
    "                                  random_state = RANDOM_STATE)\n",
    "DTR_model.fit(OE_feature_train, target_train)\n",
    "end = time()\n",
    "DTR_time = (end-start)\n",
    "print('Время обучения модели DecisionTreeRegressor', round(DTR_time,3),'сек')"
   ]
  },
  {
   "cell_type": "code",
   "execution_count": 52,
   "metadata": {},
   "outputs": [
    {
     "name": "stdout",
     "output_type": "stream",
     "text": [
      "Время предсказания модели DecisionTreeRegressor 0.022 сек\n"
     ]
    }
   ],
   "source": [
    "start = time()\n",
    "DTR_predict = DTR_model.predict(OE_feature_train)\n",
    "end = time()\n",
    "DTR_predict = (end-start)\n",
    "print('Время предсказания модели DecisionTreeRegressor', round(DTR_predict,3),'сек')"
   ]
  },
  {
   "cell_type": "markdown",
   "metadata": {},
   "source": [
    "### Обучение модели LGBMRegressor"
   ]
  },
  {
   "cell_type": "code",
   "execution_count": 53,
   "metadata": {},
   "outputs": [
    {
     "name": "stdout",
     "output_type": "stream",
     "text": [
      "Лучшие параметры модели LGBMRegressor:\n",
      "\n",
      " {'learning_rate': 0.3, 'num_leaves': 75}\n",
      "RMSE для лучшей модели LGBMRegressor на CV: 996.4799080459118\n",
      "137.895 сек\n"
     ]
    }
   ],
   "source": [
    "start = time()\n",
    "\n",
    "LGBMR_model = LGBMRegressor(random_state=RANDOM_STATE)\n",
    "params = [{'num_leaves':[25, 50, 75], \n",
    "           'learning_rate':[0.1, 0.3]}]\n",
    "\n",
    "clf = GridSearchCV(LGBMR_model, params, scoring = scoring_metrics)\n",
    "clf.fit(OE_feature_train, target_train)\n",
    "\n",
    "print('Лучшие параметры модели LGBMRegressor:\\n\\n', clf.best_params_)\n",
    "\n",
    "means = clf.cv_results_['mean_test_score']\n",
    "stds = clf.cv_results_['std_test_score']\n",
    "par = clf.cv_results_['params']\n",
    "\n",
    "cv_RMSE_LGBMR = (max(means)*-1) \n",
    "print('RMSE для лучшей модели LGBMRegressor на CV:', cv_RMSE_LGBMR)\n",
    "\n",
    "end = time()\n",
    "LGBMR_model_time = (end-start)\n",
    "print(round(LGBMR_model_time,3),'сек')"
   ]
  },
  {
   "cell_type": "code",
   "execution_count": 54,
   "metadata": {},
   "outputs": [
    {
     "name": "stdout",
     "output_type": "stream",
     "text": [
      "Время обучения модели LGBMRegressor 4.894 сек\n"
     ]
    }
   ],
   "source": [
    "start = time()\n",
    "LGBMR_model = LGBMRegressor(learning_rate = 0.3, \n",
    "                            num_leaves = 75,\n",
    "                            random_state = RANDOM_STATE)\n",
    "LGBMR_model.fit(OE_feature_train, target_train)\n",
    "end = time()\n",
    "LGBMR_time = (end-start)\n",
    "print('Время обучения модели LGBMRegressor', round(LGBMR_time,3),'сек')"
   ]
  },
  {
   "cell_type": "code",
   "execution_count": 55,
   "metadata": {},
   "outputs": [
    {
     "name": "stdout",
     "output_type": "stream",
     "text": [
      "Время предсказания модели LGBMRegressor 1.001 сек\n"
     ]
    }
   ],
   "source": [
    "start = time()\n",
    "LGBMR_predict = LGBMR_model.predict(OE_feature_train)\n",
    "end = time()\n",
    "LGBMR_predict = (end-start)\n",
    "print('Время предсказания модели LGBMRegressor', round(LGBMR_predict,3),'сек')"
   ]
  },
  {
   "cell_type": "markdown",
   "metadata": {},
   "source": [
    "### Обучение модели CatBoostRegressor"
   ]
  },
  {
   "cell_type": "code",
   "execution_count": 56,
   "metadata": {},
   "outputs": [
    {
     "name": "stdout",
     "output_type": "stream",
     "text": [
      "Лучшие параметры модели CatBoostRegressor:\n",
      "\n",
      " {'learning_rate': 0.3, 'verbose': False}\n",
      "RMSE для лучшей модели CatBoostRegressor на CV: 987.3287133096577\n",
      "313.155 сек\n"
     ]
    }
   ],
   "source": [
    "start = time()\n",
    "\n",
    "CBR_model = CatBoostRegressor(random_state=RANDOM_STATE)\n",
    "params = [{'learning_rate':[0.1, 0.3, 0.5, 0.7],\n",
    "           'verbose':[False]}]\n",
    "\n",
    "clf = GridSearchCV(CBR_model, params, scoring = scoring_metrics)\n",
    "clf.fit(OE_feature_train, target_train)\n",
    "\n",
    "print('Лучшие параметры модели CatBoostRegressor:\\n\\n', clf.best_params_)\n",
    "\n",
    "means = clf.cv_results_['mean_test_score']\n",
    "stds = clf.cv_results_['std_test_score']\n",
    "par = clf.cv_results_['params']\n",
    "\n",
    "cv_RMSE_CBR = (max(means)*-1) \n",
    "print('RMSE для лучшей модели CatBoostRegressor на CV:', cv_RMSE_CBR)\n",
    "\n",
    "end = time()\n",
    "CBR_model_time = (end-start)\n",
    "print(round(CBR_model_time,3),'сек')"
   ]
  },
  {
   "cell_type": "code",
   "execution_count": 57,
   "metadata": {},
   "outputs": [
    {
     "name": "stdout",
     "output_type": "stream",
     "text": [
      "Время обучения модели CatBoostRegressor 17.796 сек\n"
     ]
    }
   ],
   "source": [
    "start = time()\n",
    "CBR_model = CatBoostRegressor(learning_rate = 0.3, \n",
    "                              verbose = False,\n",
    "                              random_state = RANDOM_STATE)\n",
    "CBR_model.fit(OE_feature_train, target_train)\n",
    "end = time()\n",
    "CBR_time = (end-start)\n",
    "print('Время обучения модели CatBoostRegressor', round(CBR_time,3),'сек')"
   ]
  },
  {
   "cell_type": "code",
   "execution_count": 58,
   "metadata": {},
   "outputs": [
    {
     "name": "stdout",
     "output_type": "stream",
     "text": [
      "Время предсказания модели CatBoostRegressor 0.146 сек\n"
     ]
    }
   ],
   "source": [
    "start = time()\n",
    "CBR_predict = CBR_model.predict(OE_feature_train)\n",
    "end = time()\n",
    "CBR_predict = (end-start)\n",
    "print('Время предсказания модели CatBoostRegressor', round(CBR_predict,3),'сек')"
   ]
  },
  {
   "cell_type": "markdown",
   "metadata": {},
   "source": [
    "### Выводы по обучению моделей:\n",
    "- Выполнено кодирование и стандартизация данных;\n",
    "- Обучили следующие модели: \n",
    "      - LinearRegression\n",
    "      - DecisionTreeRegressor\n",
    "      - LGBMRegressor\n",
    "      - CatBoostRegressor\n",
    "- Зафиксировали лучшие гиперпараметры моделей;\n",
    "- Зафиксировали время выполнения обучений и предсказания моделей."
   ]
  },
  {
   "cell_type": "markdown",
   "metadata": {},
   "source": [
    "## Анализ моделей"
   ]
  },
  {
   "cell_type": "markdown",
   "metadata": {},
   "source": [
    "Выведем время выполнения обучений моделей и метрику RMSE на тестовых данных"
   ]
  },
  {
   "cell_type": "code",
   "execution_count": 59,
   "metadata": {},
   "outputs": [
    {
     "data": {
      "text/html": [
       "<div>\n",
       "<style scoped>\n",
       "    .dataframe tbody tr th:only-of-type {\n",
       "        vertical-align: middle;\n",
       "    }\n",
       "\n",
       "    .dataframe tbody tr th {\n",
       "        vertical-align: top;\n",
       "    }\n",
       "\n",
       "    .dataframe thead th {\n",
       "        text-align: right;\n",
       "    }\n",
       "</style>\n",
       "<table border=\"1\" class=\"dataframe\">\n",
       "  <thead>\n",
       "    <tr style=\"text-align: right;\">\n",
       "      <th></th>\n",
       "      <th>RMSE для лучшей модели на CV</th>\n",
       "      <th>Время обучения модели, сек</th>\n",
       "      <th>Время предсказания модели, сек</th>\n",
       "      <th>Рейтинг моделей</th>\n",
       "    </tr>\n",
       "  </thead>\n",
       "  <tbody>\n",
       "    <tr>\n",
       "      <th>DecisionTreeRegressor</th>\n",
       "      <td>1148.904388</td>\n",
       "      <td>0.341763</td>\n",
       "      <td>0.021637</td>\n",
       "      <td>2.859365</td>\n",
       "    </tr>\n",
       "    <tr>\n",
       "      <th>CatBoostRegressor</th>\n",
       "      <td>987.328713</td>\n",
       "      <td>17.796366</td>\n",
       "      <td>0.145510</td>\n",
       "      <td>1.167902</td>\n",
       "    </tr>\n",
       "    <tr>\n",
       "      <th>LGBMRegressor</th>\n",
       "      <td>996.479908</td>\n",
       "      <td>4.894097</td>\n",
       "      <td>1.000504</td>\n",
       "      <td>1.082274</td>\n",
       "    </tr>\n",
       "    <tr>\n",
       "      <th>LinearRegression</th>\n",
       "      <td>1760.985341</td>\n",
       "      <td>11.698690</td>\n",
       "      <td>0.310886</td>\n",
       "      <td>0.659480</td>\n",
       "    </tr>\n",
       "  </tbody>\n",
       "</table>\n",
       "</div>"
      ],
      "text/plain": [
       "                       RMSE для лучшей модели на CV  \\\n",
       "DecisionTreeRegressor                   1148.904388   \n",
       "CatBoostRegressor                        987.328713   \n",
       "LGBMRegressor                            996.479908   \n",
       "LinearRegression                        1760.985341   \n",
       "\n",
       "                       Время обучения модели, сек  \\\n",
       "DecisionTreeRegressor                    0.341763   \n",
       "CatBoostRegressor                       17.796366   \n",
       "LGBMRegressor                            4.894097   \n",
       "LinearRegression                        11.698690   \n",
       "\n",
       "                       Время предсказания модели, сек  Рейтинг моделей  \n",
       "DecisionTreeRegressor                        0.021637         2.859365  \n",
       "CatBoostRegressor                            0.145510         1.167902  \n",
       "LGBMRegressor                                1.000504         1.082274  \n",
       "LinearRegression                             0.310886         0.659480  "
      ]
     },
     "metadata": {},
     "output_type": "display_data"
    }
   ],
   "source": [
    "# Создадим сводную таблицу с результатами получившихся моделей\n",
    "model = ['LinearRegression',\n",
    "         'DecisionTreeRegressor',\n",
    "         'LGBMRegressor',\n",
    "         'CatBoostRegressor'] \n",
    "RMSE_time = {'RMSE для лучшей модели на CV':[cv_RMSE_LR,\n",
    "                                             cv_RMSE_DTR,\n",
    "                                             cv_RMSE_LGBMR,\n",
    "                                             cv_RMSE_CBR],\n",
    "             'Время обучения модели, сек': [LR_time,\n",
    "                                            DTR_time,\n",
    "                                            LGBMR_time,\n",
    "                                            CBR_time],\n",
    "             'Время предсказания модели, сек': [LR_predict,\n",
    "                                                DTR_predict,\n",
    "                                                LGBMR_predict,\n",
    "                                                CBR_predict]}\n",
    "df = pd.DataFrame(RMSE_time, index = model)\n",
    "\n",
    "# Добавим рейтинг моделей в зависимости от значений RMSE и времени обучения и предсказания\n",
    "df['Рейтинг моделей'] = ((df['RMSE для лучшей модели на CV'].min()/df['RMSE для лучшей модели на CV']) +\n",
    "                         (df['Время обучения модели, сек'].min()/df['Время обучения модели, сек']) +\n",
    "                         (df['Время предсказания модели, сек'].min()/df['Время предсказания модели, сек']))\n",
    "\n",
    "display(df.sort_values(['Рейтинг моделей'], ascending = False))"
   ]
  },
  {
   "cell_type": "markdown",
   "metadata": {},
   "source": [
    "### Сравнение получившихся метрик моделей и время обучения моделей"
   ]
  },
  {
   "cell_type": "markdown",
   "metadata": {},
   "source": [
    "**Выводы по анализу моделей:**\n",
    "\n",
    "- По сводной таблице по рейтингу лидирует модель DecisionTreeRegressor с оптимальным временем обучения модели и предсказания, а также значением RMSE.\n",
    "\n",
    "- По анализу значений метрики RMSE, лидируют модели CatBoostRegressor, LGBMRegressor. В то время, как модели LinearRegression показывают наихудший результат. \n",
    "\n",
    "- Стоит отметить модель LGBMRegressor, показатель метркии один из самых лучших, показатель по времени обучения не самый высокий. Если не акцентировать основное внимание на время, то данная модель хороша для точности предсказания."
   ]
  },
  {
   "cell_type": "markdown",
   "metadata": {},
   "source": [
    "### RMSE на тестовых данных лучшей модели DecisionTreeRegressor"
   ]
  },
  {
   "cell_type": "code",
   "execution_count": 60,
   "metadata": {},
   "outputs": [
    {
     "name": "stdout",
     "output_type": "stream",
     "text": [
      "CPU times: user 294 ms, sys: 531 µs, total: 295 ms\n",
      "Wall time: 294 ms\n"
     ]
    },
    {
     "data": {
      "text/plain": [
       "DecisionTreeRegressor(criterion='friedman_mse', max_depth=13,\n",
       "                      random_state=12345)"
      ]
     },
     "execution_count": 60,
     "metadata": {},
     "output_type": "execute_result"
    }
   ],
   "source": [
    "%%time\n",
    "DTR_model = DecisionTreeRegressor(criterion = 'friedman_mse', \n",
    "                                  max_depth = 13,\n",
    "                                  random_state = RANDOM_STATE)\n",
    "DTR_model.fit(OE_feature_train, target_train)"
   ]
  },
  {
   "cell_type": "code",
   "execution_count": 61,
   "metadata": {},
   "outputs": [
    {
     "name": "stdout",
     "output_type": "stream",
     "text": [
      "1135.449\n",
      "CPU times: user 11.9 ms, sys: 0 ns, total: 11.9 ms\n",
      "Wall time: 10.1 ms\n"
     ]
    }
   ],
   "source": [
    "%%time\n",
    "DTR_predict = DTR_model.predict(OE_feature_test)\n",
    "DTR_RMSE_test = mean_squared_error(target_test, DTR_predict)**0.5\n",
    "print(round(DTR_RMSE_test, 3))"
   ]
  },
  {
   "cell_type": "markdown",
   "metadata": {},
   "source": [
    "Лучшая модель DecisionTreeRegressor на тестовых данных показала следующие результаты:\n",
    "- метрика RMSE - 1135.449\n",
    "- время обучения - 0,294 сек.\n",
    "- время предсказания - 0,010 сек."
   ]
  },
  {
   "cell_type": "markdown",
   "metadata": {},
   "source": [
    "### Проверим лучшую модель на адекватность"
   ]
  },
  {
   "cell_type": "code",
   "execution_count": 62,
   "metadata": {},
   "outputs": [
    {
     "name": "stdout",
     "output_type": "stream",
     "text": [
      "Метрика SMAPE модели DummyRegressor: 2088.811470841037\n"
     ]
    }
   ],
   "source": [
    "dummy_regr = DummyRegressor(strategy=\"mean\")\n",
    "dummy_regr.fit(OE_feature_train, target_train)\n",
    "pred_reg = dummy_regr.predict(OE_feature_test)\n",
    "print(f'Метрика SMAPE модели DummyRegressor: {mean_squared_error(target_test, pred_reg)**0.5}')"
   ]
  },
  {
   "cell_type": "markdown",
   "metadata": {},
   "source": [
    "Результат тестирования нашей модели на тествой выборке лучше, чем результат константной модели, что подтверждает адекватность лучшей модели."
   ]
  },
  {
   "cell_type": "markdown",
   "metadata": {},
   "source": [
    "# Общий вывод"
   ]
  },
  {
   "cell_type": "markdown",
   "metadata": {},
   "source": [
    "**Выводы по изучению данных:**\n",
    "\n",
    "- В столбцах \"VehicleType\", \"Gearbox\", \"Model\", \"FuelType\", \"Repaired\" имеются пропуски. Их необходимо обработать.\n",
    "- В столбце \"Power\" можно наблюдать аномальные значения как в большую так и в меньшую сторону.\n",
    "- В столбцах \"Price\", \"Power\" имеются нулевые значения. Данные строки необходимо обработать.\n",
    "- Столбец \"NumberOfPictures\" неинформативен ввиду отсутствия каких-либо значений. Данный столбец удалим.\n",
    "- Столбцы \"DateCrawled\", \"PostalCode\", \"LastSeen\", \"DateCreated\" неинформативны для предсказания целевого признака \"Price\" (цена (евро)). Данные столбцы удалим.\n",
    "- Столбец \"RegistrationMonth\" не информативен, ввиду наличия данных о годе регистрации автомобиля, месяц регистрации автомобиля без года бессмыслен. Удалим его.\n",
    "- Данные в столбце \"RegistrationYear\" имеют аномальные значения. Необходимо обработать это.\n",
    "\n",
    "**Выводы по предобработке данных:**\n",
    "- Избавились от дубликатов;\n",
    "- Столбцы с аномальными значениями были обработаны (Избавились от строк в столбце \"Price\" с аномальными значениями ниже 300 и свыше 8000 евро. Строки с нулевыми значениями и значениями свыше 1000 л.с. в столбце \"Power\" заменили на медианное значение в зависимости от модели машины. Учли машины с мощностью менее 10 л.с., их также заменили на медианное значение. В столбце 'Gearbox' заменили пропущенные значения на 'manual'. В столбце  'VehicleType' заменили пропущенные значения на 'other'. В столбце 'RegistrationYear' отобрали года релевантные под задачу, оставили период с 1900 по 2016 гг.)\n",
    "- Удалили неинформативные признаки.\n",
    "\n",
    "**Выводы по обучению моделей:**\n",
    "- Выполнено кодирование и стандартизация данных;\n",
    "- Обучили следующие модели: \n",
    "      - LinearRegression\n",
    "      - DecisionTreeRegressor\n",
    "      - LGBMRegressor\n",
    "      - CatBoostRegressor\n",
    "- Зафиксировали лучшие гиперпараметры моделей;\n",
    "- Зафиксировали время выполнения обучений и предсказания моделей.\n",
    "\n",
    "\n",
    "**Выводы по анализу моделей:**\n",
    "- По сводной таблице по рейтингу лидирует модель DecisionTreeRegressor с оптимальным временем обучения модели и предсказания, а также значением RMSE.\n",
    "\n",
    "- По анализу значений метрики RMSE, лидируют модели CatBoostRegressor, LGBMRegressor. В то время, как модели LinearRegression показывают наихудший результат. \n",
    "\n",
    "- Стоит отметить модель LGBMRegressor, показатель метркии один из самых лучших, показатель по времени обучения не самый высокий. Если не акцентировать основное внимание на время, то данная модель хороша для точности предсказания.\n",
    "\n",
    "**Выводы по лучшей модели**\n",
    "\n",
    "Лучшая модель DecisionTreeRegressor на тестовых данных показала следующие результаты:\n",
    "- метрика RMSE - 1135.449\n",
    "- время обучения - 0,294 сек.\n",
    "- время предсказания - 0,010 сек."
   ]
  }
 ],
 "metadata": {
  "ExecuteTimeLog": [
   {
    "duration": 1607,
    "start_time": "2024-02-06T15:24:13.585Z"
   },
   {
    "duration": 1463,
    "start_time": "2024-02-06T15:26:15.401Z"
   },
   {
    "duration": 16,
    "start_time": "2024-02-06T15:26:34.305Z"
   },
   {
    "duration": 146,
    "start_time": "2024-02-06T15:26:55.420Z"
   },
   {
    "duration": 88,
    "start_time": "2024-02-06T15:31:11.581Z"
   },
   {
    "duration": 13,
    "start_time": "2024-02-06T15:43:12.233Z"
   },
   {
    "duration": 590,
    "start_time": "2024-02-06T15:43:18.277Z"
   },
   {
    "duration": 629,
    "start_time": "2024-02-06T15:43:29.102Z"
   },
   {
    "duration": 145,
    "start_time": "2024-02-06T16:22:48.218Z"
   },
   {
    "duration": 2,
    "start_time": "2024-02-06T16:23:55.190Z"
   },
   {
    "duration": 21,
    "start_time": "2024-02-06T16:24:41.578Z"
   },
   {
    "duration": 22,
    "start_time": "2024-02-06T16:25:43.709Z"
   },
   {
    "duration": 23,
    "start_time": "2024-02-06T16:26:07.977Z"
   },
   {
    "duration": 21,
    "start_time": "2024-02-06T16:27:17.897Z"
   },
   {
    "duration": 23,
    "start_time": "2024-02-06T16:27:21.829Z"
   },
   {
    "duration": 21,
    "start_time": "2024-02-06T16:27:41.709Z"
   },
   {
    "duration": 407,
    "start_time": "2024-02-06T16:29:37.736Z"
   },
   {
    "duration": 447,
    "start_time": "2024-02-06T16:30:06.589Z"
   },
   {
    "duration": 472,
    "start_time": "2024-02-06T16:30:39.817Z"
   },
   {
    "duration": 933,
    "start_time": "2024-02-06T16:30:52.279Z"
   },
   {
    "duration": 49,
    "start_time": "2024-02-06T16:39:54.547Z"
   },
   {
    "duration": 20,
    "start_time": "2024-02-06T16:40:17.256Z"
   },
   {
    "duration": 111,
    "start_time": "2024-02-06T16:40:28.778Z"
   },
   {
    "duration": 11,
    "start_time": "2024-02-06T16:40:33.028Z"
   },
   {
    "duration": 48,
    "start_time": "2024-02-06T16:47:13.137Z"
   },
   {
    "duration": 52,
    "start_time": "2024-02-06T16:47:21.057Z"
   },
   {
    "duration": 15,
    "start_time": "2024-02-06T16:47:58.788Z"
   },
   {
    "duration": 6,
    "start_time": "2024-02-06T16:50:58.438Z"
   },
   {
    "duration": 5,
    "start_time": "2024-02-06T16:54:36.630Z"
   },
   {
    "duration": 0,
    "start_time": "2024-02-06T17:03:41.016Z"
   },
   {
    "duration": 10,
    "start_time": "2024-02-06T17:03:45.543Z"
   },
   {
    "duration": 12,
    "start_time": "2024-02-06T17:03:59.336Z"
   },
   {
    "duration": 37,
    "start_time": "2024-02-06T17:06:33.410Z"
   },
   {
    "duration": 41,
    "start_time": "2024-02-06T17:07:03.300Z"
   },
   {
    "duration": 42,
    "start_time": "2024-02-06T17:07:25.480Z"
   },
   {
    "duration": 40,
    "start_time": "2024-02-06T17:07:44.349Z"
   },
   {
    "duration": 52,
    "start_time": "2024-02-06T17:07:50.220Z"
   },
   {
    "duration": 43,
    "start_time": "2024-02-06T17:07:54.031Z"
   },
   {
    "duration": 12,
    "start_time": "2024-02-06T17:08:13.632Z"
   },
   {
    "duration": 137,
    "start_time": "2024-02-06T17:08:20.740Z"
   },
   {
    "duration": 99,
    "start_time": "2024-02-06T17:08:31.462Z"
   },
   {
    "duration": 6,
    "start_time": "2024-02-06T17:11:11.650Z"
   },
   {
    "duration": 34,
    "start_time": "2024-02-06T17:11:12.081Z"
   },
   {
    "duration": 81,
    "start_time": "2024-02-06T17:11:12.549Z"
   },
   {
    "duration": 160,
    "start_time": "2024-02-06T17:11:31.070Z"
   },
   {
    "duration": 17,
    "start_time": "2024-02-06T17:12:12.160Z"
   },
   {
    "duration": 18,
    "start_time": "2024-02-06T17:12:38.505Z"
   },
   {
    "duration": 4,
    "start_time": "2024-02-06T17:12:47.069Z"
   },
   {
    "duration": 4,
    "start_time": "2024-02-06T17:14:06.397Z"
   },
   {
    "duration": 4,
    "start_time": "2024-02-06T17:15:21.986Z"
   },
   {
    "duration": 1350,
    "start_time": "2024-02-06T17:15:46.187Z"
   },
   {
    "duration": 1679,
    "start_time": "2024-02-06T17:15:47.539Z"
   },
   {
    "duration": 16,
    "start_time": "2024-02-06T17:15:49.219Z"
   },
   {
    "duration": 147,
    "start_time": "2024-02-06T17:15:49.236Z"
   },
   {
    "duration": 145,
    "start_time": "2024-02-06T17:15:49.385Z"
   },
   {
    "duration": 103,
    "start_time": "2024-02-06T17:15:49.531Z"
   },
   {
    "duration": 32,
    "start_time": "2024-02-06T17:15:49.636Z"
   },
   {
    "duration": 23,
    "start_time": "2024-02-06T17:15:49.670Z"
   },
   {
    "duration": 40,
    "start_time": "2024-02-06T17:15:49.695Z"
   },
   {
    "duration": 27,
    "start_time": "2024-02-06T17:15:49.737Z"
   },
   {
    "duration": 31,
    "start_time": "2024-02-06T17:15:49.766Z"
   },
   {
    "duration": 21,
    "start_time": "2024-02-06T17:15:49.798Z"
   },
   {
    "duration": 412,
    "start_time": "2024-02-06T17:15:49.821Z"
   },
   {
    "duration": 468,
    "start_time": "2024-02-06T17:15:50.235Z"
   },
   {
    "duration": 13,
    "start_time": "2024-02-06T17:15:50.704Z"
   },
   {
    "duration": 61,
    "start_time": "2024-02-06T17:15:50.718Z"
   },
   {
    "duration": 14,
    "start_time": "2024-02-06T17:15:50.780Z"
   },
   {
    "duration": 5,
    "start_time": "2024-02-06T17:15:50.796Z"
   },
   {
    "duration": 32,
    "start_time": "2024-02-06T17:15:50.802Z"
   },
   {
    "duration": 36,
    "start_time": "2024-02-06T17:15:50.836Z"
   },
   {
    "duration": 2,
    "start_time": "2024-02-06T17:15:50.873Z"
   },
   {
    "duration": 25,
    "start_time": "2024-02-06T17:15:50.876Z"
   },
   {
    "duration": 18,
    "start_time": "2024-02-06T17:17:56.266Z"
   },
   {
    "duration": 4,
    "start_time": "2024-02-06T17:17:59.036Z"
   },
   {
    "duration": 46,
    "start_time": "2024-02-06T17:20:06.715Z"
   },
   {
    "duration": 5,
    "start_time": "2024-02-06T17:20:34.517Z"
   },
   {
    "duration": 44,
    "start_time": "2024-02-07T06:07:22.126Z"
   },
   {
    "duration": 1625,
    "start_time": "2024-02-07T06:07:28.567Z"
   },
   {
    "duration": 1566,
    "start_time": "2024-02-07T06:07:30.194Z"
   },
   {
    "duration": 22,
    "start_time": "2024-02-07T06:07:31.762Z"
   },
   {
    "duration": 167,
    "start_time": "2024-02-07T06:07:31.785Z"
   },
   {
    "duration": 169,
    "start_time": "2024-02-07T06:07:31.954Z"
   },
   {
    "duration": 93,
    "start_time": "2024-02-07T06:07:32.124Z"
   },
   {
    "duration": 220,
    "start_time": "2024-02-07T06:07:32.218Z"
   },
   {
    "duration": 28,
    "start_time": "2024-02-07T06:07:32.439Z"
   },
   {
    "duration": 65,
    "start_time": "2024-02-07T06:07:32.468Z"
   },
   {
    "duration": 30,
    "start_time": "2024-02-07T06:07:32.534Z"
   },
   {
    "duration": 22,
    "start_time": "2024-02-07T06:07:32.566Z"
   },
   {
    "duration": 39,
    "start_time": "2024-02-07T06:07:32.589Z"
   },
   {
    "duration": 21,
    "start_time": "2024-02-07T06:07:32.630Z"
   },
   {
    "duration": 460,
    "start_time": "2024-02-07T06:07:32.658Z"
   },
   {
    "duration": 453,
    "start_time": "2024-02-07T06:07:33.120Z"
   },
   {
    "duration": 14,
    "start_time": "2024-02-07T06:07:33.574Z"
   },
   {
    "duration": 69,
    "start_time": "2024-02-07T06:07:33.590Z"
   },
   {
    "duration": 15,
    "start_time": "2024-02-07T06:07:33.660Z"
   },
   {
    "duration": 5,
    "start_time": "2024-02-07T06:07:33.676Z"
   },
   {
    "duration": 11,
    "start_time": "2024-02-07T06:07:33.682Z"
   },
   {
    "duration": 37,
    "start_time": "2024-02-07T06:07:33.695Z"
   },
   {
    "duration": 29,
    "start_time": "2024-02-07T06:07:33.733Z"
   },
   {
    "duration": 53,
    "start_time": "2024-02-07T06:07:33.763Z"
   },
   {
    "duration": 125,
    "start_time": "2024-02-07T06:07:33.818Z"
   },
   {
    "duration": 0,
    "start_time": "2024-02-07T06:07:33.945Z"
   },
   {
    "duration": 0,
    "start_time": "2024-02-07T06:07:33.946Z"
   },
   {
    "duration": 0,
    "start_time": "2024-02-07T06:07:33.947Z"
   },
   {
    "duration": 0,
    "start_time": "2024-02-07T06:07:33.948Z"
   },
   {
    "duration": 1211,
    "start_time": "2024-02-07T06:18:13.049Z"
   },
   {
    "duration": 1146,
    "start_time": "2024-02-07T06:18:59.373Z"
   },
   {
    "duration": 47,
    "start_time": "2024-02-07T06:28:36.400Z"
   },
   {
    "duration": 7,
    "start_time": "2024-02-07T06:28:37.055Z"
   },
   {
    "duration": 5,
    "start_time": "2024-02-07T06:28:39.929Z"
   },
   {
    "duration": 5,
    "start_time": "2024-02-07T06:29:31.170Z"
   },
   {
    "duration": 22,
    "start_time": "2024-02-07T07:41:10.499Z"
   },
   {
    "duration": 12,
    "start_time": "2024-02-07T07:41:17.528Z"
   },
   {
    "duration": 17,
    "start_time": "2024-02-07T07:41:53.855Z"
   },
   {
    "duration": 24,
    "start_time": "2024-02-07T07:44:48.055Z"
   },
   {
    "duration": 58,
    "start_time": "2024-02-07T07:44:50.393Z"
   },
   {
    "duration": 26,
    "start_time": "2024-02-07T07:49:02.951Z"
   },
   {
    "duration": 13,
    "start_time": "2024-02-07T07:49:39.369Z"
   },
   {
    "duration": 40,
    "start_time": "2024-02-07T07:57:17.048Z"
   },
   {
    "duration": 216,
    "start_time": "2024-02-07T07:58:12.612Z"
   },
   {
    "duration": 37,
    "start_time": "2024-02-07T08:04:04.779Z"
   },
   {
    "duration": 128,
    "start_time": "2024-02-07T08:04:18.233Z"
   },
   {
    "duration": 45,
    "start_time": "2024-02-07T08:08:52.675Z"
   },
   {
    "duration": 98,
    "start_time": "2024-02-07T08:08:55.885Z"
   },
   {
    "duration": 52,
    "start_time": "2024-02-07T08:16:57.095Z"
   },
   {
    "duration": 20,
    "start_time": "2024-02-07T08:17:09.577Z"
   },
   {
    "duration": 74,
    "start_time": "2024-02-07T08:17:12.063Z"
   },
   {
    "duration": 1382,
    "start_time": "2024-02-07T08:17:31.389Z"
   },
   {
    "duration": 1385,
    "start_time": "2024-02-07T08:17:32.773Z"
   },
   {
    "duration": 17,
    "start_time": "2024-02-07T08:17:34.159Z"
   },
   {
    "duration": 154,
    "start_time": "2024-02-07T08:17:34.177Z"
   },
   {
    "duration": 137,
    "start_time": "2024-02-07T08:17:34.333Z"
   },
   {
    "duration": 101,
    "start_time": "2024-02-07T08:17:34.471Z"
   },
   {
    "duration": 238,
    "start_time": "2024-02-07T08:17:34.573Z"
   },
   {
    "duration": 1289,
    "start_time": "2024-02-07T08:17:34.813Z"
   },
   {
    "duration": 21,
    "start_time": "2024-02-07T08:17:36.103Z"
   },
   {
    "duration": 65,
    "start_time": "2024-02-07T08:17:36.126Z"
   },
   {
    "duration": 48,
    "start_time": "2024-02-07T08:17:36.193Z"
   },
   {
    "duration": 22,
    "start_time": "2024-02-07T08:17:36.242Z"
   },
   {
    "duration": 26,
    "start_time": "2024-02-07T08:17:36.266Z"
   },
   {
    "duration": 23,
    "start_time": "2024-02-07T08:17:36.294Z"
   },
   {
    "duration": 449,
    "start_time": "2024-02-07T08:17:36.318Z"
   },
   {
    "duration": 446,
    "start_time": "2024-02-07T08:17:36.769Z"
   },
   {
    "duration": 56,
    "start_time": "2024-02-07T08:17:37.216Z"
   },
   {
    "duration": 6,
    "start_time": "2024-02-07T08:17:37.273Z"
   },
   {
    "duration": 10,
    "start_time": "2024-02-07T08:17:37.280Z"
   },
   {
    "duration": 48,
    "start_time": "2024-02-07T08:17:37.291Z"
   },
   {
    "duration": 18,
    "start_time": "2024-02-07T08:17:37.341Z"
   },
   {
    "duration": 39,
    "start_time": "2024-02-07T08:17:37.360Z"
   },
   {
    "duration": 15,
    "start_time": "2024-02-07T08:17:37.401Z"
   },
   {
    "duration": 17,
    "start_time": "2024-02-07T08:17:37.417Z"
   },
   {
    "duration": 40,
    "start_time": "2024-02-07T08:17:37.459Z"
   },
   {
    "duration": 36,
    "start_time": "2024-02-07T08:17:37.501Z"
   },
   {
    "duration": 38,
    "start_time": "2024-02-07T08:17:37.538Z"
   },
   {
    "duration": 103,
    "start_time": "2024-02-07T08:17:37.578Z"
   },
   {
    "duration": 112,
    "start_time": "2024-02-07T08:19:08.017Z"
   },
   {
    "duration": 1409,
    "start_time": "2024-02-07T08:19:27.624Z"
   },
   {
    "duration": 1460,
    "start_time": "2024-02-07T08:19:29.035Z"
   },
   {
    "duration": 16,
    "start_time": "2024-02-07T08:19:30.497Z"
   },
   {
    "duration": 175,
    "start_time": "2024-02-07T08:19:30.514Z"
   },
   {
    "duration": 178,
    "start_time": "2024-02-07T08:19:30.692Z"
   },
   {
    "duration": 154,
    "start_time": "2024-02-07T08:19:30.872Z"
   },
   {
    "duration": 257,
    "start_time": "2024-02-07T08:19:31.028Z"
   },
   {
    "duration": 1329,
    "start_time": "2024-02-07T08:19:31.287Z"
   },
   {
    "duration": 21,
    "start_time": "2024-02-07T08:19:32.618Z"
   },
   {
    "duration": 81,
    "start_time": "2024-02-07T08:19:32.640Z"
   },
   {
    "duration": 86,
    "start_time": "2024-02-07T08:19:32.723Z"
   },
   {
    "duration": 60,
    "start_time": "2024-02-07T08:19:32.811Z"
   },
   {
    "duration": 80,
    "start_time": "2024-02-07T08:19:32.873Z"
   },
   {
    "duration": 173,
    "start_time": "2024-02-07T08:19:32.955Z"
   },
   {
    "duration": 506,
    "start_time": "2024-02-07T08:19:33.129Z"
   },
   {
    "duration": 480,
    "start_time": "2024-02-07T08:19:33.637Z"
   },
   {
    "duration": 54,
    "start_time": "2024-02-07T08:19:34.119Z"
   },
   {
    "duration": 5,
    "start_time": "2024-02-07T08:19:34.174Z"
   },
   {
    "duration": 32,
    "start_time": "2024-02-07T08:19:34.180Z"
   },
   {
    "duration": 57,
    "start_time": "2024-02-07T08:19:34.214Z"
   },
   {
    "duration": 5,
    "start_time": "2024-02-07T08:19:34.272Z"
   },
   {
    "duration": 63,
    "start_time": "2024-02-07T08:19:34.278Z"
   },
   {
    "duration": 15,
    "start_time": "2024-02-07T08:19:34.342Z"
   },
   {
    "duration": 17,
    "start_time": "2024-02-07T08:19:34.359Z"
   },
   {
    "duration": 42,
    "start_time": "2024-02-07T08:19:34.378Z"
   },
   {
    "duration": 54,
    "start_time": "2024-02-07T08:19:34.421Z"
   },
   {
    "duration": 19,
    "start_time": "2024-02-07T08:19:34.477Z"
   },
   {
    "duration": 79,
    "start_time": "2024-02-07T08:19:34.498Z"
   },
   {
    "duration": 111,
    "start_time": "2024-02-07T08:32:09.101Z"
   },
   {
    "duration": 3312,
    "start_time": "2024-02-07T08:33:33.788Z"
   },
   {
    "duration": 5414,
    "start_time": "2024-02-07T08:33:42.753Z"
   },
   {
    "duration": 3862,
    "start_time": "2024-02-07T08:41:12.982Z"
   },
   {
    "duration": 1671,
    "start_time": "2024-02-07T08:41:16.846Z"
   },
   {
    "duration": 16,
    "start_time": "2024-02-07T08:41:18.519Z"
   },
   {
    "duration": 159,
    "start_time": "2024-02-07T08:41:18.537Z"
   },
   {
    "duration": 2,
    "start_time": "2024-02-07T08:41:18.698Z"
   },
   {
    "duration": 166,
    "start_time": "2024-02-07T08:41:18.701Z"
   },
   {
    "duration": 105,
    "start_time": "2024-02-07T08:41:18.868Z"
   },
   {
    "duration": 247,
    "start_time": "2024-02-07T08:41:18.975Z"
   },
   {
    "duration": 1322,
    "start_time": "2024-02-07T08:41:19.223Z"
   },
   {
    "duration": 27,
    "start_time": "2024-02-07T08:41:20.547Z"
   },
   {
    "duration": 29,
    "start_time": "2024-02-07T08:41:20.576Z"
   },
   {
    "duration": 39,
    "start_time": "2024-02-07T08:41:20.607Z"
   },
   {
    "duration": 26,
    "start_time": "2024-02-07T08:41:20.648Z"
   },
   {
    "duration": 28,
    "start_time": "2024-02-07T08:41:20.675Z"
   },
   {
    "duration": 21,
    "start_time": "2024-02-07T08:41:20.704Z"
   },
   {
    "duration": 503,
    "start_time": "2024-02-07T08:41:20.727Z"
   },
   {
    "duration": 502,
    "start_time": "2024-02-07T08:41:21.233Z"
   },
   {
    "duration": 61,
    "start_time": "2024-02-07T08:41:21.737Z"
   },
   {
    "duration": 59,
    "start_time": "2024-02-07T08:41:21.800Z"
   },
   {
    "duration": 4,
    "start_time": "2024-02-07T08:41:21.861Z"
   },
   {
    "duration": 43,
    "start_time": "2024-02-07T08:41:21.867Z"
   },
   {
    "duration": 17,
    "start_time": "2024-02-07T08:41:21.911Z"
   },
   {
    "duration": 44,
    "start_time": "2024-02-07T08:41:21.930Z"
   },
   {
    "duration": 46,
    "start_time": "2024-02-07T08:41:21.976Z"
   },
   {
    "duration": 57,
    "start_time": "2024-02-07T08:41:22.024Z"
   },
   {
    "duration": 21,
    "start_time": "2024-02-07T08:41:22.082Z"
   },
   {
    "duration": 80,
    "start_time": "2024-02-07T08:41:22.104Z"
   },
   {
    "duration": 5454,
    "start_time": "2024-02-07T08:41:22.187Z"
   },
   {
    "duration": 4,
    "start_time": "2024-02-07T08:42:10.334Z"
   },
   {
    "duration": 3806,
    "start_time": "2024-02-07T08:42:46.916Z"
   },
   {
    "duration": 1506,
    "start_time": "2024-02-07T08:42:50.724Z"
   },
   {
    "duration": 27,
    "start_time": "2024-02-07T08:42:52.232Z"
   },
   {
    "duration": 158,
    "start_time": "2024-02-07T08:42:52.261Z"
   },
   {
    "duration": 155,
    "start_time": "2024-02-07T08:42:52.422Z"
   },
   {
    "duration": 105,
    "start_time": "2024-02-07T08:42:52.579Z"
   },
   {
    "duration": 234,
    "start_time": "2024-02-07T08:42:52.686Z"
   },
   {
    "duration": 1325,
    "start_time": "2024-02-07T08:42:52.922Z"
   },
   {
    "duration": 25,
    "start_time": "2024-02-07T08:42:54.249Z"
   },
   {
    "duration": 50,
    "start_time": "2024-02-07T08:42:54.276Z"
   },
   {
    "duration": 46,
    "start_time": "2024-02-07T08:42:54.327Z"
   },
   {
    "duration": 34,
    "start_time": "2024-02-07T08:42:54.374Z"
   },
   {
    "duration": 48,
    "start_time": "2024-02-07T08:42:54.410Z"
   },
   {
    "duration": 29,
    "start_time": "2024-02-07T08:42:54.461Z"
   },
   {
    "duration": 520,
    "start_time": "2024-02-07T08:42:54.491Z"
   },
   {
    "duration": 480,
    "start_time": "2024-02-07T08:42:55.013Z"
   },
   {
    "duration": 49,
    "start_time": "2024-02-07T08:42:55.495Z"
   },
   {
    "duration": 48,
    "start_time": "2024-02-07T08:42:55.546Z"
   },
   {
    "duration": 5,
    "start_time": "2024-02-07T08:42:55.595Z"
   },
   {
    "duration": 64,
    "start_time": "2024-02-07T08:42:55.601Z"
   },
   {
    "duration": 15,
    "start_time": "2024-02-07T08:42:55.667Z"
   },
   {
    "duration": 36,
    "start_time": "2024-02-07T08:42:55.684Z"
   },
   {
    "duration": 50,
    "start_time": "2024-02-07T08:42:55.721Z"
   },
   {
    "duration": 37,
    "start_time": "2024-02-07T08:42:55.772Z"
   },
   {
    "duration": 20,
    "start_time": "2024-02-07T08:42:55.810Z"
   },
   {
    "duration": 87,
    "start_time": "2024-02-07T08:42:55.832Z"
   },
   {
    "duration": 5483,
    "start_time": "2024-02-07T08:42:55.921Z"
   },
   {
    "duration": 4011,
    "start_time": "2024-02-07T13:00:45.484Z"
   },
   {
    "duration": 2139,
    "start_time": "2024-02-07T13:00:49.498Z"
   },
   {
    "duration": 17,
    "start_time": "2024-02-07T13:00:51.659Z"
   },
   {
    "duration": 208,
    "start_time": "2024-02-07T13:00:51.677Z"
   },
   {
    "duration": 175,
    "start_time": "2024-02-07T13:00:51.887Z"
   },
   {
    "duration": 106,
    "start_time": "2024-02-07T13:00:52.065Z"
   },
   {
    "duration": 244,
    "start_time": "2024-02-07T13:00:52.172Z"
   },
   {
    "duration": 1373,
    "start_time": "2024-02-07T13:00:52.418Z"
   },
   {
    "duration": 27,
    "start_time": "2024-02-07T13:00:53.793Z"
   },
   {
    "duration": 20,
    "start_time": "2024-02-07T13:00:53.822Z"
   },
   {
    "duration": 30,
    "start_time": "2024-02-07T13:00:53.860Z"
   },
   {
    "duration": 24,
    "start_time": "2024-02-07T13:00:53.891Z"
   },
   {
    "duration": 49,
    "start_time": "2024-02-07T13:00:53.916Z"
   },
   {
    "duration": 24,
    "start_time": "2024-02-07T13:00:53.968Z"
   },
   {
    "duration": 541,
    "start_time": "2024-02-07T13:00:53.996Z"
   },
   {
    "duration": 535,
    "start_time": "2024-02-07T13:00:54.538Z"
   },
   {
    "duration": 51,
    "start_time": "2024-02-07T13:00:55.075Z"
   },
   {
    "duration": 63,
    "start_time": "2024-02-07T13:00:55.127Z"
   },
   {
    "duration": 4,
    "start_time": "2024-02-07T13:00:55.192Z"
   },
   {
    "duration": 44,
    "start_time": "2024-02-07T13:00:55.197Z"
   },
   {
    "duration": 23,
    "start_time": "2024-02-07T13:00:55.243Z"
   },
   {
    "duration": 18,
    "start_time": "2024-02-07T13:00:55.268Z"
   },
   {
    "duration": 39,
    "start_time": "2024-02-07T13:00:55.288Z"
   },
   {
    "duration": 62,
    "start_time": "2024-02-07T13:00:55.328Z"
   },
   {
    "duration": 19,
    "start_time": "2024-02-07T13:00:55.391Z"
   },
   {
    "duration": 106,
    "start_time": "2024-02-07T13:00:55.411Z"
   },
   {
    "duration": 5711,
    "start_time": "2024-02-07T13:00:55.519Z"
   },
   {
    "duration": 43,
    "start_time": "2024-02-07T13:22:46.655Z"
   },
   {
    "duration": 6,
    "start_time": "2024-02-07T13:23:02.935Z"
   },
   {
    "duration": 18,
    "start_time": "2024-02-07T13:23:31.437Z"
   },
   {
    "duration": 6,
    "start_time": "2024-02-07T13:23:44.988Z"
   },
   {
    "duration": 40,
    "start_time": "2024-02-07T13:24:28.046Z"
   },
   {
    "duration": 38,
    "start_time": "2024-02-07T13:26:28.592Z"
   },
   {
    "duration": 457,
    "start_time": "2024-02-07T13:26:48.271Z"
   },
   {
    "duration": 3725,
    "start_time": "2024-02-07T13:27:12.663Z"
   },
   {
    "duration": 1908,
    "start_time": "2024-02-07T13:27:16.390Z"
   },
   {
    "duration": 17,
    "start_time": "2024-02-07T13:27:18.299Z"
   },
   {
    "duration": 154,
    "start_time": "2024-02-07T13:27:18.318Z"
   },
   {
    "duration": 148,
    "start_time": "2024-02-07T13:27:18.475Z"
   },
   {
    "duration": 92,
    "start_time": "2024-02-07T13:27:18.624Z"
   },
   {
    "duration": 221,
    "start_time": "2024-02-07T13:27:18.718Z"
   },
   {
    "duration": 1245,
    "start_time": "2024-02-07T13:27:18.940Z"
   },
   {
    "duration": 27,
    "start_time": "2024-02-07T13:27:20.188Z"
   },
   {
    "duration": 23,
    "start_time": "2024-02-07T13:27:20.217Z"
   },
   {
    "duration": 31,
    "start_time": "2024-02-07T13:27:20.258Z"
   },
   {
    "duration": 41,
    "start_time": "2024-02-07T13:27:20.291Z"
   },
   {
    "duration": 31,
    "start_time": "2024-02-07T13:27:20.334Z"
   },
   {
    "duration": 30,
    "start_time": "2024-02-07T13:27:20.369Z"
   },
   {
    "duration": 448,
    "start_time": "2024-02-07T13:27:20.400Z"
   },
   {
    "duration": 471,
    "start_time": "2024-02-07T13:27:20.850Z"
   },
   {
    "duration": 53,
    "start_time": "2024-02-07T13:27:21.323Z"
   },
   {
    "duration": 35,
    "start_time": "2024-02-07T13:27:21.378Z"
   },
   {
    "duration": 5,
    "start_time": "2024-02-07T13:27:21.414Z"
   },
   {
    "duration": 67,
    "start_time": "2024-02-07T13:27:21.420Z"
   },
   {
    "duration": 16,
    "start_time": "2024-02-07T13:27:21.488Z"
   },
   {
    "duration": 78,
    "start_time": "2024-02-07T13:27:21.506Z"
   },
   {
    "duration": 32,
    "start_time": "2024-02-07T13:27:21.586Z"
   },
   {
    "duration": 22,
    "start_time": "2024-02-07T13:27:21.619Z"
   },
   {
    "duration": 39,
    "start_time": "2024-02-07T13:27:21.658Z"
   },
   {
    "duration": 41,
    "start_time": "2024-02-07T13:27:21.699Z"
   },
   {
    "duration": 31,
    "start_time": "2024-02-07T13:27:21.758Z"
   },
   {
    "duration": 45,
    "start_time": "2024-02-07T13:27:21.790Z"
   },
   {
    "duration": 34,
    "start_time": "2024-02-07T13:27:21.836Z"
   },
   {
    "duration": 52,
    "start_time": "2024-02-07T13:27:21.872Z"
   },
   {
    "duration": 4797,
    "start_time": "2024-02-07T13:27:21.926Z"
   },
   {
    "duration": 12,
    "start_time": "2024-02-07T13:28:07.031Z"
   },
   {
    "duration": 11,
    "start_time": "2024-02-07T13:28:24.186Z"
   },
   {
    "duration": 10,
    "start_time": "2024-02-07T13:28:36.312Z"
   },
   {
    "duration": 10,
    "start_time": "2024-02-07T13:28:45.540Z"
   },
   {
    "duration": 113,
    "start_time": "2024-02-07T13:32:53.813Z"
   },
   {
    "duration": 13,
    "start_time": "2024-02-07T13:33:04.513Z"
   },
   {
    "duration": 2327,
    "start_time": "2024-02-07T13:34:30.532Z"
   },
   {
    "duration": 56,
    "start_time": "2024-02-07T13:40:11.391Z"
   },
   {
    "duration": 55,
    "start_time": "2024-02-07T13:50:00.261Z"
   },
   {
    "duration": 51,
    "start_time": "2024-02-07T13:50:10.750Z"
   },
   {
    "duration": 283,
    "start_time": "2024-02-07T13:50:15.508Z"
   },
   {
    "duration": 25,
    "start_time": "2024-02-07T13:58:20.531Z"
   },
   {
    "duration": 19,
    "start_time": "2024-02-07T14:06:15.129Z"
   },
   {
    "duration": 2273,
    "start_time": "2024-02-07T14:06:52.474Z"
   },
   {
    "duration": 251,
    "start_time": "2024-02-07T14:07:04.271Z"
   },
   {
    "duration": 26,
    "start_time": "2024-02-07T14:07:05.219Z"
   },
   {
    "duration": 6776,
    "start_time": "2024-02-07T14:07:05.799Z"
   },
   {
    "duration": 254,
    "start_time": "2024-02-07T14:22:33.628Z"
   },
   {
    "duration": 23,
    "start_time": "2024-02-07T14:22:34.568Z"
   },
   {
    "duration": 6751,
    "start_time": "2024-02-07T14:22:36.097Z"
   },
   {
    "duration": 106,
    "start_time": "2024-02-07T14:54:28.668Z"
   },
   {
    "duration": 59,
    "start_time": "2024-02-07T14:54:48.694Z"
   },
   {
    "duration": 50,
    "start_time": "2024-02-07T14:55:06.802Z"
   },
   {
    "duration": 7201,
    "start_time": "2024-02-07T14:56:18.064Z"
   },
   {
    "duration": 396,
    "start_time": "2024-02-07T16:01:39.465Z"
   },
   {
    "duration": 3811,
    "start_time": "2024-02-07T16:03:08.427Z"
   },
   {
    "duration": 1716,
    "start_time": "2024-02-07T16:03:12.240Z"
   },
   {
    "duration": 15,
    "start_time": "2024-02-07T16:03:13.958Z"
   },
   {
    "duration": 163,
    "start_time": "2024-02-07T16:03:13.975Z"
   },
   {
    "duration": 148,
    "start_time": "2024-02-07T16:03:14.139Z"
   },
   {
    "duration": 96,
    "start_time": "2024-02-07T16:03:14.289Z"
   },
   {
    "duration": 237,
    "start_time": "2024-02-07T16:03:14.386Z"
   },
   {
    "duration": 1298,
    "start_time": "2024-02-07T16:03:14.624Z"
   },
   {
    "duration": 21,
    "start_time": "2024-02-07T16:03:15.923Z"
   },
   {
    "duration": 31,
    "start_time": "2024-02-07T16:03:15.947Z"
   },
   {
    "duration": 45,
    "start_time": "2024-02-07T16:03:15.979Z"
   },
   {
    "duration": 23,
    "start_time": "2024-02-07T16:03:16.026Z"
   },
   {
    "duration": 33,
    "start_time": "2024-02-07T16:03:16.058Z"
   },
   {
    "duration": 22,
    "start_time": "2024-02-07T16:03:16.093Z"
   },
   {
    "duration": 486,
    "start_time": "2024-02-07T16:03:16.116Z"
   },
   {
    "duration": 466,
    "start_time": "2024-02-07T16:03:16.604Z"
   },
   {
    "duration": 48,
    "start_time": "2024-02-07T16:03:17.072Z"
   },
   {
    "duration": 54,
    "start_time": "2024-02-07T16:03:17.122Z"
   },
   {
    "duration": 5,
    "start_time": "2024-02-07T16:03:17.177Z"
   },
   {
    "duration": 42,
    "start_time": "2024-02-07T16:03:17.184Z"
   },
   {
    "duration": 32,
    "start_time": "2024-02-07T16:03:17.228Z"
   },
   {
    "duration": 41,
    "start_time": "2024-02-07T16:03:17.262Z"
   },
   {
    "duration": 32,
    "start_time": "2024-02-07T16:03:17.304Z"
   },
   {
    "duration": 22,
    "start_time": "2024-02-07T16:03:17.359Z"
   },
   {
    "duration": 41,
    "start_time": "2024-02-07T16:03:17.382Z"
   },
   {
    "duration": 60,
    "start_time": "2024-02-07T16:03:17.424Z"
   },
   {
    "duration": 36,
    "start_time": "2024-02-07T16:03:17.486Z"
   },
   {
    "duration": 66,
    "start_time": "2024-02-07T16:03:17.525Z"
   },
   {
    "duration": 17,
    "start_time": "2024-02-07T16:03:17.593Z"
   },
   {
    "duration": 73,
    "start_time": "2024-02-07T16:03:17.612Z"
   },
   {
    "duration": 12,
    "start_time": "2024-02-07T16:03:17.686Z"
   },
   {
    "duration": 4961,
    "start_time": "2024-02-07T16:03:17.699Z"
   },
   {
    "duration": 10,
    "start_time": "2024-02-07T16:03:22.661Z"
   },
   {
    "duration": 17,
    "start_time": "2024-02-07T16:03:22.673Z"
   },
   {
    "duration": 125,
    "start_time": "2024-02-07T16:03:22.692Z"
   },
   {
    "duration": 0,
    "start_time": "2024-02-07T16:03:22.818Z"
   },
   {
    "duration": 0,
    "start_time": "2024-02-07T16:03:22.819Z"
   },
   {
    "duration": 0,
    "start_time": "2024-02-07T16:03:22.820Z"
   },
   {
    "duration": 0,
    "start_time": "2024-02-07T16:03:22.821Z"
   },
   {
    "duration": 384,
    "start_time": "2024-02-07T16:03:57.973Z"
   },
   {
    "duration": 267,
    "start_time": "2024-02-07T16:05:45.852Z"
   },
   {
    "duration": 50,
    "start_time": "2024-02-07T16:10:02.041Z"
   },
   {
    "duration": 24,
    "start_time": "2024-02-07T16:10:29.666Z"
   },
   {
    "duration": 32,
    "start_time": "2024-02-07T16:12:12.026Z"
   },
   {
    "duration": 48,
    "start_time": "2024-02-07T16:15:49.530Z"
   },
   {
    "duration": 23,
    "start_time": "2024-02-07T16:16:14.982Z"
   },
   {
    "duration": 19,
    "start_time": "2024-02-07T16:16:20.012Z"
   },
   {
    "duration": 4053,
    "start_time": "2024-02-07T16:17:13.270Z"
   },
   {
    "duration": 1915,
    "start_time": "2024-02-07T16:17:17.325Z"
   },
   {
    "duration": 25,
    "start_time": "2024-02-07T16:17:19.241Z"
   },
   {
    "duration": 154,
    "start_time": "2024-02-07T16:17:19.269Z"
   },
   {
    "duration": 148,
    "start_time": "2024-02-07T16:17:19.425Z"
   },
   {
    "duration": 147,
    "start_time": "2024-02-07T16:17:19.575Z"
   },
   {
    "duration": 236,
    "start_time": "2024-02-07T16:17:19.724Z"
   },
   {
    "duration": 1379,
    "start_time": "2024-02-07T16:17:19.962Z"
   },
   {
    "duration": 25,
    "start_time": "2024-02-07T16:17:21.343Z"
   },
   {
    "duration": 41,
    "start_time": "2024-02-07T16:17:21.370Z"
   },
   {
    "duration": 24,
    "start_time": "2024-02-07T16:17:21.412Z"
   },
   {
    "duration": 44,
    "start_time": "2024-02-07T16:17:21.437Z"
   },
   {
    "duration": 45,
    "start_time": "2024-02-07T16:17:21.483Z"
   },
   {
    "duration": 21,
    "start_time": "2024-02-07T16:17:21.531Z"
   },
   {
    "duration": 504,
    "start_time": "2024-02-07T16:17:21.553Z"
   },
   {
    "duration": 536,
    "start_time": "2024-02-07T16:17:22.059Z"
   },
   {
    "duration": 62,
    "start_time": "2024-02-07T16:17:22.597Z"
   },
   {
    "duration": 41,
    "start_time": "2024-02-07T16:17:22.662Z"
   },
   {
    "duration": 4,
    "start_time": "2024-02-07T16:17:22.705Z"
   },
   {
    "duration": 4050,
    "start_time": "2024-02-07T16:18:14.256Z"
   },
   {
    "duration": 1386,
    "start_time": "2024-02-07T16:18:18.308Z"
   },
   {
    "duration": 15,
    "start_time": "2024-02-07T16:18:19.696Z"
   },
   {
    "duration": 153,
    "start_time": "2024-02-07T16:18:19.713Z"
   },
   {
    "duration": 155,
    "start_time": "2024-02-07T16:18:19.868Z"
   },
   {
    "duration": 104,
    "start_time": "2024-02-07T16:18:20.024Z"
   },
   {
    "duration": 255,
    "start_time": "2024-02-07T16:18:20.129Z"
   },
   {
    "duration": 1406,
    "start_time": "2024-02-07T16:18:20.385Z"
   },
   {
    "duration": 21,
    "start_time": "2024-02-07T16:18:21.793Z"
   },
   {
    "duration": 29,
    "start_time": "2024-02-07T16:18:21.817Z"
   },
   {
    "duration": 44,
    "start_time": "2024-02-07T16:18:21.848Z"
   },
   {
    "duration": 30,
    "start_time": "2024-02-07T16:18:21.894Z"
   },
   {
    "duration": 48,
    "start_time": "2024-02-07T16:18:21.926Z"
   },
   {
    "duration": 22,
    "start_time": "2024-02-07T16:18:21.975Z"
   },
   {
    "duration": 462,
    "start_time": "2024-02-07T16:18:21.998Z"
   },
   {
    "duration": 483,
    "start_time": "2024-02-07T16:18:22.463Z"
   },
   {
    "duration": 56,
    "start_time": "2024-02-07T16:18:22.948Z"
   },
   {
    "duration": 36,
    "start_time": "2024-02-07T16:18:23.006Z"
   },
   {
    "duration": 18,
    "start_time": "2024-02-07T16:18:23.044Z"
   },
   {
    "duration": 57,
    "start_time": "2024-02-07T16:18:23.064Z"
   },
   {
    "duration": 37,
    "start_time": "2024-02-07T16:18:23.123Z"
   },
   {
    "duration": 59,
    "start_time": "2024-02-07T16:18:23.162Z"
   },
   {
    "duration": 47,
    "start_time": "2024-02-07T16:18:23.223Z"
   },
   {
    "duration": 33,
    "start_time": "2024-02-07T16:18:23.273Z"
   },
   {
    "duration": 72,
    "start_time": "2024-02-07T16:18:23.307Z"
   },
   {
    "duration": 42,
    "start_time": "2024-02-07T16:18:23.381Z"
   },
   {
    "duration": 50,
    "start_time": "2024-02-07T16:18:23.425Z"
   },
   {
    "duration": 44,
    "start_time": "2024-02-07T16:18:23.480Z"
   },
   {
    "duration": 41,
    "start_time": "2024-02-07T16:18:23.526Z"
   },
   {
    "duration": 55,
    "start_time": "2024-02-07T16:18:23.568Z"
   },
   {
    "duration": 34,
    "start_time": "2024-02-07T16:18:23.624Z"
   },
   {
    "duration": 5080,
    "start_time": "2024-02-07T16:18:23.660Z"
   },
   {
    "duration": 19,
    "start_time": "2024-02-07T16:18:28.741Z"
   },
   {
    "duration": 19,
    "start_time": "2024-02-07T16:18:28.762Z"
   },
   {
    "duration": 280,
    "start_time": "2024-02-07T16:18:28.782Z"
   },
   {
    "duration": 29,
    "start_time": "2024-02-07T16:18:29.064Z"
   },
   {
    "duration": 65,
    "start_time": "2024-02-07T16:18:29.094Z"
   },
   {
    "duration": 67,
    "start_time": "2024-02-07T16:18:29.162Z"
   },
   {
    "duration": 38,
    "start_time": "2024-02-07T16:18:29.231Z"
   },
   {
    "duration": 39,
    "start_time": "2024-02-07T16:20:24.372Z"
   },
   {
    "duration": 45,
    "start_time": "2024-02-07T16:20:26.111Z"
   },
   {
    "duration": 45,
    "start_time": "2024-02-07T16:20:26.702Z"
   },
   {
    "duration": 17,
    "start_time": "2024-02-07T16:20:27.230Z"
   },
   {
    "duration": 3777,
    "start_time": "2024-02-07T16:21:25.651Z"
   },
   {
    "duration": 1401,
    "start_time": "2024-02-07T16:21:29.431Z"
   },
   {
    "duration": 43,
    "start_time": "2024-02-07T16:21:30.834Z"
   },
   {
    "duration": 164,
    "start_time": "2024-02-07T16:21:30.879Z"
   },
   {
    "duration": 161,
    "start_time": "2024-02-07T16:21:31.044Z"
   },
   {
    "duration": 152,
    "start_time": "2024-02-07T16:21:31.207Z"
   },
   {
    "duration": 256,
    "start_time": "2024-02-07T16:21:31.361Z"
   },
   {
    "duration": 1363,
    "start_time": "2024-02-07T16:21:31.618Z"
   },
   {
    "duration": 21,
    "start_time": "2024-02-07T16:21:32.982Z"
   },
   {
    "duration": 57,
    "start_time": "2024-02-07T16:21:33.006Z"
   },
   {
    "duration": 37,
    "start_time": "2024-02-07T16:21:33.064Z"
   },
   {
    "duration": 31,
    "start_time": "2024-02-07T16:21:33.103Z"
   },
   {
    "duration": 56,
    "start_time": "2024-02-07T16:21:33.135Z"
   },
   {
    "duration": 20,
    "start_time": "2024-02-07T16:21:33.192Z"
   },
   {
    "duration": 442,
    "start_time": "2024-02-07T16:21:33.213Z"
   },
   {
    "duration": 496,
    "start_time": "2024-02-07T16:21:33.657Z"
   },
   {
    "duration": 64,
    "start_time": "2024-02-07T16:21:34.155Z"
   },
   {
    "duration": 50,
    "start_time": "2024-02-07T16:21:34.221Z"
   },
   {
    "duration": 5,
    "start_time": "2024-02-07T16:21:34.273Z"
   },
   {
    "duration": 45,
    "start_time": "2024-02-07T16:21:34.279Z"
   },
   {
    "duration": 33,
    "start_time": "2024-02-07T16:21:34.326Z"
   },
   {
    "duration": 48,
    "start_time": "2024-02-07T16:21:34.360Z"
   },
   {
    "duration": 79,
    "start_time": "2024-02-07T16:21:34.410Z"
   },
   {
    "duration": 22,
    "start_time": "2024-02-07T16:21:34.491Z"
   },
   {
    "duration": 36,
    "start_time": "2024-02-07T16:21:34.515Z"
   },
   {
    "duration": 60,
    "start_time": "2024-02-07T16:21:34.552Z"
   },
   {
    "duration": 29,
    "start_time": "2024-02-07T16:21:34.614Z"
   },
   {
    "duration": 44,
    "start_time": "2024-02-07T16:21:34.662Z"
   },
   {
    "duration": 18,
    "start_time": "2024-02-07T16:21:34.708Z"
   },
   {
    "duration": 78,
    "start_time": "2024-02-07T16:21:34.728Z"
   },
   {
    "duration": 10,
    "start_time": "2024-02-07T16:21:34.807Z"
   },
   {
    "duration": 5135,
    "start_time": "2024-02-07T16:21:34.818Z"
   },
   {
    "duration": 10,
    "start_time": "2024-02-07T16:21:39.958Z"
   },
   {
    "duration": 24,
    "start_time": "2024-02-07T16:21:39.969Z"
   },
   {
    "duration": 337,
    "start_time": "2024-02-07T16:21:39.995Z"
   },
   {
    "duration": 40,
    "start_time": "2024-02-07T16:21:40.334Z"
   },
   {
    "duration": 46,
    "start_time": "2024-02-07T16:21:40.375Z"
   },
   {
    "duration": 73,
    "start_time": "2024-02-07T16:21:40.423Z"
   },
   {
    "duration": 16,
    "start_time": "2024-02-07T16:21:40.497Z"
   },
   {
    "duration": 12,
    "start_time": "2024-02-07T16:21:57.558Z"
   },
   {
    "duration": 3,
    "start_time": "2024-02-07T16:41:53.335Z"
   },
   {
    "duration": 186,
    "start_time": "2024-02-07T16:50:04.147Z"
   },
   {
    "duration": 2509,
    "start_time": "2024-02-07T16:51:20.511Z"
   },
   {
    "duration": 937,
    "start_time": "2024-02-07T16:51:37.255Z"
   },
   {
    "duration": 785,
    "start_time": "2024-02-07T16:53:08.597Z"
   },
   {
    "duration": 94,
    "start_time": "2024-02-07T16:54:01.096Z"
   },
   {
    "duration": 54,
    "start_time": "2024-02-07T16:54:24.662Z"
   },
   {
    "duration": 43,
    "start_time": "2024-02-07T16:55:09.385Z"
   },
   {
    "duration": 55,
    "start_time": "2024-02-07T16:55:38.538Z"
   },
   {
    "duration": 3893,
    "start_time": "2024-02-07T16:55:49.184Z"
   },
   {
    "duration": 1674,
    "start_time": "2024-02-07T16:55:53.079Z"
   },
   {
    "duration": 17,
    "start_time": "2024-02-07T16:55:54.755Z"
   },
   {
    "duration": 148,
    "start_time": "2024-02-07T16:55:54.774Z"
   },
   {
    "duration": 144,
    "start_time": "2024-02-07T16:55:54.923Z"
   },
   {
    "duration": 142,
    "start_time": "2024-02-07T16:55:55.069Z"
   },
   {
    "duration": 248,
    "start_time": "2024-02-07T16:55:55.212Z"
   },
   {
    "duration": 1311,
    "start_time": "2024-02-07T16:55:55.462Z"
   },
   {
    "duration": 35,
    "start_time": "2024-02-07T16:55:56.774Z"
   },
   {
    "duration": 43,
    "start_time": "2024-02-07T16:55:56.811Z"
   },
   {
    "duration": 25,
    "start_time": "2024-02-07T16:55:56.855Z"
   },
   {
    "duration": 24,
    "start_time": "2024-02-07T16:55:56.881Z"
   },
   {
    "duration": 26,
    "start_time": "2024-02-07T16:55:56.907Z"
   },
   {
    "duration": 21,
    "start_time": "2024-02-07T16:55:56.960Z"
   },
   {
    "duration": 452,
    "start_time": "2024-02-07T16:55:56.983Z"
   },
   {
    "duration": 495,
    "start_time": "2024-02-07T16:55:57.437Z"
   },
   {
    "duration": 53,
    "start_time": "2024-02-07T16:55:57.933Z"
   },
   {
    "duration": 44,
    "start_time": "2024-02-07T16:55:57.987Z"
   },
   {
    "duration": 5,
    "start_time": "2024-02-07T16:55:58.032Z"
   },
   {
    "duration": 41,
    "start_time": "2024-02-07T16:55:58.059Z"
   },
   {
    "duration": 18,
    "start_time": "2024-02-07T16:55:58.102Z"
   },
   {
    "duration": 63,
    "start_time": "2024-02-07T16:55:58.122Z"
   },
   {
    "duration": 52,
    "start_time": "2024-02-07T16:55:58.186Z"
   },
   {
    "duration": 30,
    "start_time": "2024-02-07T16:55:58.239Z"
   },
   {
    "duration": 39,
    "start_time": "2024-02-07T16:55:58.270Z"
   },
   {
    "duration": 60,
    "start_time": "2024-02-07T16:55:58.310Z"
   },
   {
    "duration": 30,
    "start_time": "2024-02-07T16:55:58.372Z"
   },
   {
    "duration": 54,
    "start_time": "2024-02-07T16:55:58.406Z"
   },
   {
    "duration": 17,
    "start_time": "2024-02-07T16:55:58.462Z"
   },
   {
    "duration": 54,
    "start_time": "2024-02-07T16:55:58.480Z"
   },
   {
    "duration": 30,
    "start_time": "2024-02-07T16:55:58.535Z"
   },
   {
    "duration": 5046,
    "start_time": "2024-02-07T16:55:58.566Z"
   },
   {
    "duration": 10,
    "start_time": "2024-02-07T16:56:03.613Z"
   },
   {
    "duration": 42,
    "start_time": "2024-02-07T16:56:03.624Z"
   },
   {
    "duration": 290,
    "start_time": "2024-02-07T16:56:03.667Z"
   },
   {
    "duration": 34,
    "start_time": "2024-02-07T16:56:03.958Z"
   },
   {
    "duration": 42,
    "start_time": "2024-02-07T16:56:03.994Z"
   },
   {
    "duration": 58,
    "start_time": "2024-02-07T16:56:04.037Z"
   },
   {
    "duration": 12,
    "start_time": "2024-02-07T16:56:04.097Z"
   },
   {
    "duration": 63,
    "start_time": "2024-02-07T16:56:04.111Z"
   },
   {
    "duration": 54,
    "start_time": "2024-02-07T16:59:10.937Z"
   },
   {
    "duration": 49,
    "start_time": "2024-02-07T16:59:28.399Z"
   },
   {
    "duration": 792,
    "start_time": "2024-02-07T16:59:39.697Z"
   },
   {
    "duration": 856,
    "start_time": "2024-02-07T17:00:05.617Z"
   },
   {
    "duration": 834,
    "start_time": "2024-02-07T17:01:19.257Z"
   },
   {
    "duration": 1814,
    "start_time": "2024-02-07T17:01:55.777Z"
   },
   {
    "duration": 931,
    "start_time": "2024-02-07T17:02:04.538Z"
   },
   {
    "duration": 199,
    "start_time": "2024-02-07T18:16:33.478Z"
   },
   {
    "duration": 83,
    "start_time": "2024-02-07T18:17:25.730Z"
   },
   {
    "duration": 85,
    "start_time": "2024-02-07T18:17:33.849Z"
   },
   {
    "duration": 83,
    "start_time": "2024-02-07T18:18:10.422Z"
   },
   {
    "duration": 2538,
    "start_time": "2024-02-07T18:18:49.973Z"
   },
   {
    "duration": 89,
    "start_time": "2024-02-07T18:19:37.210Z"
   },
   {
    "duration": 28217,
    "start_time": "2024-02-07T18:19:50.845Z"
   },
   {
    "duration": 27440,
    "start_time": "2024-02-07T18:23:07.319Z"
   },
   {
    "duration": 25439,
    "start_time": "2024-02-07T18:25:48.527Z"
   },
   {
    "duration": 26428,
    "start_time": "2024-02-07T18:26:57.479Z"
   },
   {
    "duration": 4044,
    "start_time": "2024-02-07T18:39:05.889Z"
   },
   {
    "duration": 1588,
    "start_time": "2024-02-07T18:39:09.936Z"
   },
   {
    "duration": 22,
    "start_time": "2024-02-07T18:39:11.525Z"
   },
   {
    "duration": 187,
    "start_time": "2024-02-07T18:39:11.548Z"
   },
   {
    "duration": 154,
    "start_time": "2024-02-07T18:39:11.736Z"
   },
   {
    "duration": 130,
    "start_time": "2024-02-07T18:39:11.891Z"
   },
   {
    "duration": 253,
    "start_time": "2024-02-07T18:39:12.023Z"
   },
   {
    "duration": 1322,
    "start_time": "2024-02-07T18:39:12.277Z"
   },
   {
    "duration": 21,
    "start_time": "2024-02-07T18:39:13.601Z"
   },
   {
    "duration": 37,
    "start_time": "2024-02-07T18:39:13.625Z"
   },
   {
    "duration": 37,
    "start_time": "2024-02-07T18:39:13.664Z"
   },
   {
    "duration": 39,
    "start_time": "2024-02-07T18:39:13.703Z"
   },
   {
    "duration": 40,
    "start_time": "2024-02-07T18:39:13.744Z"
   },
   {
    "duration": 26,
    "start_time": "2024-02-07T18:39:13.785Z"
   },
   {
    "duration": 449,
    "start_time": "2024-02-07T18:39:13.813Z"
   },
   {
    "duration": 501,
    "start_time": "2024-02-07T18:39:14.264Z"
   },
   {
    "duration": 49,
    "start_time": "2024-02-07T18:39:14.771Z"
   },
   {
    "duration": 47,
    "start_time": "2024-02-07T18:39:14.822Z"
   },
   {
    "duration": 4,
    "start_time": "2024-02-07T18:39:14.871Z"
   },
   {
    "duration": 44,
    "start_time": "2024-02-07T18:39:14.876Z"
   },
   {
    "duration": 38,
    "start_time": "2024-02-07T18:39:14.922Z"
   },
   {
    "duration": 45,
    "start_time": "2024-02-07T18:39:14.962Z"
   },
   {
    "duration": 32,
    "start_time": "2024-02-07T18:39:15.009Z"
   },
   {
    "duration": 23,
    "start_time": "2024-02-07T18:39:15.058Z"
   },
   {
    "duration": 42,
    "start_time": "2024-02-07T18:39:15.085Z"
   },
   {
    "duration": 62,
    "start_time": "2024-02-07T18:39:15.128Z"
   },
   {
    "duration": 29,
    "start_time": "2024-02-07T18:39:15.191Z"
   },
   {
    "duration": 58,
    "start_time": "2024-02-07T18:39:15.223Z"
   },
   {
    "duration": 18,
    "start_time": "2024-02-07T18:39:15.282Z"
   },
   {
    "duration": 76,
    "start_time": "2024-02-07T18:39:15.302Z"
   },
   {
    "duration": 10,
    "start_time": "2024-02-07T18:39:15.380Z"
   },
   {
    "duration": 5113,
    "start_time": "2024-02-07T18:39:15.391Z"
   },
   {
    "duration": 10,
    "start_time": "2024-02-07T18:39:20.506Z"
   },
   {
    "duration": 18,
    "start_time": "2024-02-07T18:39:20.518Z"
   },
   {
    "duration": 313,
    "start_time": "2024-02-07T18:39:20.538Z"
   },
   {
    "duration": 40,
    "start_time": "2024-02-07T18:39:20.852Z"
   },
   {
    "duration": 38,
    "start_time": "2024-02-07T18:39:20.897Z"
   },
   {
    "duration": 68,
    "start_time": "2024-02-07T18:39:20.936Z"
   },
   {
    "duration": 13,
    "start_time": "2024-02-07T18:39:21.005Z"
   },
   {
    "duration": 953,
    "start_time": "2024-02-07T18:39:21.020Z"
   },
   {
    "duration": 27604,
    "start_time": "2024-02-07T18:39:22.058Z"
   },
   {
    "duration": 4177,
    "start_time": "2024-02-07T18:47:00.452Z"
   },
   {
    "duration": 1499,
    "start_time": "2024-02-07T18:47:04.631Z"
   },
   {
    "duration": 16,
    "start_time": "2024-02-07T18:47:06.131Z"
   },
   {
    "duration": 168,
    "start_time": "2024-02-07T18:47:06.149Z"
   },
   {
    "duration": 158,
    "start_time": "2024-02-07T18:47:06.319Z"
   },
   {
    "duration": 144,
    "start_time": "2024-02-07T18:47:06.480Z"
   },
   {
    "duration": 240,
    "start_time": "2024-02-07T18:47:06.625Z"
   },
   {
    "duration": 1361,
    "start_time": "2024-02-07T18:47:06.866Z"
   },
   {
    "duration": 20,
    "start_time": "2024-02-07T18:47:08.229Z"
   },
   {
    "duration": 20,
    "start_time": "2024-02-07T18:47:08.258Z"
   },
   {
    "duration": 28,
    "start_time": "2024-02-07T18:47:08.280Z"
   },
   {
    "duration": 21,
    "start_time": "2024-02-07T18:47:08.309Z"
   },
   {
    "duration": 58,
    "start_time": "2024-02-07T18:47:08.332Z"
   },
   {
    "duration": 20,
    "start_time": "2024-02-07T18:47:08.391Z"
   },
   {
    "duration": 442,
    "start_time": "2024-02-07T18:47:08.413Z"
   },
   {
    "duration": 498,
    "start_time": "2024-02-07T18:47:08.856Z"
   },
   {
    "duration": 62,
    "start_time": "2024-02-07T18:47:09.356Z"
   },
   {
    "duration": 62,
    "start_time": "2024-02-07T18:47:09.419Z"
   },
   {
    "duration": 4,
    "start_time": "2024-02-07T18:47:09.483Z"
   },
   {
    "duration": 46,
    "start_time": "2024-02-07T18:47:09.489Z"
   },
   {
    "duration": 31,
    "start_time": "2024-02-07T18:47:09.536Z"
   },
   {
    "duration": 43,
    "start_time": "2024-02-07T18:47:09.569Z"
   },
   {
    "duration": 66,
    "start_time": "2024-02-07T18:47:09.613Z"
   },
   {
    "duration": 27,
    "start_time": "2024-02-07T18:47:09.681Z"
   },
   {
    "duration": 71,
    "start_time": "2024-02-07T18:47:09.710Z"
   },
   {
    "duration": 43,
    "start_time": "2024-02-07T18:47:09.783Z"
   },
   {
    "duration": 47,
    "start_time": "2024-02-07T18:47:09.827Z"
   },
   {
    "duration": 43,
    "start_time": "2024-02-07T18:47:09.879Z"
   },
   {
    "duration": 46,
    "start_time": "2024-02-07T18:47:09.923Z"
   },
   {
    "duration": 54,
    "start_time": "2024-02-07T18:47:09.972Z"
   },
   {
    "duration": 10,
    "start_time": "2024-02-07T18:47:10.027Z"
   },
   {
    "duration": 5140,
    "start_time": "2024-02-07T18:47:10.059Z"
   },
   {
    "duration": 9,
    "start_time": "2024-02-07T18:47:15.201Z"
   },
   {
    "duration": 23,
    "start_time": "2024-02-07T18:47:15.211Z"
   },
   {
    "duration": 342,
    "start_time": "2024-02-07T18:47:15.235Z"
   },
   {
    "duration": 36,
    "start_time": "2024-02-07T18:47:15.578Z"
   },
   {
    "duration": 52,
    "start_time": "2024-02-07T18:47:15.615Z"
   },
   {
    "duration": 48,
    "start_time": "2024-02-07T18:47:15.669Z"
   },
   {
    "duration": 12,
    "start_time": "2024-02-07T18:47:15.719Z"
   },
   {
    "duration": 1027,
    "start_time": "2024-02-07T18:47:15.732Z"
   },
   {
    "duration": 28117,
    "start_time": "2024-02-07T18:47:16.761Z"
   },
   {
    "duration": 81,
    "start_time": "2024-02-07T18:47:44.882Z"
   },
   {
    "duration": 0,
    "start_time": "2024-02-07T18:47:44.966Z"
   },
   {
    "duration": 0,
    "start_time": "2024-02-07T18:47:44.967Z"
   },
   {
    "duration": 10003,
    "start_time": "2024-02-07T18:49:01.761Z"
   },
   {
    "duration": 41533,
    "start_time": "2024-02-07T18:49:23.690Z"
   },
   {
    "duration": 57,
    "start_time": "2024-02-07T18:52:08.881Z"
   },
   {
    "duration": 41456,
    "start_time": "2024-02-07T18:52:15.465Z"
   },
   {
    "duration": 95805,
    "start_time": "2024-02-07T18:54:13.853Z"
   },
   {
    "duration": 93125,
    "start_time": "2024-02-07T18:57:58.772Z"
   },
   {
    "duration": 4797,
    "start_time": "2024-02-08T05:50:47.782Z"
   },
   {
    "duration": 1688,
    "start_time": "2024-02-08T05:50:52.581Z"
   },
   {
    "duration": 17,
    "start_time": "2024-02-08T05:50:54.270Z"
   },
   {
    "duration": 154,
    "start_time": "2024-02-08T05:50:54.289Z"
   },
   {
    "duration": 135,
    "start_time": "2024-02-08T05:50:54.445Z"
   },
   {
    "duration": 125,
    "start_time": "2024-02-08T05:50:54.582Z"
   },
   {
    "duration": 227,
    "start_time": "2024-02-08T05:50:54.708Z"
   },
   {
    "duration": 1237,
    "start_time": "2024-02-08T05:50:54.937Z"
   },
   {
    "duration": 33,
    "start_time": "2024-02-08T05:50:56.176Z"
   },
   {
    "duration": 22,
    "start_time": "2024-02-08T05:50:56.212Z"
   },
   {
    "duration": 40,
    "start_time": "2024-02-08T05:50:56.235Z"
   },
   {
    "duration": 27,
    "start_time": "2024-02-08T05:50:56.276Z"
   },
   {
    "duration": 25,
    "start_time": "2024-02-08T05:50:56.305Z"
   },
   {
    "duration": 37,
    "start_time": "2024-02-08T05:50:56.331Z"
   },
   {
    "duration": 434,
    "start_time": "2024-02-08T05:50:56.370Z"
   },
   {
    "duration": 470,
    "start_time": "2024-02-08T05:50:56.806Z"
   },
   {
    "duration": 47,
    "start_time": "2024-02-08T05:50:57.277Z"
   },
   {
    "duration": 47,
    "start_time": "2024-02-08T05:50:57.326Z"
   },
   {
    "duration": 6,
    "start_time": "2024-02-08T05:50:57.377Z"
   },
   {
    "duration": 44,
    "start_time": "2024-02-08T05:50:57.384Z"
   },
   {
    "duration": 16,
    "start_time": "2024-02-08T05:50:57.429Z"
   },
   {
    "duration": 57,
    "start_time": "2024-02-08T05:50:57.446Z"
   },
   {
    "duration": 49,
    "start_time": "2024-02-08T05:50:57.505Z"
   },
   {
    "duration": 26,
    "start_time": "2024-02-08T05:50:57.564Z"
   },
   {
    "duration": 39,
    "start_time": "2024-02-08T05:50:57.592Z"
   },
   {
    "duration": 55,
    "start_time": "2024-02-08T05:50:57.632Z"
   },
   {
    "duration": 29,
    "start_time": "2024-02-08T05:50:57.688Z"
   },
   {
    "duration": 60,
    "start_time": "2024-02-08T05:50:57.720Z"
   },
   {
    "duration": 17,
    "start_time": "2024-02-08T05:50:57.781Z"
   },
   {
    "duration": 52,
    "start_time": "2024-02-08T05:50:57.799Z"
   },
   {
    "duration": 10,
    "start_time": "2024-02-08T05:50:57.865Z"
   },
   {
    "duration": 4968,
    "start_time": "2024-02-08T05:50:57.876Z"
   },
   {
    "duration": 11,
    "start_time": "2024-02-08T05:51:02.845Z"
   },
   {
    "duration": 11,
    "start_time": "2024-02-08T05:51:02.857Z"
   },
   {
    "duration": 268,
    "start_time": "2024-02-08T05:51:02.870Z"
   },
   {
    "duration": 40,
    "start_time": "2024-02-08T05:51:03.140Z"
   },
   {
    "duration": 41,
    "start_time": "2024-02-08T05:51:03.181Z"
   },
   {
    "duration": 50,
    "start_time": "2024-02-08T05:51:03.224Z"
   },
   {
    "duration": 12,
    "start_time": "2024-02-08T05:51:03.275Z"
   },
   {
    "duration": 999,
    "start_time": "2024-02-08T05:51:03.288Z"
   },
   {
    "duration": 29265,
    "start_time": "2024-02-08T05:51:04.289Z"
   },
   {
    "duration": 91038,
    "start_time": "2024-02-08T05:51:33.556Z"
   },
   {
    "duration": 181076,
    "start_time": "2024-02-08T05:53:04.596Z"
   },
   {
    "duration": 411749,
    "start_time": "2024-02-08T05:56:05.673Z"
   },
   {
    "duration": 40,
    "start_time": "2024-02-08T06:50:04.192Z"
   },
   {
    "duration": 43,
    "start_time": "2024-02-08T06:51:09.855Z"
   },
   {
    "duration": 357,
    "start_time": "2024-02-08T06:52:36.637Z"
   },
   {
    "duration": 67,
    "start_time": "2024-02-08T06:52:49.103Z"
   },
   {
    "duration": 77,
    "start_time": "2024-02-08T06:53:09.294Z"
   },
   {
    "duration": 131,
    "start_time": "2024-02-08T06:53:30.134Z"
   },
   {
    "duration": 50,
    "start_time": "2024-02-08T06:53:46.482Z"
   },
   {
    "duration": 43,
    "start_time": "2024-02-08T06:53:49.944Z"
   },
   {
    "duration": 42,
    "start_time": "2024-02-08T06:53:54.444Z"
   },
   {
    "duration": 25,
    "start_time": "2024-02-08T06:58:09.822Z"
   },
   {
    "duration": 205,
    "start_time": "2024-02-08T06:58:59.663Z"
   },
   {
    "duration": 24,
    "start_time": "2024-02-08T06:59:07.082Z"
   },
   {
    "duration": 633,
    "start_time": "2024-02-08T07:01:55.734Z"
   },
   {
    "duration": 603,
    "start_time": "2024-02-08T07:02:33.546Z"
   },
   {
    "duration": 502,
    "start_time": "2024-02-08T07:03:46.765Z"
   },
   {
    "duration": 392,
    "start_time": "2024-02-08T07:04:33.256Z"
   },
   {
    "duration": 7651,
    "start_time": "2024-02-08T07:11:09.723Z"
   },
   {
    "duration": 23535,
    "start_time": "2024-02-08T07:12:45.335Z"
   },
   {
    "duration": 400,
    "start_time": "2024-02-08T07:13:52.408Z"
   },
   {
    "duration": 7732,
    "start_time": "2024-02-08T07:14:00.653Z"
   },
   {
    "duration": 23908,
    "start_time": "2024-02-08T07:14:11.733Z"
   },
   {
    "duration": 39,
    "start_time": "2024-02-08T07:30:31.206Z"
   },
   {
    "duration": 12,
    "start_time": "2024-02-08T07:30:32.035Z"
   },
   {
    "duration": 443,
    "start_time": "2024-02-08T07:30:57.887Z"
   },
   {
    "duration": 20,
    "start_time": "2024-02-08T07:30:59.116Z"
   },
   {
    "duration": 410,
    "start_time": "2024-02-08T07:31:22.555Z"
   },
   {
    "duration": 15,
    "start_time": "2024-02-08T07:31:22.967Z"
   },
   {
    "duration": 7530,
    "start_time": "2024-02-08T07:31:40.847Z"
   },
   {
    "duration": 488,
    "start_time": "2024-02-08T07:31:48.379Z"
   },
   {
    "duration": 23849,
    "start_time": "2024-02-08T07:31:59.264Z"
   },
   {
    "duration": 71,
    "start_time": "2024-02-08T07:32:23.115Z"
   },
   {
    "duration": 11,
    "start_time": "2024-02-08T07:48:37.879Z"
   },
   {
    "duration": 67,
    "start_time": "2024-02-08T07:54:53.903Z"
   },
   {
    "duration": 14,
    "start_time": "2024-02-08T07:55:16.652Z"
   },
   {
    "duration": 14,
    "start_time": "2024-02-08T07:55:54.373Z"
   },
   {
    "duration": 20,
    "start_time": "2024-02-08T07:56:06.893Z"
   },
   {
    "duration": 16,
    "start_time": "2024-02-08T07:57:05.403Z"
   },
   {
    "duration": 13,
    "start_time": "2024-02-08T07:57:20.693Z"
   },
   {
    "duration": 15,
    "start_time": "2024-02-08T07:57:38.572Z"
   },
   {
    "duration": 15,
    "start_time": "2024-02-08T07:57:45.641Z"
   },
   {
    "duration": 15,
    "start_time": "2024-02-08T07:57:48.361Z"
   },
   {
    "duration": 3748,
    "start_time": "2024-02-08T08:27:35.475Z"
   },
   {
    "duration": 1812,
    "start_time": "2024-02-08T08:27:39.226Z"
   },
   {
    "duration": 15,
    "start_time": "2024-02-08T08:27:41.040Z"
   },
   {
    "duration": 149,
    "start_time": "2024-02-08T08:27:41.065Z"
   },
   {
    "duration": 149,
    "start_time": "2024-02-08T08:27:41.216Z"
   },
   {
    "duration": 102,
    "start_time": "2024-02-08T08:27:41.366Z"
   },
   {
    "duration": 246,
    "start_time": "2024-02-08T08:27:41.470Z"
   },
   {
    "duration": 1302,
    "start_time": "2024-02-08T08:27:41.718Z"
   },
   {
    "duration": 43,
    "start_time": "2024-02-08T08:27:43.022Z"
   },
   {
    "duration": 23,
    "start_time": "2024-02-08T08:27:43.068Z"
   },
   {
    "duration": 31,
    "start_time": "2024-02-08T08:27:43.093Z"
   },
   {
    "duration": 40,
    "start_time": "2024-02-08T08:27:43.126Z"
   },
   {
    "duration": 25,
    "start_time": "2024-02-08T08:27:43.168Z"
   },
   {
    "duration": 25,
    "start_time": "2024-02-08T08:27:43.195Z"
   },
   {
    "duration": 481,
    "start_time": "2024-02-08T08:27:43.222Z"
   },
   {
    "duration": 478,
    "start_time": "2024-02-08T08:27:43.705Z"
   },
   {
    "duration": 48,
    "start_time": "2024-02-08T08:27:44.185Z"
   },
   {
    "duration": 60,
    "start_time": "2024-02-08T08:27:44.235Z"
   },
   {
    "duration": 6,
    "start_time": "2024-02-08T08:27:44.297Z"
   },
   {
    "duration": 62,
    "start_time": "2024-02-08T08:27:44.305Z"
   },
   {
    "duration": 16,
    "start_time": "2024-02-08T08:27:44.368Z"
   },
   {
    "duration": 51,
    "start_time": "2024-02-08T08:27:44.385Z"
   },
   {
    "duration": 45,
    "start_time": "2024-02-08T08:27:44.438Z"
   },
   {
    "duration": 25,
    "start_time": "2024-02-08T08:27:44.484Z"
   },
   {
    "duration": 65,
    "start_time": "2024-02-08T08:27:44.510Z"
   },
   {
    "duration": 44,
    "start_time": "2024-02-08T08:27:44.576Z"
   },
   {
    "duration": 44,
    "start_time": "2024-02-08T08:27:44.621Z"
   },
   {
    "duration": 39,
    "start_time": "2024-02-08T08:27:44.669Z"
   },
   {
    "duration": 17,
    "start_time": "2024-02-08T08:27:44.710Z"
   },
   {
    "duration": 76,
    "start_time": "2024-02-08T08:27:44.728Z"
   },
   {
    "duration": 12,
    "start_time": "2024-02-08T08:27:44.805Z"
   },
   {
    "duration": 4873,
    "start_time": "2024-02-08T08:27:44.819Z"
   },
   {
    "duration": 10,
    "start_time": "2024-02-08T08:27:49.693Z"
   },
   {
    "duration": 16,
    "start_time": "2024-02-08T08:27:49.705Z"
   },
   {
    "duration": 285,
    "start_time": "2024-02-08T08:27:49.723Z"
   },
   {
    "duration": 33,
    "start_time": "2024-02-08T08:27:50.009Z"
   },
   {
    "duration": 92,
    "start_time": "2024-02-08T08:27:50.044Z"
   },
   {
    "duration": 13,
    "start_time": "2024-02-08T08:27:50.138Z"
   },
   {
    "duration": 918,
    "start_time": "2024-02-08T08:27:50.165Z"
   },
   {
    "duration": 28034,
    "start_time": "2024-02-08T08:27:51.085Z"
   },
   {
    "duration": 94754,
    "start_time": "2024-02-08T08:28:19.120Z"
   },
   {
    "duration": 196491,
    "start_time": "2024-02-08T08:29:53.875Z"
   },
   {
    "duration": 413710,
    "start_time": "2024-02-08T08:33:10.368Z"
   },
   {
    "duration": 39,
    "start_time": "2024-02-08T08:40:04.080Z"
   },
   {
    "duration": 45,
    "start_time": "2024-02-08T08:40:04.121Z"
   },
   {
    "duration": 562,
    "start_time": "2024-02-08T08:40:04.169Z"
   },
   {
    "duration": 33,
    "start_time": "2024-02-08T08:40:04.733Z"
   },
   {
    "duration": 497,
    "start_time": "2024-02-08T08:40:04.768Z"
   },
   {
    "duration": 17,
    "start_time": "2024-02-08T08:40:05.267Z"
   },
   {
    "duration": 7199,
    "start_time": "2024-02-08T08:40:05.286Z"
   },
   {
    "duration": 484,
    "start_time": "2024-02-08T08:40:12.487Z"
   },
   {
    "duration": 23649,
    "start_time": "2024-02-08T08:40:12.973Z"
   },
   {
    "duration": 65,
    "start_time": "2024-02-08T08:40:36.623Z"
   },
   {
    "duration": 13,
    "start_time": "2024-02-08T08:40:36.690Z"
   },
   {
    "duration": 4910,
    "start_time": "2024-02-08T12:40:48.300Z"
   },
   {
    "duration": 1637,
    "start_time": "2024-02-08T12:40:53.212Z"
   },
   {
    "duration": 16,
    "start_time": "2024-02-08T12:40:54.851Z"
   },
   {
    "duration": 145,
    "start_time": "2024-02-08T12:40:54.869Z"
   },
   {
    "duration": 138,
    "start_time": "2024-02-08T12:40:55.015Z"
   },
   {
    "duration": 102,
    "start_time": "2024-02-08T12:40:55.154Z"
   },
   {
    "duration": 230,
    "start_time": "2024-02-08T12:40:55.258Z"
   },
   {
    "duration": 1243,
    "start_time": "2024-02-08T12:40:55.490Z"
   },
   {
    "duration": 21,
    "start_time": "2024-02-08T12:40:56.734Z"
   },
   {
    "duration": 34,
    "start_time": "2024-02-08T12:40:56.757Z"
   },
   {
    "duration": 52,
    "start_time": "2024-02-08T12:40:56.793Z"
   },
   {
    "duration": 27,
    "start_time": "2024-02-08T12:40:56.846Z"
   },
   {
    "duration": 27,
    "start_time": "2024-02-08T12:40:56.875Z"
   },
   {
    "duration": 21,
    "start_time": "2024-02-08T12:40:56.903Z"
   },
   {
    "duration": 414,
    "start_time": "2024-02-08T12:40:56.925Z"
   },
   {
    "duration": 454,
    "start_time": "2024-02-08T12:40:57.341Z"
   },
   {
    "duration": 45,
    "start_time": "2024-02-08T12:40:57.796Z"
   },
   {
    "duration": 48,
    "start_time": "2024-02-08T12:40:57.842Z"
   },
   {
    "duration": 4,
    "start_time": "2024-02-08T12:40:57.891Z"
   },
   {
    "duration": 38,
    "start_time": "2024-02-08T12:40:57.897Z"
   },
   {
    "duration": 15,
    "start_time": "2024-02-08T12:40:57.936Z"
   },
   {
    "duration": 382,
    "start_time": "2024-02-08T12:40:57.953Z"
   },
   {
    "duration": 0,
    "start_time": "2024-02-08T12:40:58.338Z"
   },
   {
    "duration": 0,
    "start_time": "2024-02-08T12:40:58.339Z"
   },
   {
    "duration": 0,
    "start_time": "2024-02-08T12:40:58.340Z"
   },
   {
    "duration": 0,
    "start_time": "2024-02-08T12:40:58.341Z"
   },
   {
    "duration": 0,
    "start_time": "2024-02-08T12:40:58.342Z"
   },
   {
    "duration": 0,
    "start_time": "2024-02-08T12:40:58.343Z"
   },
   {
    "duration": 0,
    "start_time": "2024-02-08T12:40:58.344Z"
   },
   {
    "duration": 0,
    "start_time": "2024-02-08T12:40:58.345Z"
   },
   {
    "duration": 0,
    "start_time": "2024-02-08T12:40:58.345Z"
   },
   {
    "duration": 0,
    "start_time": "2024-02-08T12:40:58.346Z"
   },
   {
    "duration": 0,
    "start_time": "2024-02-08T12:40:58.347Z"
   },
   {
    "duration": 0,
    "start_time": "2024-02-08T12:40:58.348Z"
   },
   {
    "duration": 0,
    "start_time": "2024-02-08T12:40:58.349Z"
   },
   {
    "duration": 0,
    "start_time": "2024-02-08T12:40:58.350Z"
   },
   {
    "duration": 0,
    "start_time": "2024-02-08T12:40:58.351Z"
   },
   {
    "duration": 0,
    "start_time": "2024-02-08T12:40:58.352Z"
   },
   {
    "duration": 0,
    "start_time": "2024-02-08T12:40:58.353Z"
   },
   {
    "duration": 0,
    "start_time": "2024-02-08T12:40:58.353Z"
   },
   {
    "duration": 0,
    "start_time": "2024-02-08T12:40:58.354Z"
   },
   {
    "duration": 0,
    "start_time": "2024-02-08T12:40:58.355Z"
   },
   {
    "duration": 0,
    "start_time": "2024-02-08T12:40:58.356Z"
   },
   {
    "duration": 0,
    "start_time": "2024-02-08T12:40:58.357Z"
   },
   {
    "duration": 0,
    "start_time": "2024-02-08T12:40:58.358Z"
   },
   {
    "duration": 0,
    "start_time": "2024-02-08T12:40:58.359Z"
   },
   {
    "duration": 0,
    "start_time": "2024-02-08T12:40:58.360Z"
   },
   {
    "duration": 0,
    "start_time": "2024-02-08T12:40:58.361Z"
   },
   {
    "duration": 0,
    "start_time": "2024-02-08T12:40:58.362Z"
   },
   {
    "duration": 0,
    "start_time": "2024-02-08T12:40:58.363Z"
   },
   {
    "duration": 0,
    "start_time": "2024-02-08T12:40:58.364Z"
   },
   {
    "duration": 0,
    "start_time": "2024-02-08T12:40:58.365Z"
   },
   {
    "duration": 0,
    "start_time": "2024-02-08T12:40:58.365Z"
   },
   {
    "duration": 0,
    "start_time": "2024-02-08T12:40:58.366Z"
   },
   {
    "duration": 0,
    "start_time": "2024-02-08T12:40:58.367Z"
   },
   {
    "duration": 15,
    "start_time": "2024-02-08T12:41:11.243Z"
   },
   {
    "duration": 38,
    "start_time": "2024-02-08T12:41:12.582Z"
   },
   {
    "duration": 256,
    "start_time": "2024-02-08T12:41:13.304Z"
   },
   {
    "duration": 27,
    "start_time": "2024-02-08T12:41:18.494Z"
   },
   {
    "duration": 19,
    "start_time": "2024-02-08T12:41:20.744Z"
   },
   {
    "duration": 72,
    "start_time": "2024-02-08T12:41:21.143Z"
   },
   {
    "duration": 11,
    "start_time": "2024-02-08T12:41:21.654Z"
   },
   {
    "duration": 5314,
    "start_time": "2024-02-08T12:41:23.894Z"
   },
   {
    "duration": 5001,
    "start_time": "2024-02-08T12:41:40.188Z"
   },
   {
    "duration": 118,
    "start_time": "2024-02-08T12:43:07.240Z"
   },
   {
    "duration": 3734,
    "start_time": "2024-02-08T12:43:28.181Z"
   },
   {
    "duration": 1404,
    "start_time": "2024-02-08T12:43:31.916Z"
   },
   {
    "duration": 16,
    "start_time": "2024-02-08T12:43:33.322Z"
   },
   {
    "duration": 149,
    "start_time": "2024-02-08T12:43:33.339Z"
   },
   {
    "duration": 138,
    "start_time": "2024-02-08T12:43:33.490Z"
   },
   {
    "duration": 91,
    "start_time": "2024-02-08T12:43:33.629Z"
   },
   {
    "duration": 230,
    "start_time": "2024-02-08T12:43:33.721Z"
   },
   {
    "duration": 1256,
    "start_time": "2024-02-08T12:43:33.953Z"
   },
   {
    "duration": 24,
    "start_time": "2024-02-08T12:43:35.210Z"
   },
   {
    "duration": 35,
    "start_time": "2024-02-08T12:43:35.236Z"
   },
   {
    "duration": 27,
    "start_time": "2024-02-08T12:43:35.272Z"
   },
   {
    "duration": 21,
    "start_time": "2024-02-08T12:43:35.301Z"
   },
   {
    "duration": 28,
    "start_time": "2024-02-08T12:43:35.323Z"
   },
   {
    "duration": 22,
    "start_time": "2024-02-08T12:43:35.352Z"
   },
   {
    "duration": 423,
    "start_time": "2024-02-08T12:43:35.387Z"
   },
   {
    "duration": 430,
    "start_time": "2024-02-08T12:43:35.812Z"
   },
   {
    "duration": 53,
    "start_time": "2024-02-08T12:43:36.243Z"
   },
   {
    "duration": 37,
    "start_time": "2024-02-08T12:43:36.297Z"
   },
   {
    "duration": 4,
    "start_time": "2024-02-08T12:43:36.335Z"
   },
   {
    "duration": 51,
    "start_time": "2024-02-08T12:43:36.340Z"
   },
   {
    "duration": 15,
    "start_time": "2024-02-08T12:43:36.392Z"
   },
   {
    "duration": 15,
    "start_time": "2024-02-08T12:43:36.408Z"
   },
   {
    "duration": 45,
    "start_time": "2024-02-08T12:43:36.424Z"
   },
   {
    "duration": 42,
    "start_time": "2024-02-08T12:43:36.470Z"
   },
   {
    "duration": 22,
    "start_time": "2024-02-08T12:43:36.514Z"
   },
   {
    "duration": 85,
    "start_time": "2024-02-08T12:43:36.538Z"
   },
   {
    "duration": 10,
    "start_time": "2024-02-08T12:43:36.624Z"
   },
   {
    "duration": 122,
    "start_time": "2024-02-08T12:43:36.637Z"
   },
   {
    "duration": 109,
    "start_time": "2024-02-08T12:43:36.761Z"
   },
   {
    "duration": 0,
    "start_time": "2024-02-08T12:43:36.871Z"
   },
   {
    "duration": 0,
    "start_time": "2024-02-08T12:43:36.873Z"
   },
   {
    "duration": 0,
    "start_time": "2024-02-08T12:43:36.874Z"
   },
   {
    "duration": 0,
    "start_time": "2024-02-08T12:43:36.887Z"
   },
   {
    "duration": 0,
    "start_time": "2024-02-08T12:43:36.888Z"
   },
   {
    "duration": 0,
    "start_time": "2024-02-08T12:43:36.888Z"
   },
   {
    "duration": 0,
    "start_time": "2024-02-08T12:43:36.890Z"
   },
   {
    "duration": 0,
    "start_time": "2024-02-08T12:43:36.891Z"
   },
   {
    "duration": 0,
    "start_time": "2024-02-08T12:43:36.891Z"
   },
   {
    "duration": 0,
    "start_time": "2024-02-08T12:43:36.893Z"
   },
   {
    "duration": 0,
    "start_time": "2024-02-08T12:43:36.893Z"
   },
   {
    "duration": 0,
    "start_time": "2024-02-08T12:43:36.895Z"
   },
   {
    "duration": 0,
    "start_time": "2024-02-08T12:43:36.896Z"
   },
   {
    "duration": 0,
    "start_time": "2024-02-08T12:43:36.897Z"
   },
   {
    "duration": 0,
    "start_time": "2024-02-08T12:43:36.898Z"
   },
   {
    "duration": 0,
    "start_time": "2024-02-08T12:43:36.899Z"
   },
   {
    "duration": 0,
    "start_time": "2024-02-08T12:43:36.900Z"
   },
   {
    "duration": 0,
    "start_time": "2024-02-08T12:43:36.901Z"
   },
   {
    "duration": 0,
    "start_time": "2024-02-08T12:43:36.902Z"
   },
   {
    "duration": 0,
    "start_time": "2024-02-08T12:43:36.903Z"
   },
   {
    "duration": 0,
    "start_time": "2024-02-08T12:43:36.904Z"
   },
   {
    "duration": 0,
    "start_time": "2024-02-08T12:43:36.905Z"
   },
   {
    "duration": 0,
    "start_time": "2024-02-08T12:43:36.906Z"
   },
   {
    "duration": 0,
    "start_time": "2024-02-08T12:43:36.907Z"
   },
   {
    "duration": 0,
    "start_time": "2024-02-08T12:43:36.908Z"
   },
   {
    "duration": 0,
    "start_time": "2024-02-08T12:43:36.909Z"
   },
   {
    "duration": 133,
    "start_time": "2024-02-08T12:45:07.122Z"
   },
   {
    "duration": 121,
    "start_time": "2024-02-08T12:45:12.461Z"
   },
   {
    "duration": 103,
    "start_time": "2024-02-08T12:45:15.661Z"
   },
   {
    "duration": 4582,
    "start_time": "2024-02-08T12:45:25.058Z"
   },
   {
    "duration": 4970,
    "start_time": "2024-02-08T12:46:19.048Z"
   },
   {
    "duration": 10,
    "start_time": "2024-02-08T12:46:33.754Z"
   },
   {
    "duration": 11,
    "start_time": "2024-02-08T12:46:34.955Z"
   },
   {
    "duration": 2,
    "start_time": "2024-02-08T12:46:35.207Z"
   },
   {
    "duration": 362,
    "start_time": "2024-02-08T12:46:36.779Z"
   },
   {
    "duration": 31,
    "start_time": "2024-02-08T12:46:37.143Z"
   },
   {
    "duration": 68,
    "start_time": "2024-02-08T12:46:38.832Z"
   },
   {
    "duration": 13,
    "start_time": "2024-02-08T12:46:40.448Z"
   },
   {
    "duration": 4,
    "start_time": "2024-02-08T12:46:41.755Z"
   },
   {
    "duration": 60,
    "start_time": "2024-02-08T13:04:06.742Z"
   },
   {
    "duration": 245,
    "start_time": "2024-02-08T13:06:47.285Z"
   },
   {
    "duration": 69,
    "start_time": "2024-02-08T13:08:52.739Z"
   },
   {
    "duration": 15,
    "start_time": "2024-02-08T13:09:04.881Z"
   },
   {
    "duration": 3923,
    "start_time": "2024-02-08T13:09:33.277Z"
   },
   {
    "duration": 1319,
    "start_time": "2024-02-08T13:09:37.201Z"
   },
   {
    "duration": 15,
    "start_time": "2024-02-08T13:09:38.522Z"
   },
   {
    "duration": 155,
    "start_time": "2024-02-08T13:09:38.539Z"
   },
   {
    "duration": 143,
    "start_time": "2024-02-08T13:09:38.695Z"
   },
   {
    "duration": 92,
    "start_time": "2024-02-08T13:09:38.839Z"
   },
   {
    "duration": 222,
    "start_time": "2024-02-08T13:09:38.933Z"
   },
   {
    "duration": 1236,
    "start_time": "2024-02-08T13:09:39.157Z"
   },
   {
    "duration": 23,
    "start_time": "2024-02-08T13:09:40.394Z"
   },
   {
    "duration": 22,
    "start_time": "2024-02-08T13:09:40.420Z"
   },
   {
    "duration": 23,
    "start_time": "2024-02-08T13:09:40.443Z"
   },
   {
    "duration": 21,
    "start_time": "2024-02-08T13:09:40.488Z"
   },
   {
    "duration": 29,
    "start_time": "2024-02-08T13:09:40.510Z"
   },
   {
    "duration": 20,
    "start_time": "2024-02-08T13:09:40.540Z"
   },
   {
    "duration": 430,
    "start_time": "2024-02-08T13:09:40.562Z"
   },
   {
    "duration": 432,
    "start_time": "2024-02-08T13:09:40.994Z"
   },
   {
    "duration": 45,
    "start_time": "2024-02-08T13:09:41.427Z"
   },
   {
    "duration": 45,
    "start_time": "2024-02-08T13:09:41.474Z"
   },
   {
    "duration": 5,
    "start_time": "2024-02-08T13:09:41.520Z"
   },
   {
    "duration": 47,
    "start_time": "2024-02-08T13:09:41.526Z"
   },
   {
    "duration": 15,
    "start_time": "2024-02-08T13:09:41.586Z"
   },
   {
    "duration": 16,
    "start_time": "2024-02-08T13:09:41.602Z"
   },
   {
    "duration": 38,
    "start_time": "2024-02-08T13:09:41.620Z"
   },
   {
    "duration": 49,
    "start_time": "2024-02-08T13:09:41.659Z"
   },
   {
    "duration": 17,
    "start_time": "2024-02-08T13:09:41.710Z"
   },
   {
    "duration": 74,
    "start_time": "2024-02-08T13:09:41.728Z"
   },
   {
    "duration": 11,
    "start_time": "2024-02-08T13:09:41.803Z"
   },
   {
    "duration": 128,
    "start_time": "2024-02-08T13:09:41.817Z"
   },
   {
    "duration": 140,
    "start_time": "2024-02-08T13:09:41.947Z"
   },
   {
    "duration": 4811,
    "start_time": "2024-02-08T13:09:42.088Z"
   },
   {
    "duration": 11,
    "start_time": "2024-02-08T13:09:46.901Z"
   },
   {
    "duration": 17,
    "start_time": "2024-02-08T13:09:46.914Z"
   },
   {
    "duration": 46,
    "start_time": "2024-02-08T13:09:46.933Z"
   },
   {
    "duration": 609,
    "start_time": "2024-02-08T13:09:46.981Z"
   },
   {
    "duration": 448,
    "start_time": "2024-02-08T13:09:47.592Z"
   },
   {
    "duration": 101,
    "start_time": "2024-02-08T13:09:48.042Z"
   },
   {
    "duration": 16,
    "start_time": "2024-02-08T13:09:48.145Z"
   },
   {
    "duration": 111,
    "start_time": "2024-02-08T13:09:48.162Z"
   },
   {
    "duration": 0,
    "start_time": "2024-02-08T13:09:48.274Z"
   },
   {
    "duration": 0,
    "start_time": "2024-02-08T13:09:48.275Z"
   },
   {
    "duration": 0,
    "start_time": "2024-02-08T13:09:48.276Z"
   },
   {
    "duration": 0,
    "start_time": "2024-02-08T13:09:48.277Z"
   },
   {
    "duration": 0,
    "start_time": "2024-02-08T13:09:48.278Z"
   },
   {
    "duration": 0,
    "start_time": "2024-02-08T13:09:48.279Z"
   },
   {
    "duration": 0,
    "start_time": "2024-02-08T13:09:48.287Z"
   },
   {
    "duration": 0,
    "start_time": "2024-02-08T13:09:48.288Z"
   },
   {
    "duration": 0,
    "start_time": "2024-02-08T13:09:48.289Z"
   },
   {
    "duration": 0,
    "start_time": "2024-02-08T13:09:48.290Z"
   },
   {
    "duration": 0,
    "start_time": "2024-02-08T13:09:48.291Z"
   },
   {
    "duration": 0,
    "start_time": "2024-02-08T13:09:48.292Z"
   },
   {
    "duration": 0,
    "start_time": "2024-02-08T13:09:48.293Z"
   },
   {
    "duration": 0,
    "start_time": "2024-02-08T13:09:48.294Z"
   },
   {
    "duration": 0,
    "start_time": "2024-02-08T13:09:48.295Z"
   },
   {
    "duration": 0,
    "start_time": "2024-02-08T13:09:48.296Z"
   },
   {
    "duration": 0,
    "start_time": "2024-02-08T13:09:48.297Z"
   },
   {
    "duration": 0,
    "start_time": "2024-02-08T13:09:48.298Z"
   },
   {
    "duration": 0,
    "start_time": "2024-02-08T13:09:48.298Z"
   },
   {
    "duration": 16,
    "start_time": "2024-02-08T13:11:38.128Z"
   },
   {
    "duration": 47,
    "start_time": "2024-02-08T13:11:40.534Z"
   },
   {
    "duration": 15,
    "start_time": "2024-02-08T13:11:48.320Z"
   },
   {
    "duration": 41,
    "start_time": "2024-02-08T13:12:11.252Z"
   },
   {
    "duration": 15,
    "start_time": "2024-02-08T13:12:12.301Z"
   },
   {
    "duration": 3764,
    "start_time": "2024-02-08T13:12:51.287Z"
   },
   {
    "duration": 1734,
    "start_time": "2024-02-08T13:12:55.053Z"
   },
   {
    "duration": 16,
    "start_time": "2024-02-08T13:12:56.789Z"
   },
   {
    "duration": 173,
    "start_time": "2024-02-08T13:12:56.806Z"
   },
   {
    "duration": 134,
    "start_time": "2024-02-08T13:12:56.980Z"
   },
   {
    "duration": 93,
    "start_time": "2024-02-08T13:12:57.115Z"
   },
   {
    "duration": 230,
    "start_time": "2024-02-08T13:12:57.209Z"
   },
   {
    "duration": 1255,
    "start_time": "2024-02-08T13:12:57.441Z"
   },
   {
    "duration": 21,
    "start_time": "2024-02-08T13:12:58.697Z"
   },
   {
    "duration": 46,
    "start_time": "2024-02-08T13:12:58.721Z"
   },
   {
    "duration": 47,
    "start_time": "2024-02-08T13:12:58.768Z"
   },
   {
    "duration": 42,
    "start_time": "2024-02-08T13:12:58.816Z"
   },
   {
    "duration": 55,
    "start_time": "2024-02-08T13:12:58.860Z"
   },
   {
    "duration": 22,
    "start_time": "2024-02-08T13:12:58.917Z"
   },
   {
    "duration": 432,
    "start_time": "2024-02-08T13:12:58.940Z"
   },
   {
    "duration": 463,
    "start_time": "2024-02-08T13:12:59.374Z"
   },
   {
    "duration": 52,
    "start_time": "2024-02-08T13:12:59.838Z"
   },
   {
    "duration": 42,
    "start_time": "2024-02-08T13:12:59.891Z"
   },
   {
    "duration": 5,
    "start_time": "2024-02-08T13:12:59.935Z"
   },
   {
    "duration": 54,
    "start_time": "2024-02-08T13:12:59.942Z"
   },
   {
    "duration": 16,
    "start_time": "2024-02-08T13:12:59.998Z"
   },
   {
    "duration": 63,
    "start_time": "2024-02-08T13:13:00.016Z"
   },
   {
    "duration": 124,
    "start_time": "2024-02-08T13:13:00.081Z"
   },
   {
    "duration": 84,
    "start_time": "2024-02-08T13:13:00.207Z"
   },
   {
    "duration": 23,
    "start_time": "2024-02-08T13:13:00.293Z"
   },
   {
    "duration": 92,
    "start_time": "2024-02-08T13:13:00.318Z"
   },
   {
    "duration": 43,
    "start_time": "2024-02-08T13:13:00.411Z"
   },
   {
    "duration": 157,
    "start_time": "2024-02-08T13:13:00.459Z"
   },
   {
    "duration": 124,
    "start_time": "2024-02-08T13:13:00.617Z"
   },
   {
    "duration": 4690,
    "start_time": "2024-02-08T13:13:00.742Z"
   },
   {
    "duration": 11,
    "start_time": "2024-02-08T13:13:05.433Z"
   },
   {
    "duration": 27,
    "start_time": "2024-02-08T13:13:05.445Z"
   },
   {
    "duration": 57,
    "start_time": "2024-02-08T13:13:05.474Z"
   },
   {
    "duration": 580,
    "start_time": "2024-02-08T13:13:05.533Z"
   },
   {
    "duration": 442,
    "start_time": "2024-02-08T13:13:06.115Z"
   },
   {
    "duration": 66,
    "start_time": "2024-02-08T13:13:06.559Z"
   },
   {
    "duration": 16,
    "start_time": "2024-02-08T13:13:06.626Z"
   },
   {
    "duration": 114,
    "start_time": "2024-02-08T13:13:06.644Z"
   },
   {
    "duration": 0,
    "start_time": "2024-02-08T13:13:06.760Z"
   },
   {
    "duration": 0,
    "start_time": "2024-02-08T13:13:06.762Z"
   },
   {
    "duration": 0,
    "start_time": "2024-02-08T13:13:06.763Z"
   },
   {
    "duration": 0,
    "start_time": "2024-02-08T13:13:06.765Z"
   },
   {
    "duration": 0,
    "start_time": "2024-02-08T13:13:06.766Z"
   },
   {
    "duration": 0,
    "start_time": "2024-02-08T13:13:06.767Z"
   },
   {
    "duration": 0,
    "start_time": "2024-02-08T13:13:06.768Z"
   },
   {
    "duration": 0,
    "start_time": "2024-02-08T13:13:06.770Z"
   },
   {
    "duration": 0,
    "start_time": "2024-02-08T13:13:06.787Z"
   },
   {
    "duration": 0,
    "start_time": "2024-02-08T13:13:06.789Z"
   },
   {
    "duration": 0,
    "start_time": "2024-02-08T13:13:06.790Z"
   },
   {
    "duration": 0,
    "start_time": "2024-02-08T13:13:06.791Z"
   },
   {
    "duration": 0,
    "start_time": "2024-02-08T13:13:06.792Z"
   },
   {
    "duration": 0,
    "start_time": "2024-02-08T13:13:06.794Z"
   },
   {
    "duration": 0,
    "start_time": "2024-02-08T13:13:06.795Z"
   },
   {
    "duration": 0,
    "start_time": "2024-02-08T13:13:06.797Z"
   },
   {
    "duration": 0,
    "start_time": "2024-02-08T13:13:06.798Z"
   },
   {
    "duration": 0,
    "start_time": "2024-02-08T13:13:06.799Z"
   },
   {
    "duration": 0,
    "start_time": "2024-02-08T13:13:06.801Z"
   },
   {
    "duration": 3678,
    "start_time": "2024-02-08T13:14:01.947Z"
   },
   {
    "duration": 1910,
    "start_time": "2024-02-08T13:14:05.627Z"
   },
   {
    "duration": 15,
    "start_time": "2024-02-08T13:14:07.539Z"
   },
   {
    "duration": 154,
    "start_time": "2024-02-08T13:14:07.556Z"
   },
   {
    "duration": 140,
    "start_time": "2024-02-08T13:14:07.711Z"
   },
   {
    "duration": 94,
    "start_time": "2024-02-08T13:14:07.852Z"
   },
   {
    "duration": 232,
    "start_time": "2024-02-08T13:14:07.947Z"
   },
   {
    "duration": 1250,
    "start_time": "2024-02-08T13:14:08.181Z"
   },
   {
    "duration": 21,
    "start_time": "2024-02-08T13:14:09.433Z"
   },
   {
    "duration": 33,
    "start_time": "2024-02-08T13:14:09.456Z"
   },
   {
    "duration": 22,
    "start_time": "2024-02-08T13:14:09.490Z"
   },
   {
    "duration": 22,
    "start_time": "2024-02-08T13:14:09.514Z"
   },
   {
    "duration": 24,
    "start_time": "2024-02-08T13:14:09.537Z"
   },
   {
    "duration": 37,
    "start_time": "2024-02-08T13:14:09.562Z"
   },
   {
    "duration": 424,
    "start_time": "2024-02-08T13:14:09.601Z"
   },
   {
    "duration": 458,
    "start_time": "2024-02-08T13:14:10.026Z"
   },
   {
    "duration": 46,
    "start_time": "2024-02-08T13:14:10.485Z"
   },
   {
    "duration": 34,
    "start_time": "2024-02-08T13:14:10.533Z"
   },
   {
    "duration": 20,
    "start_time": "2024-02-08T13:14:10.569Z"
   },
   {
    "duration": 37,
    "start_time": "2024-02-08T13:14:10.591Z"
   },
   {
    "duration": 14,
    "start_time": "2024-02-08T13:14:10.629Z"
   },
   {
    "duration": 16,
    "start_time": "2024-02-08T13:14:10.644Z"
   },
   {
    "duration": 54,
    "start_time": "2024-02-08T13:14:10.661Z"
   },
   {
    "duration": 33,
    "start_time": "2024-02-08T13:14:10.716Z"
   },
   {
    "duration": 18,
    "start_time": "2024-02-08T13:14:10.750Z"
   },
   {
    "duration": 84,
    "start_time": "2024-02-08T13:14:10.769Z"
   },
   {
    "duration": 17,
    "start_time": "2024-02-08T13:14:10.854Z"
   },
   {
    "duration": 117,
    "start_time": "2024-02-08T13:14:10.874Z"
   },
   {
    "duration": 130,
    "start_time": "2024-02-08T13:14:10.993Z"
   },
   {
    "duration": 4602,
    "start_time": "2024-02-08T13:14:11.125Z"
   },
   {
    "duration": 11,
    "start_time": "2024-02-08T13:14:15.729Z"
   },
   {
    "duration": 11,
    "start_time": "2024-02-08T13:14:15.742Z"
   },
   {
    "duration": 46,
    "start_time": "2024-02-08T13:14:15.755Z"
   },
   {
    "duration": 577,
    "start_time": "2024-02-08T13:14:15.802Z"
   },
   {
    "duration": 424,
    "start_time": "2024-02-08T13:14:16.380Z"
   },
   {
    "duration": 37,
    "start_time": "2024-02-08T13:14:16.805Z"
   },
   {
    "duration": 11,
    "start_time": "2024-02-08T13:14:16.844Z"
   },
   {
    "duration": 14,
    "start_time": "2024-02-08T13:14:16.857Z"
   },
   {
    "duration": 118,
    "start_time": "2024-02-08T13:14:16.873Z"
   },
   {
    "duration": 0,
    "start_time": "2024-02-08T13:14:16.993Z"
   },
   {
    "duration": 0,
    "start_time": "2024-02-08T13:14:16.994Z"
   },
   {
    "duration": 0,
    "start_time": "2024-02-08T13:14:16.995Z"
   },
   {
    "duration": 0,
    "start_time": "2024-02-08T13:14:16.996Z"
   },
   {
    "duration": 0,
    "start_time": "2024-02-08T13:14:16.996Z"
   },
   {
    "duration": 0,
    "start_time": "2024-02-08T13:14:16.997Z"
   },
   {
    "duration": 0,
    "start_time": "2024-02-08T13:14:16.998Z"
   },
   {
    "duration": 0,
    "start_time": "2024-02-08T13:14:16.999Z"
   },
   {
    "duration": 0,
    "start_time": "2024-02-08T13:14:17.000Z"
   },
   {
    "duration": 0,
    "start_time": "2024-02-08T13:14:17.001Z"
   },
   {
    "duration": 0,
    "start_time": "2024-02-08T13:14:17.002Z"
   },
   {
    "duration": 0,
    "start_time": "2024-02-08T13:14:17.003Z"
   },
   {
    "duration": 0,
    "start_time": "2024-02-08T13:14:17.004Z"
   },
   {
    "duration": 0,
    "start_time": "2024-02-08T13:14:17.005Z"
   },
   {
    "duration": 0,
    "start_time": "2024-02-08T13:14:17.006Z"
   },
   {
    "duration": 0,
    "start_time": "2024-02-08T13:14:17.007Z"
   },
   {
    "duration": 0,
    "start_time": "2024-02-08T13:14:17.008Z"
   },
   {
    "duration": 0,
    "start_time": "2024-02-08T13:14:17.009Z"
   },
   {
    "duration": 0,
    "start_time": "2024-02-08T13:14:17.011Z"
   },
   {
    "duration": 3,
    "start_time": "2024-02-08T13:15:29.124Z"
   },
   {
    "duration": 4,
    "start_time": "2024-02-08T13:15:41.457Z"
   },
   {
    "duration": 4,
    "start_time": "2024-02-08T13:15:50.564Z"
   },
   {
    "duration": 3,
    "start_time": "2024-02-08T13:17:32.378Z"
   },
   {
    "duration": 3,
    "start_time": "2024-02-08T13:18:15.887Z"
   },
   {
    "duration": 8,
    "start_time": "2024-02-08T13:18:43.984Z"
   },
   {
    "duration": 4,
    "start_time": "2024-02-08T13:18:46.845Z"
   },
   {
    "duration": 3731,
    "start_time": "2024-02-08T13:20:21.016Z"
   },
   {
    "duration": 1176,
    "start_time": "2024-02-08T13:20:24.748Z"
   },
   {
    "duration": 16,
    "start_time": "2024-02-08T13:20:25.925Z"
   },
   {
    "duration": 149,
    "start_time": "2024-02-08T13:20:25.942Z"
   },
   {
    "duration": 142,
    "start_time": "2024-02-08T13:20:26.092Z"
   },
   {
    "duration": 90,
    "start_time": "2024-02-08T13:20:26.235Z"
   },
   {
    "duration": 218,
    "start_time": "2024-02-08T13:20:26.327Z"
   },
   {
    "duration": 1210,
    "start_time": "2024-02-08T13:20:26.546Z"
   },
   {
    "duration": 20,
    "start_time": "2024-02-08T13:20:27.758Z"
   },
   {
    "duration": 19,
    "start_time": "2024-02-08T13:20:27.787Z"
   },
   {
    "duration": 22,
    "start_time": "2024-02-08T13:20:27.807Z"
   },
   {
    "duration": 23,
    "start_time": "2024-02-08T13:20:27.831Z"
   },
   {
    "duration": 45,
    "start_time": "2024-02-08T13:20:27.855Z"
   },
   {
    "duration": 20,
    "start_time": "2024-02-08T13:20:27.901Z"
   },
   {
    "duration": 415,
    "start_time": "2024-02-08T13:20:27.923Z"
   },
   {
    "duration": 427,
    "start_time": "2024-02-08T13:20:28.340Z"
   },
   {
    "duration": 50,
    "start_time": "2024-02-08T13:20:28.768Z"
   },
   {
    "duration": 37,
    "start_time": "2024-02-08T13:20:28.819Z"
   },
   {
    "duration": 4,
    "start_time": "2024-02-08T13:20:28.857Z"
   },
   {
    "duration": 58,
    "start_time": "2024-02-08T13:20:28.862Z"
   },
   {
    "duration": 15,
    "start_time": "2024-02-08T13:20:28.921Z"
   },
   {
    "duration": 16,
    "start_time": "2024-02-08T13:20:28.937Z"
   },
   {
    "duration": 47,
    "start_time": "2024-02-08T13:20:28.954Z"
   },
   {
    "duration": 33,
    "start_time": "2024-02-08T13:20:29.003Z"
   },
   {
    "duration": 18,
    "start_time": "2024-02-08T13:20:29.037Z"
   },
   {
    "duration": 87,
    "start_time": "2024-02-08T13:20:29.056Z"
   },
   {
    "duration": 10,
    "start_time": "2024-02-08T13:20:29.145Z"
   },
   {
    "duration": 124,
    "start_time": "2024-02-08T13:20:29.158Z"
   },
   {
    "duration": 122,
    "start_time": "2024-02-08T13:20:29.287Z"
   },
   {
    "duration": 4823,
    "start_time": "2024-02-08T13:20:29.411Z"
   },
   {
    "duration": 11,
    "start_time": "2024-02-08T13:20:34.235Z"
   },
   {
    "duration": 10,
    "start_time": "2024-02-08T13:20:34.247Z"
   },
   {
    "duration": 17,
    "start_time": "2024-02-08T13:20:34.258Z"
   },
   {
    "duration": 50,
    "start_time": "2024-02-08T13:20:34.277Z"
   },
   {
    "duration": 3,
    "start_time": "2024-02-08T13:20:34.328Z"
   },
   {
    "duration": 704,
    "start_time": "2024-02-08T13:20:34.333Z"
   },
   {
    "duration": 2,
    "start_time": "2024-02-08T13:20:35.039Z"
   },
   {
    "duration": 496,
    "start_time": "2024-02-08T13:20:35.043Z"
   },
   {
    "duration": 47,
    "start_time": "2024-02-08T13:20:35.540Z"
   },
   {
    "duration": 3,
    "start_time": "2024-02-08T13:20:35.589Z"
   },
   {
    "duration": 13,
    "start_time": "2024-02-08T13:20:35.594Z"
   },
   {
    "duration": 800,
    "start_time": "2024-02-08T13:20:35.608Z"
   },
   {
    "duration": 4,
    "start_time": "2024-02-08T13:20:36.489Z"
   },
   {
    "duration": 24205,
    "start_time": "2024-02-08T13:20:36.495Z"
   },
   {
    "duration": 78465,
    "start_time": "2024-02-08T13:21:00.788Z"
   },
   {
    "duration": 123345,
    "start_time": "2024-02-08T13:22:19.254Z"
   },
   {
    "duration": 3699,
    "start_time": "2024-02-08T13:28:10.126Z"
   },
   {
    "duration": 1378,
    "start_time": "2024-02-08T13:28:13.827Z"
   },
   {
    "duration": 16,
    "start_time": "2024-02-08T13:28:15.206Z"
   },
   {
    "duration": 166,
    "start_time": "2024-02-08T13:28:15.224Z"
   },
   {
    "duration": 150,
    "start_time": "2024-02-08T13:28:15.391Z"
   },
   {
    "duration": 91,
    "start_time": "2024-02-08T13:28:15.543Z"
   },
   {
    "duration": 227,
    "start_time": "2024-02-08T13:28:15.635Z"
   },
   {
    "duration": 1241,
    "start_time": "2024-02-08T13:28:15.864Z"
   },
   {
    "duration": 20,
    "start_time": "2024-02-08T13:28:17.107Z"
   },
   {
    "duration": 20,
    "start_time": "2024-02-08T13:28:17.129Z"
   },
   {
    "duration": 38,
    "start_time": "2024-02-08T13:28:17.151Z"
   },
   {
    "duration": 20,
    "start_time": "2024-02-08T13:28:17.191Z"
   },
   {
    "duration": 25,
    "start_time": "2024-02-08T13:28:17.213Z"
   },
   {
    "duration": 22,
    "start_time": "2024-02-08T13:28:17.239Z"
   },
   {
    "duration": 427,
    "start_time": "2024-02-08T13:28:17.263Z"
   },
   {
    "duration": 427,
    "start_time": "2024-02-08T13:28:17.692Z"
   },
   {
    "duration": 48,
    "start_time": "2024-02-08T13:28:18.121Z"
   },
   {
    "duration": 43,
    "start_time": "2024-02-08T13:28:18.170Z"
   },
   {
    "duration": 4,
    "start_time": "2024-02-08T13:28:18.215Z"
   },
   {
    "duration": 36,
    "start_time": "2024-02-08T13:28:18.220Z"
   },
   {
    "duration": 29,
    "start_time": "2024-02-08T13:28:18.258Z"
   },
   {
    "duration": 15,
    "start_time": "2024-02-08T13:28:18.289Z"
   },
   {
    "duration": 48,
    "start_time": "2024-02-08T13:28:18.305Z"
   },
   {
    "duration": 46,
    "start_time": "2024-02-08T13:28:18.354Z"
   },
   {
    "duration": 54,
    "start_time": "2024-02-08T13:28:18.401Z"
   },
   {
    "duration": 0,
    "start_time": "2024-02-08T13:28:18.457Z"
   },
   {
    "duration": 0,
    "start_time": "2024-02-08T13:28:18.458Z"
   },
   {
    "duration": 0,
    "start_time": "2024-02-08T13:28:18.460Z"
   },
   {
    "duration": 0,
    "start_time": "2024-02-08T13:28:18.461Z"
   },
   {
    "duration": 0,
    "start_time": "2024-02-08T13:28:18.462Z"
   },
   {
    "duration": 0,
    "start_time": "2024-02-08T13:28:18.463Z"
   },
   {
    "duration": 0,
    "start_time": "2024-02-08T13:28:18.464Z"
   },
   {
    "duration": 0,
    "start_time": "2024-02-08T13:28:18.465Z"
   },
   {
    "duration": 0,
    "start_time": "2024-02-08T13:28:18.466Z"
   },
   {
    "duration": 0,
    "start_time": "2024-02-08T13:28:18.467Z"
   },
   {
    "duration": 0,
    "start_time": "2024-02-08T13:28:18.468Z"
   },
   {
    "duration": 0,
    "start_time": "2024-02-08T13:28:18.469Z"
   },
   {
    "duration": 0,
    "start_time": "2024-02-08T13:28:18.470Z"
   },
   {
    "duration": 0,
    "start_time": "2024-02-08T13:28:18.471Z"
   },
   {
    "duration": 0,
    "start_time": "2024-02-08T13:28:18.472Z"
   },
   {
    "duration": 0,
    "start_time": "2024-02-08T13:28:18.473Z"
   },
   {
    "duration": 0,
    "start_time": "2024-02-08T13:28:18.474Z"
   },
   {
    "duration": 0,
    "start_time": "2024-02-08T13:28:18.474Z"
   },
   {
    "duration": 0,
    "start_time": "2024-02-08T13:28:18.475Z"
   },
   {
    "duration": 0,
    "start_time": "2024-02-08T13:28:18.476Z"
   },
   {
    "duration": 0,
    "start_time": "2024-02-08T13:28:18.477Z"
   },
   {
    "duration": 0,
    "start_time": "2024-02-08T13:28:18.478Z"
   },
   {
    "duration": 0,
    "start_time": "2024-02-08T13:28:18.479Z"
   },
   {
    "duration": 0,
    "start_time": "2024-02-08T13:28:18.480Z"
   },
   {
    "duration": 0,
    "start_time": "2024-02-08T13:28:18.480Z"
   },
   {
    "duration": 0,
    "start_time": "2024-02-08T13:28:18.481Z"
   },
   {
    "duration": 0,
    "start_time": "2024-02-08T13:28:18.482Z"
   },
   {
    "duration": 0,
    "start_time": "2024-02-08T13:28:18.487Z"
   },
   {
    "duration": 0,
    "start_time": "2024-02-08T13:28:18.488Z"
   },
   {
    "duration": 0,
    "start_time": "2024-02-08T13:28:18.489Z"
   },
   {
    "duration": 0,
    "start_time": "2024-02-08T13:28:18.489Z"
   },
   {
    "duration": 0,
    "start_time": "2024-02-08T13:28:18.490Z"
   },
   {
    "duration": 0,
    "start_time": "2024-02-08T13:28:18.491Z"
   },
   {
    "duration": 0,
    "start_time": "2024-02-08T13:28:18.492Z"
   },
   {
    "duration": 0,
    "start_time": "2024-02-08T13:28:18.493Z"
   },
   {
    "duration": 3743,
    "start_time": "2024-02-08T13:30:54.589Z"
   },
   {
    "duration": 1467,
    "start_time": "2024-02-08T13:30:58.334Z"
   },
   {
    "duration": 16,
    "start_time": "2024-02-08T13:30:59.803Z"
   },
   {
    "duration": 157,
    "start_time": "2024-02-08T13:30:59.820Z"
   },
   {
    "duration": 145,
    "start_time": "2024-02-08T13:30:59.978Z"
   },
   {
    "duration": 105,
    "start_time": "2024-02-08T13:31:00.124Z"
   },
   {
    "duration": 244,
    "start_time": "2024-02-08T13:31:00.230Z"
   },
   {
    "duration": 1292,
    "start_time": "2024-02-08T13:31:00.476Z"
   },
   {
    "duration": 23,
    "start_time": "2024-02-08T13:31:01.769Z"
   },
   {
    "duration": 66,
    "start_time": "2024-02-08T13:31:01.795Z"
   },
   {
    "duration": 86,
    "start_time": "2024-02-08T13:31:01.862Z"
   },
   {
    "duration": 112,
    "start_time": "2024-02-08T13:31:01.949Z"
   },
   {
    "duration": 90,
    "start_time": "2024-02-08T13:31:02.063Z"
   },
   {
    "duration": 59,
    "start_time": "2024-02-08T13:31:02.154Z"
   },
   {
    "duration": 486,
    "start_time": "2024-02-08T13:31:02.214Z"
   },
   {
    "duration": 472,
    "start_time": "2024-02-08T13:31:02.701Z"
   },
   {
    "duration": 50,
    "start_time": "2024-02-08T13:31:03.174Z"
   },
   {
    "duration": 41,
    "start_time": "2024-02-08T13:31:03.226Z"
   },
   {
    "duration": 4,
    "start_time": "2024-02-08T13:31:03.268Z"
   },
   {
    "duration": 61,
    "start_time": "2024-02-08T13:31:03.273Z"
   },
   {
    "duration": 14,
    "start_time": "2024-02-08T13:31:03.336Z"
   },
   {
    "duration": 48,
    "start_time": "2024-02-08T13:31:03.352Z"
   },
   {
    "duration": 59,
    "start_time": "2024-02-08T13:31:03.402Z"
   },
   {
    "duration": 54,
    "start_time": "2024-02-08T13:31:03.463Z"
   },
   {
    "duration": 52,
    "start_time": "2024-02-08T13:31:03.519Z"
   },
   {
    "duration": 19,
    "start_time": "2024-02-08T13:31:03.572Z"
   },
   {
    "duration": 93,
    "start_time": "2024-02-08T13:31:03.592Z"
   },
   {
    "duration": 11,
    "start_time": "2024-02-08T13:31:03.689Z"
   },
   {
    "duration": 140,
    "start_time": "2024-02-08T13:31:03.701Z"
   },
   {
    "duration": 124,
    "start_time": "2024-02-08T13:31:03.842Z"
   },
   {
    "duration": 4592,
    "start_time": "2024-02-08T13:31:03.967Z"
   },
   {
    "duration": 10,
    "start_time": "2024-02-08T13:31:08.561Z"
   },
   {
    "duration": 8,
    "start_time": "2024-02-08T13:31:08.572Z"
   },
   {
    "duration": 11,
    "start_time": "2024-02-08T13:31:08.581Z"
   },
   {
    "duration": 39,
    "start_time": "2024-02-08T13:31:08.593Z"
   },
   {
    "duration": 3,
    "start_time": "2024-02-08T13:31:08.634Z"
   },
   {
    "duration": 581,
    "start_time": "2024-02-08T13:31:08.639Z"
   },
   {
    "duration": 4,
    "start_time": "2024-02-08T13:31:09.221Z"
   },
   {
    "duration": 435,
    "start_time": "2024-02-08T13:31:09.226Z"
   },
   {
    "duration": 46,
    "start_time": "2024-02-08T13:31:09.663Z"
   },
   {
    "duration": 3,
    "start_time": "2024-02-08T13:31:09.710Z"
   },
   {
    "duration": 8,
    "start_time": "2024-02-08T13:31:09.714Z"
   },
   {
    "duration": 884,
    "start_time": "2024-02-08T13:31:09.723Z"
   },
   {
    "duration": 81,
    "start_time": "2024-02-08T13:31:10.609Z"
   },
   {
    "duration": 23199,
    "start_time": "2024-02-08T13:31:10.693Z"
   },
   {
    "duration": 74604,
    "start_time": "2024-02-08T13:31:33.896Z"
   },
   {
    "duration": 119602,
    "start_time": "2024-02-08T13:32:48.501Z"
   },
   {
    "duration": 336716,
    "start_time": "2024-02-08T13:34:48.105Z"
   },
   {
    "duration": 32,
    "start_time": "2024-02-08T13:40:24.822Z"
   },
   {
    "duration": 34,
    "start_time": "2024-02-08T13:40:24.855Z"
   },
   {
    "duration": 403,
    "start_time": "2024-02-08T13:40:24.892Z"
   },
   {
    "duration": 8,
    "start_time": "2024-02-08T13:40:25.296Z"
   },
   {
    "duration": 477,
    "start_time": "2024-02-08T13:40:25.306Z"
   },
   {
    "duration": 13,
    "start_time": "2024-02-08T13:40:25.788Z"
   },
   {
    "duration": 4303,
    "start_time": "2024-02-08T13:40:25.802Z"
   },
   {
    "duration": 393,
    "start_time": "2024-02-08T13:40:30.106Z"
   },
   {
    "duration": 19469,
    "start_time": "2024-02-08T13:40:30.501Z"
   },
   {
    "duration": 55,
    "start_time": "2024-02-08T13:40:49.971Z"
   },
   {
    "duration": 14,
    "start_time": "2024-02-08T13:40:50.027Z"
   },
   {
    "duration": 13,
    "start_time": "2024-02-08T13:40:50.044Z"
   },
   {
    "duration": 3675,
    "start_time": "2024-02-08T13:44:13.540Z"
   },
   {
    "duration": 1413,
    "start_time": "2024-02-08T13:44:17.217Z"
   },
   {
    "duration": 15,
    "start_time": "2024-02-08T13:44:18.632Z"
   },
   {
    "duration": 149,
    "start_time": "2024-02-08T13:44:18.649Z"
   },
   {
    "duration": 144,
    "start_time": "2024-02-08T13:44:18.799Z"
   },
   {
    "duration": 96,
    "start_time": "2024-02-08T13:44:18.944Z"
   },
   {
    "duration": 231,
    "start_time": "2024-02-08T13:44:19.041Z"
   },
   {
    "duration": 1232,
    "start_time": "2024-02-08T13:44:19.274Z"
   },
   {
    "duration": 22,
    "start_time": "2024-02-08T13:44:20.508Z"
   },
   {
    "duration": 21,
    "start_time": "2024-02-08T13:44:20.532Z"
   },
   {
    "duration": 35,
    "start_time": "2024-02-08T13:44:20.554Z"
   },
   {
    "duration": 20,
    "start_time": "2024-02-08T13:44:20.591Z"
   },
   {
    "duration": 52,
    "start_time": "2024-02-08T13:44:20.612Z"
   },
   {
    "duration": 28,
    "start_time": "2024-02-08T13:44:20.665Z"
   },
   {
    "duration": 407,
    "start_time": "2024-02-08T13:44:20.695Z"
   },
   {
    "duration": 428,
    "start_time": "2024-02-08T13:44:21.104Z"
   },
   {
    "duration": 47,
    "start_time": "2024-02-08T13:44:21.533Z"
   },
   {
    "duration": 34,
    "start_time": "2024-02-08T13:44:21.588Z"
   },
   {
    "duration": 4,
    "start_time": "2024-02-08T13:44:21.623Z"
   },
   {
    "duration": 39,
    "start_time": "2024-02-08T13:44:21.628Z"
   },
   {
    "duration": 28,
    "start_time": "2024-02-08T13:44:21.668Z"
   },
   {
    "duration": 29,
    "start_time": "2024-02-08T13:44:21.697Z"
   },
   {
    "duration": 39,
    "start_time": "2024-02-08T13:44:21.727Z"
   },
   {
    "duration": 46,
    "start_time": "2024-02-08T13:44:21.767Z"
   },
   {
    "duration": 37,
    "start_time": "2024-02-08T13:44:21.814Z"
   },
   {
    "duration": 17,
    "start_time": "2024-02-08T13:44:21.853Z"
   },
   {
    "duration": 75,
    "start_time": "2024-02-08T13:44:21.872Z"
   },
   {
    "duration": 11,
    "start_time": "2024-02-08T13:44:21.951Z"
   },
   {
    "duration": 125,
    "start_time": "2024-02-08T13:44:21.963Z"
   },
   {
    "duration": 121,
    "start_time": "2024-02-08T13:44:22.090Z"
   },
   {
    "duration": 4490,
    "start_time": "2024-02-08T13:44:22.213Z"
   },
   {
    "duration": 9,
    "start_time": "2024-02-08T13:44:26.705Z"
   },
   {
    "duration": 9,
    "start_time": "2024-02-08T13:44:26.716Z"
   },
   {
    "duration": 12,
    "start_time": "2024-02-08T13:44:26.727Z"
   },
   {
    "duration": 36,
    "start_time": "2024-02-08T13:44:26.740Z"
   },
   {
    "duration": 4,
    "start_time": "2024-02-08T13:44:26.777Z"
   },
   {
    "duration": 556,
    "start_time": "2024-02-08T13:44:26.783Z"
   },
   {
    "duration": 4,
    "start_time": "2024-02-08T13:44:27.340Z"
   },
   {
    "duration": 421,
    "start_time": "2024-02-08T13:44:27.345Z"
   },
   {
    "duration": 36,
    "start_time": "2024-02-08T13:44:27.768Z"
   },
   {
    "duration": 3,
    "start_time": "2024-02-08T13:44:27.805Z"
   },
   {
    "duration": 5,
    "start_time": "2024-02-08T13:44:27.809Z"
   },
   {
    "duration": 49676,
    "start_time": "2024-02-08T13:44:27.816Z"
   },
   {
    "duration": 95,
    "start_time": "2024-02-08T13:45:17.494Z"
   },
   {
    "duration": 3698,
    "start_time": "2024-02-08T13:46:05.611Z"
   },
   {
    "duration": 1386,
    "start_time": "2024-02-08T13:46:09.311Z"
   },
   {
    "duration": 16,
    "start_time": "2024-02-08T13:46:10.698Z"
   },
   {
    "duration": 161,
    "start_time": "2024-02-08T13:46:10.716Z"
   },
   {
    "duration": 132,
    "start_time": "2024-02-08T13:46:10.879Z"
   },
   {
    "duration": 96,
    "start_time": "2024-02-08T13:46:11.013Z"
   },
   {
    "duration": 221,
    "start_time": "2024-02-08T13:46:11.111Z"
   },
   {
    "duration": 1229,
    "start_time": "2024-02-08T13:46:11.333Z"
   },
   {
    "duration": 26,
    "start_time": "2024-02-08T13:46:12.563Z"
   },
   {
    "duration": 24,
    "start_time": "2024-02-08T13:46:12.591Z"
   },
   {
    "duration": 33,
    "start_time": "2024-02-08T13:46:12.617Z"
   },
   {
    "duration": 30,
    "start_time": "2024-02-08T13:46:12.651Z"
   },
   {
    "duration": 23,
    "start_time": "2024-02-08T13:46:12.682Z"
   },
   {
    "duration": 20,
    "start_time": "2024-02-08T13:46:12.706Z"
   },
   {
    "duration": 410,
    "start_time": "2024-02-08T13:46:12.727Z"
   },
   {
    "duration": 454,
    "start_time": "2024-02-08T13:46:13.138Z"
   },
   {
    "duration": 47,
    "start_time": "2024-02-08T13:46:13.593Z"
   },
   {
    "duration": 48,
    "start_time": "2024-02-08T13:46:13.641Z"
   },
   {
    "duration": 3,
    "start_time": "2024-02-08T13:46:13.691Z"
   },
   {
    "duration": 38,
    "start_time": "2024-02-08T13:46:13.696Z"
   },
   {
    "duration": 14,
    "start_time": "2024-02-08T13:46:13.735Z"
   },
   {
    "duration": 14,
    "start_time": "2024-02-08T13:46:13.751Z"
   },
   {
    "duration": 51,
    "start_time": "2024-02-08T13:46:13.767Z"
   },
   {
    "duration": 45,
    "start_time": "2024-02-08T13:46:13.819Z"
   },
   {
    "duration": 52,
    "start_time": "2024-02-08T13:46:13.865Z"
   },
   {
    "duration": 17,
    "start_time": "2024-02-08T13:46:13.919Z"
   },
   {
    "duration": 75,
    "start_time": "2024-02-08T13:46:13.937Z"
   },
   {
    "duration": 10,
    "start_time": "2024-02-08T13:46:14.016Z"
   },
   {
    "duration": 121,
    "start_time": "2024-02-08T13:46:14.027Z"
   },
   {
    "duration": 132,
    "start_time": "2024-02-08T13:46:14.149Z"
   },
   {
    "duration": 4526,
    "start_time": "2024-02-08T13:46:14.282Z"
   },
   {
    "duration": 10,
    "start_time": "2024-02-08T13:46:18.809Z"
   },
   {
    "duration": 12,
    "start_time": "2024-02-08T13:46:18.820Z"
   },
   {
    "duration": 27,
    "start_time": "2024-02-08T13:46:18.834Z"
   },
   {
    "duration": 43,
    "start_time": "2024-02-08T13:46:18.862Z"
   },
   {
    "duration": 3,
    "start_time": "2024-02-08T13:46:18.907Z"
   },
   {
    "duration": 555,
    "start_time": "2024-02-08T13:46:18.912Z"
   },
   {
    "duration": 4,
    "start_time": "2024-02-08T13:46:19.468Z"
   },
   {
    "duration": 410,
    "start_time": "2024-02-08T13:46:19.474Z"
   },
   {
    "duration": 36,
    "start_time": "2024-02-08T13:46:19.885Z"
   },
   {
    "duration": 3,
    "start_time": "2024-02-08T13:46:19.923Z"
   },
   {
    "duration": 36,
    "start_time": "2024-02-08T13:46:19.928Z"
   },
   {
    "duration": 51,
    "start_time": "2024-02-08T13:46:19.965Z"
   },
   {
    "duration": 0,
    "start_time": "2024-02-08T13:46:20.017Z"
   },
   {
    "duration": 0,
    "start_time": "2024-02-08T13:46:20.018Z"
   },
   {
    "duration": 0,
    "start_time": "2024-02-08T13:46:20.019Z"
   },
   {
    "duration": 0,
    "start_time": "2024-02-08T13:46:20.020Z"
   },
   {
    "duration": 0,
    "start_time": "2024-02-08T13:46:20.021Z"
   },
   {
    "duration": 0,
    "start_time": "2024-02-08T13:46:20.022Z"
   },
   {
    "duration": 0,
    "start_time": "2024-02-08T13:46:20.023Z"
   },
   {
    "duration": 0,
    "start_time": "2024-02-08T13:46:20.024Z"
   },
   {
    "duration": 0,
    "start_time": "2024-02-08T13:46:20.025Z"
   },
   {
    "duration": 0,
    "start_time": "2024-02-08T13:46:20.026Z"
   },
   {
    "duration": 0,
    "start_time": "2024-02-08T13:46:20.027Z"
   },
   {
    "duration": 0,
    "start_time": "2024-02-08T13:46:20.028Z"
   },
   {
    "duration": 0,
    "start_time": "2024-02-08T13:46:20.029Z"
   },
   {
    "duration": 0,
    "start_time": "2024-02-08T13:46:20.030Z"
   },
   {
    "duration": 0,
    "start_time": "2024-02-08T13:46:20.031Z"
   },
   {
    "duration": 0,
    "start_time": "2024-02-08T13:46:20.032Z"
   },
   {
    "duration": 0,
    "start_time": "2024-02-08T13:46:20.033Z"
   },
   {
    "duration": 47697,
    "start_time": "2024-02-08T13:46:43.791Z"
   },
   {
    "duration": 48141,
    "start_time": "2024-02-08T13:47:41.955Z"
   },
   {
    "duration": 3,
    "start_time": "2024-02-08T13:53:21.333Z"
   },
   {
    "duration": 3983,
    "start_time": "2024-02-08T13:55:42.250Z"
   },
   {
    "duration": 1475,
    "start_time": "2024-02-08T13:55:46.235Z"
   },
   {
    "duration": 15,
    "start_time": "2024-02-08T13:55:47.711Z"
   },
   {
    "duration": 158,
    "start_time": "2024-02-08T13:55:47.728Z"
   },
   {
    "duration": 141,
    "start_time": "2024-02-08T13:55:47.887Z"
   },
   {
    "duration": 94,
    "start_time": "2024-02-08T13:55:48.030Z"
   },
   {
    "duration": 227,
    "start_time": "2024-02-08T13:55:48.125Z"
   },
   {
    "duration": 1252,
    "start_time": "2024-02-08T13:55:48.353Z"
   },
   {
    "duration": 21,
    "start_time": "2024-02-08T13:55:49.606Z"
   },
   {
    "duration": 32,
    "start_time": "2024-02-08T13:55:49.629Z"
   },
   {
    "duration": 27,
    "start_time": "2024-02-08T13:55:49.663Z"
   },
   {
    "duration": 26,
    "start_time": "2024-02-08T13:55:49.692Z"
   },
   {
    "duration": 27,
    "start_time": "2024-02-08T13:55:49.719Z"
   },
   {
    "duration": 21,
    "start_time": "2024-02-08T13:55:49.747Z"
   },
   {
    "duration": 436,
    "start_time": "2024-02-08T13:55:49.770Z"
   },
   {
    "duration": 445,
    "start_time": "2024-02-08T13:55:50.208Z"
   },
   {
    "duration": 48,
    "start_time": "2024-02-08T13:55:50.655Z"
   },
   {
    "duration": 35,
    "start_time": "2024-02-08T13:55:50.705Z"
   },
   {
    "duration": 4,
    "start_time": "2024-02-08T13:55:50.742Z"
   },
   {
    "duration": 59,
    "start_time": "2024-02-08T13:55:50.747Z"
   },
   {
    "duration": 15,
    "start_time": "2024-02-08T13:55:50.807Z"
   },
   {
    "duration": 35,
    "start_time": "2024-02-08T13:55:50.824Z"
   },
   {
    "duration": 44,
    "start_time": "2024-02-08T13:55:50.861Z"
   },
   {
    "duration": 46,
    "start_time": "2024-02-08T13:55:50.906Z"
   },
   {
    "duration": 45,
    "start_time": "2024-02-08T13:55:50.954Z"
   },
   {
    "duration": 19,
    "start_time": "2024-02-08T13:55:51.000Z"
   },
   {
    "duration": 87,
    "start_time": "2024-02-08T13:55:51.021Z"
   },
   {
    "duration": 11,
    "start_time": "2024-02-08T13:55:51.112Z"
   },
   {
    "duration": 126,
    "start_time": "2024-02-08T13:55:51.124Z"
   },
   {
    "duration": 127,
    "start_time": "2024-02-08T13:55:51.251Z"
   },
   {
    "duration": 4664,
    "start_time": "2024-02-08T13:55:51.380Z"
   },
   {
    "duration": 12,
    "start_time": "2024-02-08T13:55:56.045Z"
   },
   {
    "duration": 7,
    "start_time": "2024-02-08T13:55:56.059Z"
   },
   {
    "duration": 14,
    "start_time": "2024-02-08T13:55:56.068Z"
   },
   {
    "duration": 40,
    "start_time": "2024-02-08T13:55:56.083Z"
   },
   {
    "duration": 4,
    "start_time": "2024-02-08T13:55:56.125Z"
   },
   {
    "duration": 574,
    "start_time": "2024-02-08T13:55:56.131Z"
   },
   {
    "duration": 4,
    "start_time": "2024-02-08T13:55:56.707Z"
   },
   {
    "duration": 417,
    "start_time": "2024-02-08T13:55:56.712Z"
   },
   {
    "duration": 40,
    "start_time": "2024-02-08T13:55:57.131Z"
   },
   {
    "duration": 16,
    "start_time": "2024-02-08T13:55:57.172Z"
   },
   {
    "duration": 19,
    "start_time": "2024-02-08T13:55:57.189Z"
   },
   {
    "duration": 47683,
    "start_time": "2024-02-08T13:55:57.209Z"
   },
   {
    "duration": 96,
    "start_time": "2024-02-08T13:56:44.893Z"
   },
   {
    "duration": 50,
    "start_time": "2024-02-08T13:59:02.584Z"
   },
   {
    "duration": 3760,
    "start_time": "2024-02-08T13:59:09.483Z"
   },
   {
    "duration": 1704,
    "start_time": "2024-02-08T13:59:13.245Z"
   },
   {
    "duration": 14,
    "start_time": "2024-02-08T13:59:14.951Z"
   },
   {
    "duration": 159,
    "start_time": "2024-02-08T13:59:14.967Z"
   },
   {
    "duration": 156,
    "start_time": "2024-02-08T13:59:15.128Z"
   },
   {
    "duration": 90,
    "start_time": "2024-02-08T13:59:15.287Z"
   },
   {
    "duration": 240,
    "start_time": "2024-02-08T13:59:15.378Z"
   },
   {
    "duration": 1214,
    "start_time": "2024-02-08T13:59:15.619Z"
   },
   {
    "duration": 21,
    "start_time": "2024-02-08T13:59:16.835Z"
   },
   {
    "duration": 36,
    "start_time": "2024-02-08T13:59:16.857Z"
   },
   {
    "duration": 24,
    "start_time": "2024-02-08T13:59:16.895Z"
   },
   {
    "duration": 24,
    "start_time": "2024-02-08T13:59:16.921Z"
   },
   {
    "duration": 24,
    "start_time": "2024-02-08T13:59:16.946Z"
   },
   {
    "duration": 21,
    "start_time": "2024-02-08T13:59:16.987Z"
   },
   {
    "duration": 437,
    "start_time": "2024-02-08T13:59:17.010Z"
   },
   {
    "duration": 434,
    "start_time": "2024-02-08T13:59:17.448Z"
   },
   {
    "duration": 47,
    "start_time": "2024-02-08T13:59:17.884Z"
   },
   {
    "duration": 34,
    "start_time": "2024-02-08T13:59:17.933Z"
   },
   {
    "duration": 20,
    "start_time": "2024-02-08T13:59:17.968Z"
   },
   {
    "duration": 40,
    "start_time": "2024-02-08T13:59:17.989Z"
   },
   {
    "duration": 14,
    "start_time": "2024-02-08T13:59:18.030Z"
   },
   {
    "duration": 24,
    "start_time": "2024-02-08T13:59:18.046Z"
   },
   {
    "duration": 45,
    "start_time": "2024-02-08T13:59:18.072Z"
   },
   {
    "duration": 45,
    "start_time": "2024-02-08T13:59:18.119Z"
   },
   {
    "duration": 44,
    "start_time": "2024-02-08T13:59:18.165Z"
   },
   {
    "duration": 17,
    "start_time": "2024-02-08T13:59:18.211Z"
   },
   {
    "duration": 75,
    "start_time": "2024-02-08T13:59:18.230Z"
   },
   {
    "duration": 11,
    "start_time": "2024-02-08T13:59:18.306Z"
   },
   {
    "duration": 125,
    "start_time": "2024-02-08T13:59:18.319Z"
   },
   {
    "duration": 122,
    "start_time": "2024-02-08T13:59:18.446Z"
   },
   {
    "duration": 4453,
    "start_time": "2024-02-08T13:59:18.570Z"
   },
   {
    "duration": 10,
    "start_time": "2024-02-08T13:59:23.025Z"
   },
   {
    "duration": 7,
    "start_time": "2024-02-08T13:59:23.036Z"
   },
   {
    "duration": 16,
    "start_time": "2024-02-08T13:59:23.044Z"
   },
   {
    "duration": 55,
    "start_time": "2024-02-08T13:59:23.061Z"
   },
   {
    "duration": 3,
    "start_time": "2024-02-08T13:59:23.118Z"
   },
   {
    "duration": 572,
    "start_time": "2024-02-08T13:59:23.122Z"
   },
   {
    "duration": 3,
    "start_time": "2024-02-08T13:59:23.696Z"
   },
   {
    "duration": 406,
    "start_time": "2024-02-08T13:59:23.700Z"
   },
   {
    "duration": 36,
    "start_time": "2024-02-08T13:59:24.108Z"
   },
   {
    "duration": 3,
    "start_time": "2024-02-08T13:59:24.147Z"
   },
   {
    "duration": 16,
    "start_time": "2024-02-08T13:59:24.151Z"
   },
   {
    "duration": 49421,
    "start_time": "2024-02-08T13:59:24.168Z"
   },
   {
    "duration": 6,
    "start_time": "2024-02-08T14:00:13.591Z"
   },
   {
    "duration": 3715,
    "start_time": "2024-02-08T14:12:54.644Z"
   },
   {
    "duration": 1527,
    "start_time": "2024-02-08T14:12:58.361Z"
   },
   {
    "duration": 17,
    "start_time": "2024-02-08T14:12:59.889Z"
   },
   {
    "duration": 154,
    "start_time": "2024-02-08T14:12:59.908Z"
   },
   {
    "duration": 155,
    "start_time": "2024-02-08T14:13:00.064Z"
   },
   {
    "duration": 102,
    "start_time": "2024-02-08T14:13:00.220Z"
   },
   {
    "duration": 234,
    "start_time": "2024-02-08T14:13:00.324Z"
   },
   {
    "duration": 1246,
    "start_time": "2024-02-08T14:13:00.559Z"
   },
   {
    "duration": 21,
    "start_time": "2024-02-08T14:13:01.806Z"
   },
   {
    "duration": 51,
    "start_time": "2024-02-08T14:13:01.830Z"
   },
   {
    "duration": 33,
    "start_time": "2024-02-08T14:13:01.882Z"
   },
   {
    "duration": 75,
    "start_time": "2024-02-08T14:13:01.916Z"
   },
   {
    "duration": 87,
    "start_time": "2024-02-08T14:13:01.993Z"
   },
   {
    "duration": 76,
    "start_time": "2024-02-08T14:13:02.082Z"
   },
   {
    "duration": 487,
    "start_time": "2024-02-08T14:13:02.159Z"
   },
   {
    "duration": 430,
    "start_time": "2024-02-08T14:13:02.647Z"
   },
   {
    "duration": 50,
    "start_time": "2024-02-08T14:13:03.079Z"
   },
   {
    "duration": 34,
    "start_time": "2024-02-08T14:13:03.131Z"
   },
   {
    "duration": 3,
    "start_time": "2024-02-08T14:13:03.167Z"
   },
   {
    "duration": 72,
    "start_time": "2024-02-08T14:13:03.172Z"
   },
   {
    "duration": 25,
    "start_time": "2024-02-08T14:13:03.245Z"
   },
   {
    "duration": 19,
    "start_time": "2024-02-08T14:13:03.272Z"
   },
   {
    "duration": 44,
    "start_time": "2024-02-08T14:13:03.292Z"
   },
   {
    "duration": 52,
    "start_time": "2024-02-08T14:13:03.337Z"
   },
   {
    "duration": 34,
    "start_time": "2024-02-08T14:13:03.390Z"
   },
   {
    "duration": 18,
    "start_time": "2024-02-08T14:13:03.425Z"
   },
   {
    "duration": 84,
    "start_time": "2024-02-08T14:13:03.444Z"
   },
   {
    "duration": 11,
    "start_time": "2024-02-08T14:13:03.531Z"
   },
   {
    "duration": 135,
    "start_time": "2024-02-08T14:13:03.543Z"
   },
   {
    "duration": 120,
    "start_time": "2024-02-08T14:13:03.680Z"
   },
   {
    "duration": 4539,
    "start_time": "2024-02-08T14:13:03.801Z"
   },
   {
    "duration": 11,
    "start_time": "2024-02-08T14:13:08.341Z"
   },
   {
    "duration": 6,
    "start_time": "2024-02-08T14:13:08.353Z"
   },
   {
    "duration": 23,
    "start_time": "2024-02-08T14:13:08.360Z"
   },
   {
    "duration": 38,
    "start_time": "2024-02-08T14:13:08.384Z"
   },
   {
    "duration": 3,
    "start_time": "2024-02-08T14:13:08.423Z"
   },
   {
    "duration": 562,
    "start_time": "2024-02-08T14:13:08.428Z"
   },
   {
    "duration": 3,
    "start_time": "2024-02-08T14:13:08.992Z"
   },
   {
    "duration": 425,
    "start_time": "2024-02-08T14:13:08.997Z"
   },
   {
    "duration": 35,
    "start_time": "2024-02-08T14:13:09.424Z"
   },
   {
    "duration": 4,
    "start_time": "2024-02-08T14:13:09.460Z"
   },
   {
    "duration": 23,
    "start_time": "2024-02-08T14:13:09.465Z"
   },
   {
    "duration": 48608,
    "start_time": "2024-02-08T14:13:09.490Z"
   },
   {
    "duration": 4,
    "start_time": "2024-02-08T14:13:58.188Z"
   },
   {
    "duration": 47,
    "start_time": "2024-02-08T14:16:02.246Z"
   },
   {
    "duration": 3818,
    "start_time": "2024-02-08T14:16:11.784Z"
   },
   {
    "duration": 1542,
    "start_time": "2024-02-08T14:16:15.604Z"
   },
   {
    "duration": 15,
    "start_time": "2024-02-08T14:16:17.148Z"
   },
   {
    "duration": 161,
    "start_time": "2024-02-08T14:16:17.165Z"
   },
   {
    "duration": 146,
    "start_time": "2024-02-08T14:16:17.327Z"
   },
   {
    "duration": 98,
    "start_time": "2024-02-08T14:16:17.475Z"
   },
   {
    "duration": 231,
    "start_time": "2024-02-08T14:16:17.575Z"
   },
   {
    "duration": 1231,
    "start_time": "2024-02-08T14:16:17.808Z"
   },
   {
    "duration": 21,
    "start_time": "2024-02-08T14:16:19.040Z"
   },
   {
    "duration": 48,
    "start_time": "2024-02-08T14:16:19.064Z"
   },
   {
    "duration": 35,
    "start_time": "2024-02-08T14:16:19.114Z"
   },
   {
    "duration": 41,
    "start_time": "2024-02-08T14:16:19.150Z"
   },
   {
    "duration": 37,
    "start_time": "2024-02-08T14:16:19.192Z"
   },
   {
    "duration": 28,
    "start_time": "2024-02-08T14:16:19.231Z"
   },
   {
    "duration": 420,
    "start_time": "2024-02-08T14:16:19.260Z"
   },
   {
    "duration": 436,
    "start_time": "2024-02-08T14:16:19.681Z"
   },
   {
    "duration": 44,
    "start_time": "2024-02-08T14:16:20.118Z"
   },
   {
    "duration": 46,
    "start_time": "2024-02-08T14:16:20.164Z"
   },
   {
    "duration": 4,
    "start_time": "2024-02-08T14:16:20.212Z"
   },
   {
    "duration": 45,
    "start_time": "2024-02-08T14:16:20.218Z"
   },
   {
    "duration": 24,
    "start_time": "2024-02-08T14:16:20.264Z"
   },
   {
    "duration": 15,
    "start_time": "2024-02-08T14:16:20.289Z"
   },
   {
    "duration": 44,
    "start_time": "2024-02-08T14:16:20.306Z"
   },
   {
    "duration": 52,
    "start_time": "2024-02-08T14:16:20.352Z"
   },
   {
    "duration": 41,
    "start_time": "2024-02-08T14:16:20.406Z"
   },
   {
    "duration": 18,
    "start_time": "2024-02-08T14:16:20.448Z"
   },
   {
    "duration": 80,
    "start_time": "2024-02-08T14:16:20.468Z"
   },
   {
    "duration": 13,
    "start_time": "2024-02-08T14:16:20.552Z"
   },
   {
    "duration": 123,
    "start_time": "2024-02-08T14:16:20.567Z"
   },
   {
    "duration": 117,
    "start_time": "2024-02-08T14:16:20.692Z"
   },
   {
    "duration": 4609,
    "start_time": "2024-02-08T14:16:20.811Z"
   },
   {
    "duration": 12,
    "start_time": "2024-02-08T14:16:25.421Z"
   },
   {
    "duration": 8,
    "start_time": "2024-02-08T14:16:25.434Z"
   },
   {
    "duration": 45,
    "start_time": "2024-02-08T14:16:25.443Z"
   },
   {
    "duration": 58,
    "start_time": "2024-02-08T14:16:25.490Z"
   },
   {
    "duration": 4,
    "start_time": "2024-02-08T14:16:25.550Z"
   },
   {
    "duration": 551,
    "start_time": "2024-02-08T14:16:25.555Z"
   },
   {
    "duration": 4,
    "start_time": "2024-02-08T14:16:26.107Z"
   },
   {
    "duration": 437,
    "start_time": "2024-02-08T14:16:26.112Z"
   },
   {
    "duration": 42,
    "start_time": "2024-02-08T14:16:26.551Z"
   },
   {
    "duration": 3,
    "start_time": "2024-02-08T14:16:26.594Z"
   },
   {
    "duration": 9,
    "start_time": "2024-02-08T14:16:26.599Z"
   },
   {
    "duration": 49280,
    "start_time": "2024-02-08T14:16:26.609Z"
   },
   {
    "duration": 6,
    "start_time": "2024-02-08T14:17:15.891Z"
   },
   {
    "duration": 3790,
    "start_time": "2024-02-08T14:21:08.063Z"
   },
   {
    "duration": 1979,
    "start_time": "2024-02-08T14:21:11.855Z"
   },
   {
    "duration": 16,
    "start_time": "2024-02-08T14:21:13.836Z"
   },
   {
    "duration": 163,
    "start_time": "2024-02-08T14:21:13.854Z"
   },
   {
    "duration": 151,
    "start_time": "2024-02-08T14:21:14.019Z"
   },
   {
    "duration": 92,
    "start_time": "2024-02-08T14:21:14.171Z"
   },
   {
    "duration": 251,
    "start_time": "2024-02-08T14:21:14.264Z"
   },
   {
    "duration": 1281,
    "start_time": "2024-02-08T14:21:14.517Z"
   },
   {
    "duration": 21,
    "start_time": "2024-02-08T14:21:15.799Z"
   },
   {
    "duration": 23,
    "start_time": "2024-02-08T14:21:15.822Z"
   },
   {
    "duration": 33,
    "start_time": "2024-02-08T14:21:15.846Z"
   },
   {
    "duration": 22,
    "start_time": "2024-02-08T14:21:15.886Z"
   },
   {
    "duration": 26,
    "start_time": "2024-02-08T14:21:15.909Z"
   },
   {
    "duration": 20,
    "start_time": "2024-02-08T14:21:15.936Z"
   },
   {
    "duration": 441,
    "start_time": "2024-02-08T14:21:15.958Z"
   },
   {
    "duration": 449,
    "start_time": "2024-02-08T14:21:16.400Z"
   },
   {
    "duration": 55,
    "start_time": "2024-02-08T14:21:16.851Z"
   },
   {
    "duration": 35,
    "start_time": "2024-02-08T14:21:16.908Z"
   },
   {
    "duration": 4,
    "start_time": "2024-02-08T14:21:16.945Z"
   },
   {
    "duration": 52,
    "start_time": "2024-02-08T14:21:16.950Z"
   },
   {
    "duration": 15,
    "start_time": "2024-02-08T14:21:17.003Z"
   },
   {
    "duration": 19,
    "start_time": "2024-02-08T14:21:17.020Z"
   },
   {
    "duration": 60,
    "start_time": "2024-02-08T14:21:17.040Z"
   },
   {
    "duration": 47,
    "start_time": "2024-02-08T14:21:17.102Z"
   },
   {
    "duration": 50,
    "start_time": "2024-02-08T14:21:17.151Z"
   },
   {
    "duration": 18,
    "start_time": "2024-02-08T14:21:17.203Z"
   },
   {
    "duration": 77,
    "start_time": "2024-02-08T14:21:17.223Z"
   },
   {
    "duration": 11,
    "start_time": "2024-02-08T14:21:17.303Z"
   },
   {
    "duration": 124,
    "start_time": "2024-02-08T14:21:17.316Z"
   },
   {
    "duration": 119,
    "start_time": "2024-02-08T14:21:17.442Z"
   },
   {
    "duration": 4532,
    "start_time": "2024-02-08T14:21:17.563Z"
   },
   {
    "duration": 10,
    "start_time": "2024-02-08T14:21:22.097Z"
   },
   {
    "duration": 24,
    "start_time": "2024-02-08T14:21:22.108Z"
   },
   {
    "duration": 28,
    "start_time": "2024-02-08T14:21:22.133Z"
   },
   {
    "duration": 60,
    "start_time": "2024-02-08T14:21:22.163Z"
   },
   {
    "duration": 3,
    "start_time": "2024-02-08T14:21:22.225Z"
   },
   {
    "duration": 592,
    "start_time": "2024-02-08T14:21:22.229Z"
   },
   {
    "duration": 3,
    "start_time": "2024-02-08T14:21:22.822Z"
   },
   {
    "duration": 424,
    "start_time": "2024-02-08T14:21:22.827Z"
   },
   {
    "duration": 42,
    "start_time": "2024-02-08T14:21:23.253Z"
   },
   {
    "duration": 3,
    "start_time": "2024-02-08T14:21:23.297Z"
   },
   {
    "duration": 30,
    "start_time": "2024-02-08T14:21:23.302Z"
   },
   {
    "duration": 47954,
    "start_time": "2024-02-08T14:21:23.334Z"
   },
   {
    "duration": 5,
    "start_time": "2024-02-08T14:22:11.290Z"
   },
   {
    "duration": 98,
    "start_time": "2024-02-08T14:22:11.298Z"
   },
   {
    "duration": 74876,
    "start_time": "2024-02-08T14:22:11.397Z"
   },
   {
    "duration": 116117,
    "start_time": "2024-02-08T14:23:26.275Z"
   },
   {
    "duration": 334016,
    "start_time": "2024-02-08T14:25:22.394Z"
   },
   {
    "duration": 31,
    "start_time": "2024-02-08T14:30:56.412Z"
   },
   {
    "duration": 45,
    "start_time": "2024-02-08T14:30:56.444Z"
   },
   {
    "duration": 501,
    "start_time": "2024-02-08T14:30:56.491Z"
   },
   {
    "duration": 95,
    "start_time": "2024-02-08T14:30:56.994Z"
   },
   {
    "duration": 421,
    "start_time": "2024-02-08T14:30:57.091Z"
   },
   {
    "duration": 12,
    "start_time": "2024-02-08T14:30:57.514Z"
   },
   {
    "duration": 4371,
    "start_time": "2024-02-08T14:30:57.527Z"
   },
   {
    "duration": 396,
    "start_time": "2024-02-08T14:31:01.900Z"
   },
   {
    "duration": 19340,
    "start_time": "2024-02-08T14:31:02.298Z"
   },
   {
    "duration": 55,
    "start_time": "2024-02-08T14:31:21.639Z"
   },
   {
    "duration": 13,
    "start_time": "2024-02-08T14:31:21.695Z"
   },
   {
    "duration": 72742,
    "start_time": "2024-02-08T14:32:03.256Z"
   },
   {
    "duration": 51,
    "start_time": "2024-02-08T14:35:13.056Z"
   },
   {
    "duration": 73803,
    "start_time": "2024-02-08T14:35:25.334Z"
   },
   {
    "duration": 2279,
    "start_time": "2024-02-08T14:38:20.343Z"
   },
   {
    "duration": 50316,
    "start_time": "2024-02-08T14:40:00.173Z"
   },
   {
    "duration": 50234,
    "start_time": "2024-02-08T14:42:29.058Z"
   },
   {
    "duration": 47861,
    "start_time": "2024-02-08T14:44:10.328Z"
   },
   {
    "duration": 3772,
    "start_time": "2024-02-08T14:53:00.570Z"
   },
   {
    "duration": 1319,
    "start_time": "2024-02-08T14:53:04.344Z"
   },
   {
    "duration": 15,
    "start_time": "2024-02-08T14:53:05.664Z"
   },
   {
    "duration": 151,
    "start_time": "2024-02-08T14:53:05.681Z"
   },
   {
    "duration": 138,
    "start_time": "2024-02-08T14:53:05.834Z"
   },
   {
    "duration": 92,
    "start_time": "2024-02-08T14:53:05.973Z"
   },
   {
    "duration": 223,
    "start_time": "2024-02-08T14:53:06.067Z"
   },
   {
    "duration": 1258,
    "start_time": "2024-02-08T14:53:06.292Z"
   },
   {
    "duration": 21,
    "start_time": "2024-02-08T14:53:07.551Z"
   },
   {
    "duration": 30,
    "start_time": "2024-02-08T14:53:07.574Z"
   },
   {
    "duration": 26,
    "start_time": "2024-02-08T14:53:07.605Z"
   },
   {
    "duration": 31,
    "start_time": "2024-02-08T14:53:07.632Z"
   },
   {
    "duration": 39,
    "start_time": "2024-02-08T14:53:07.664Z"
   },
   {
    "duration": 20,
    "start_time": "2024-02-08T14:53:07.705Z"
   },
   {
    "duration": 439,
    "start_time": "2024-02-08T14:53:07.727Z"
   },
   {
    "duration": 461,
    "start_time": "2024-02-08T14:53:08.168Z"
   },
   {
    "duration": 47,
    "start_time": "2024-02-08T14:53:08.631Z"
   },
   {
    "duration": 36,
    "start_time": "2024-02-08T14:53:08.687Z"
   },
   {
    "duration": 4,
    "start_time": "2024-02-08T14:53:08.724Z"
   },
   {
    "duration": 51,
    "start_time": "2024-02-08T14:53:08.730Z"
   },
   {
    "duration": 14,
    "start_time": "2024-02-08T14:53:08.787Z"
   },
   {
    "duration": 23,
    "start_time": "2024-02-08T14:53:08.803Z"
   },
   {
    "duration": 63,
    "start_time": "2024-02-08T14:53:08.827Z"
   },
   {
    "duration": 46,
    "start_time": "2024-02-08T14:53:08.891Z"
   },
   {
    "duration": 39,
    "start_time": "2024-02-08T14:53:08.938Z"
   },
   {
    "duration": 24,
    "start_time": "2024-02-08T14:53:08.979Z"
   },
   {
    "duration": 67,
    "start_time": "2024-02-08T14:53:09.005Z"
   },
   {
    "duration": 10,
    "start_time": "2024-02-08T14:53:09.088Z"
   },
   {
    "duration": 112,
    "start_time": "2024-02-08T14:53:09.100Z"
   },
   {
    "duration": 131,
    "start_time": "2024-02-08T14:53:09.214Z"
   },
   {
    "duration": 4574,
    "start_time": "2024-02-08T14:53:09.346Z"
   },
   {
    "duration": 10,
    "start_time": "2024-02-08T14:53:13.921Z"
   },
   {
    "duration": 20,
    "start_time": "2024-02-08T14:53:13.932Z"
   },
   {
    "duration": 12,
    "start_time": "2024-02-08T14:53:13.953Z"
   },
   {
    "duration": 40,
    "start_time": "2024-02-08T14:53:13.966Z"
   },
   {
    "duration": 3,
    "start_time": "2024-02-08T14:53:14.008Z"
   },
   {
    "duration": 576,
    "start_time": "2024-02-08T14:53:14.012Z"
   },
   {
    "duration": 3,
    "start_time": "2024-02-08T14:53:14.590Z"
   },
   {
    "duration": 423,
    "start_time": "2024-02-08T14:53:14.594Z"
   },
   {
    "duration": 40,
    "start_time": "2024-02-08T14:53:15.019Z"
   },
   {
    "duration": 16,
    "start_time": "2024-02-08T14:53:15.061Z"
   },
   {
    "duration": 45,
    "start_time": "2024-02-08T14:53:15.079Z"
   },
   {
    "duration": 47468,
    "start_time": "2024-02-08T14:53:15.125Z"
   },
   {
    "duration": 22798,
    "start_time": "2024-02-08T14:54:02.595Z"
   },
   {
    "duration": 73789,
    "start_time": "2024-02-08T14:54:25.395Z"
   },
   {
    "duration": 119213,
    "start_time": "2024-02-08T14:55:39.185Z"
   },
   {
    "duration": 333597,
    "start_time": "2024-02-08T14:57:38.400Z"
   },
   {
    "duration": 30,
    "start_time": "2024-02-08T15:03:11.999Z"
   },
   {
    "duration": 63,
    "start_time": "2024-02-08T15:03:12.031Z"
   },
   {
    "duration": 357,
    "start_time": "2024-02-08T15:03:12.095Z"
   },
   {
    "duration": 35,
    "start_time": "2024-02-08T15:03:12.453Z"
   },
   {
    "duration": 407,
    "start_time": "2024-02-08T15:03:12.490Z"
   },
   {
    "duration": 13,
    "start_time": "2024-02-08T15:03:12.898Z"
   },
   {
    "duration": 4677,
    "start_time": "2024-02-08T15:03:12.913Z"
   },
   {
    "duration": 314,
    "start_time": "2024-02-08T15:03:17.591Z"
   },
   {
    "duration": 19397,
    "start_time": "2024-02-08T15:03:17.907Z"
   },
   {
    "duration": 55,
    "start_time": "2024-02-08T15:03:37.306Z"
   },
   {
    "duration": 14,
    "start_time": "2024-02-08T15:03:37.362Z"
   },
   {
    "duration": 283,
    "start_time": "2024-02-08T15:03:37.379Z"
   },
   {
    "duration": 3677,
    "start_time": "2024-02-08T15:04:18.247Z"
   },
   {
    "duration": 1619,
    "start_time": "2024-02-08T15:04:21.926Z"
   },
   {
    "duration": 15,
    "start_time": "2024-02-08T15:04:23.547Z"
   },
   {
    "duration": 156,
    "start_time": "2024-02-08T15:04:23.564Z"
   },
   {
    "duration": 145,
    "start_time": "2024-02-08T15:04:23.721Z"
   },
   {
    "duration": 97,
    "start_time": "2024-02-08T15:04:23.867Z"
   },
   {
    "duration": 225,
    "start_time": "2024-02-08T15:04:23.965Z"
   },
   {
    "duration": 1278,
    "start_time": "2024-02-08T15:04:24.191Z"
   },
   {
    "duration": 22,
    "start_time": "2024-02-08T15:04:25.470Z"
   },
   {
    "duration": 40,
    "start_time": "2024-02-08T15:04:25.496Z"
   },
   {
    "duration": 38,
    "start_time": "2024-02-08T15:04:25.538Z"
   },
   {
    "duration": 34,
    "start_time": "2024-02-08T15:04:25.578Z"
   },
   {
    "duration": 23,
    "start_time": "2024-02-08T15:04:25.613Z"
   },
   {
    "duration": 20,
    "start_time": "2024-02-08T15:04:25.637Z"
   },
   {
    "duration": 431,
    "start_time": "2024-02-08T15:04:25.659Z"
   },
   {
    "duration": 458,
    "start_time": "2024-02-08T15:04:26.092Z"
   },
   {
    "duration": 52,
    "start_time": "2024-02-08T15:04:26.552Z"
   },
   {
    "duration": 35,
    "start_time": "2024-02-08T15:04:26.606Z"
   },
   {
    "duration": 4,
    "start_time": "2024-02-08T15:04:26.642Z"
   },
   {
    "duration": 52,
    "start_time": "2024-02-08T15:04:26.647Z"
   },
   {
    "duration": 15,
    "start_time": "2024-02-08T15:04:26.700Z"
   },
   {
    "duration": 17,
    "start_time": "2024-02-08T15:04:26.716Z"
   },
   {
    "duration": 37,
    "start_time": "2024-02-08T15:04:26.735Z"
   },
   {
    "duration": 45,
    "start_time": "2024-02-08T15:04:26.787Z"
   },
   {
    "duration": 33,
    "start_time": "2024-02-08T15:04:26.834Z"
   },
   {
    "duration": 32,
    "start_time": "2024-02-08T15:04:26.869Z"
   },
   {
    "duration": 70,
    "start_time": "2024-02-08T15:04:26.902Z"
   },
   {
    "duration": 20,
    "start_time": "2024-02-08T15:04:26.976Z"
   },
   {
    "duration": 113,
    "start_time": "2024-02-08T15:04:26.997Z"
   },
   {
    "duration": 122,
    "start_time": "2024-02-08T15:04:27.112Z"
   },
   {
    "duration": 4597,
    "start_time": "2024-02-08T15:04:27.235Z"
   },
   {
    "duration": 10,
    "start_time": "2024-02-08T15:04:31.833Z"
   },
   {
    "duration": 52,
    "start_time": "2024-02-08T15:04:31.844Z"
   },
   {
    "duration": 59,
    "start_time": "2024-02-08T15:04:31.897Z"
   },
   {
    "duration": 81,
    "start_time": "2024-02-08T15:04:31.958Z"
   },
   {
    "duration": 3,
    "start_time": "2024-02-08T15:04:32.040Z"
   },
   {
    "duration": 599,
    "start_time": "2024-02-08T15:04:32.045Z"
   },
   {
    "duration": 3,
    "start_time": "2024-02-08T15:04:32.646Z"
   },
   {
    "duration": 452,
    "start_time": "2024-02-08T15:04:32.650Z"
   },
   {
    "duration": 36,
    "start_time": "2024-02-08T15:04:33.104Z"
   },
   {
    "duration": 3,
    "start_time": "2024-02-08T15:04:33.141Z"
   },
   {
    "duration": 15,
    "start_time": "2024-02-08T15:04:33.145Z"
   },
   {
    "duration": 48426,
    "start_time": "2024-02-08T15:04:33.162Z"
   },
   {
    "duration": 201,
    "start_time": "2024-02-08T15:05:21.590Z"
   },
   {
    "duration": 0,
    "start_time": "2024-02-08T15:05:21.793Z"
   },
   {
    "duration": 0,
    "start_time": "2024-02-08T15:05:21.794Z"
   },
   {
    "duration": 1,
    "start_time": "2024-02-08T15:05:21.794Z"
   },
   {
    "duration": 0,
    "start_time": "2024-02-08T15:05:21.796Z"
   },
   {
    "duration": 0,
    "start_time": "2024-02-08T15:05:21.797Z"
   },
   {
    "duration": 0,
    "start_time": "2024-02-08T15:05:21.798Z"
   },
   {
    "duration": 1,
    "start_time": "2024-02-08T15:05:21.798Z"
   },
   {
    "duration": 0,
    "start_time": "2024-02-08T15:05:21.799Z"
   },
   {
    "duration": 0,
    "start_time": "2024-02-08T15:05:21.800Z"
   },
   {
    "duration": 0,
    "start_time": "2024-02-08T15:05:21.801Z"
   },
   {
    "duration": 0,
    "start_time": "2024-02-08T15:05:21.802Z"
   },
   {
    "duration": 0,
    "start_time": "2024-02-08T15:05:21.803Z"
   },
   {
    "duration": 0,
    "start_time": "2024-02-08T15:05:21.804Z"
   },
   {
    "duration": 0,
    "start_time": "2024-02-08T15:05:21.805Z"
   },
   {
    "duration": 0,
    "start_time": "2024-02-08T15:05:21.806Z"
   },
   {
    "duration": 0,
    "start_time": "2024-02-08T15:05:21.807Z"
   },
   {
    "duration": 37,
    "start_time": "2024-02-08T15:07:38.739Z"
   },
   {
    "duration": 30,
    "start_time": "2024-02-08T15:07:54.083Z"
   },
   {
    "duration": 164,
    "start_time": "2024-02-08T15:08:10.687Z"
   },
   {
    "duration": 163,
    "start_time": "2024-02-08T15:08:28.517Z"
   },
   {
    "duration": 11949,
    "start_time": "2024-02-08T15:09:41.441Z"
   },
   {
    "duration": 228,
    "start_time": "2024-02-08T15:09:54.961Z"
   },
   {
    "duration": 11764,
    "start_time": "2024-02-08T15:10:53.424Z"
   },
   {
    "duration": 299,
    "start_time": "2024-02-08T15:11:05.190Z"
   },
   {
    "duration": 22806,
    "start_time": "2024-02-08T15:12:58.983Z"
   },
   {
    "duration": 86,
    "start_time": "2024-02-08T15:14:16.804Z"
   },
   {
    "duration": 8,
    "start_time": "2024-02-08T15:16:25.369Z"
   },
   {
    "duration": 72336,
    "start_time": "2024-02-08T15:16:49.452Z"
   },
   {
    "duration": 311,
    "start_time": "2024-02-08T15:18:39.568Z"
   },
   {
    "duration": 26,
    "start_time": "2024-02-08T15:18:46.804Z"
   },
   {
    "duration": 120057,
    "start_time": "2024-02-08T15:18:56.642Z"
   },
   {
    "duration": 4383,
    "start_time": "2024-02-08T15:21:03.809Z"
   },
   {
    "duration": 1094,
    "start_time": "2024-02-08T15:21:08.194Z"
   },
   {
    "duration": 332926,
    "start_time": "2024-02-08T15:32:52.498Z"
   },
   {
    "duration": 19302,
    "start_time": "2024-02-08T15:38:25.426Z"
   },
   {
    "duration": 148,
    "start_time": "2024-02-08T15:38:44.730Z"
   },
   {
    "duration": 10,
    "start_time": "2024-02-08T15:55:41.930Z"
   },
   {
    "duration": 10,
    "start_time": "2024-02-08T15:56:26.306Z"
   },
   {
    "duration": 22806,
    "start_time": "2024-02-08T15:57:03.683Z"
   },
   {
    "duration": 23715,
    "start_time": "2024-02-08T15:57:44.374Z"
   },
   {
    "duration": 13,
    "start_time": "2024-02-08T15:58:18.965Z"
   },
   {
    "duration": 90,
    "start_time": "2024-02-08T15:58:57.598Z"
   },
   {
    "duration": 7,
    "start_time": "2024-02-08T15:58:58.450Z"
   },
   {
    "duration": 3651,
    "start_time": "2024-02-08T16:18:19.458Z"
   },
   {
    "duration": 1751,
    "start_time": "2024-02-08T16:18:23.111Z"
   },
   {
    "duration": 15,
    "start_time": "2024-02-08T16:18:24.863Z"
   },
   {
    "duration": 137,
    "start_time": "2024-02-08T16:18:24.887Z"
   },
   {
    "duration": 140,
    "start_time": "2024-02-08T16:18:25.025Z"
   },
   {
    "duration": 93,
    "start_time": "2024-02-08T16:18:25.166Z"
   },
   {
    "duration": 244,
    "start_time": "2024-02-08T16:18:25.261Z"
   },
   {
    "duration": 1213,
    "start_time": "2024-02-08T16:18:25.507Z"
   },
   {
    "duration": 20,
    "start_time": "2024-02-08T16:18:26.722Z"
   },
   {
    "duration": 22,
    "start_time": "2024-02-08T16:18:26.745Z"
   },
   {
    "duration": 39,
    "start_time": "2024-02-08T16:18:26.768Z"
   },
   {
    "duration": 21,
    "start_time": "2024-02-08T16:18:26.809Z"
   },
   {
    "duration": 24,
    "start_time": "2024-02-08T16:18:26.831Z"
   },
   {
    "duration": 41,
    "start_time": "2024-02-08T16:18:26.856Z"
   },
   {
    "duration": 415,
    "start_time": "2024-02-08T16:18:26.898Z"
   },
   {
    "duration": 427,
    "start_time": "2024-02-08T16:18:27.314Z"
   },
   {
    "duration": 50,
    "start_time": "2024-02-08T16:18:27.742Z"
   },
   {
    "duration": 35,
    "start_time": "2024-02-08T16:18:27.794Z"
   },
   {
    "duration": 4,
    "start_time": "2024-02-08T16:18:27.830Z"
   },
   {
    "duration": 59,
    "start_time": "2024-02-08T16:18:27.835Z"
   },
   {
    "duration": 15,
    "start_time": "2024-02-08T16:18:27.896Z"
   },
   {
    "duration": 16,
    "start_time": "2024-02-08T16:18:27.912Z"
   },
   {
    "duration": 38,
    "start_time": "2024-02-08T16:18:27.929Z"
   },
   {
    "duration": 62,
    "start_time": "2024-02-08T16:18:27.968Z"
   },
   {
    "duration": 32,
    "start_time": "2024-02-08T16:18:28.032Z"
   },
   {
    "duration": 34,
    "start_time": "2024-02-08T16:18:28.065Z"
   },
   {
    "duration": 66,
    "start_time": "2024-02-08T16:18:28.100Z"
   },
   {
    "duration": 25,
    "start_time": "2024-02-08T16:18:28.170Z"
   },
   {
    "duration": 119,
    "start_time": "2024-02-08T16:18:28.197Z"
   },
   {
    "duration": 122,
    "start_time": "2024-02-08T16:18:28.318Z"
   },
   {
    "duration": 4525,
    "start_time": "2024-02-08T16:18:28.441Z"
   },
   {
    "duration": 10,
    "start_time": "2024-02-08T16:18:32.968Z"
   },
   {
    "duration": 4,
    "start_time": "2024-02-08T16:18:32.987Z"
   },
   {
    "duration": 20,
    "start_time": "2024-02-08T16:18:32.992Z"
   },
   {
    "duration": 44,
    "start_time": "2024-02-08T16:18:33.013Z"
   },
   {
    "duration": 3,
    "start_time": "2024-02-08T16:18:33.059Z"
   },
   {
    "duration": 576,
    "start_time": "2024-02-08T16:18:33.063Z"
   },
   {
    "duration": 3,
    "start_time": "2024-02-08T16:18:33.640Z"
   },
   {
    "duration": 463,
    "start_time": "2024-02-08T16:18:33.644Z"
   },
   {
    "duration": 38,
    "start_time": "2024-02-08T16:18:34.108Z"
   },
   {
    "duration": 3,
    "start_time": "2024-02-08T16:18:34.148Z"
   },
   {
    "duration": 3,
    "start_time": "2024-02-08T16:18:34.153Z"
   },
   {
    "duration": 47931,
    "start_time": "2024-02-08T16:18:34.157Z"
   },
   {
    "duration": 11698,
    "start_time": "2024-02-08T16:19:22.091Z"
   },
   {
    "duration": 298,
    "start_time": "2024-02-08T16:19:33.790Z"
   },
   {
    "duration": 5805,
    "start_time": "2024-02-08T16:19:34.090Z"
   },
   {
    "duration": 301,
    "start_time": "2024-02-08T16:19:39.897Z"
   },
   {
    "duration": 102,
    "start_time": "2024-02-08T16:19:40.289Z"
   },
   {
    "duration": 74075,
    "start_time": "2024-02-08T16:19:40.397Z"
   },
   {
    "duration": 325,
    "start_time": "2024-02-08T16:20:54.474Z"
   },
   {
    "duration": 27,
    "start_time": "2024-02-08T16:20:54.801Z"
   },
   {
    "duration": 118563,
    "start_time": "2024-02-08T16:20:54.830Z"
   },
   {
    "duration": 4702,
    "start_time": "2024-02-08T16:22:53.395Z"
   },
   {
    "duration": 1093,
    "start_time": "2024-02-08T16:22:58.098Z"
   },
   {
    "duration": 333679,
    "start_time": "2024-02-08T16:22:59.193Z"
   },
   {
    "duration": 19222,
    "start_time": "2024-02-08T16:28:32.874Z"
   },
   {
    "duration": 156,
    "start_time": "2024-02-08T16:28:52.097Z"
   },
   {
    "duration": 15,
    "start_time": "2024-02-08T16:28:52.255Z"
   },
   {
    "duration": 340,
    "start_time": "2024-02-08T16:28:52.272Z"
   },
   {
    "duration": 14,
    "start_time": "2024-02-08T16:28:52.614Z"
   },
   {
    "duration": 3759,
    "start_time": "2024-02-08T16:39:28.657Z"
   },
   {
    "duration": 2261,
    "start_time": "2024-02-08T16:39:32.418Z"
   },
   {
    "duration": 19,
    "start_time": "2024-02-08T16:39:34.681Z"
   },
   {
    "duration": 145,
    "start_time": "2024-02-08T16:39:34.702Z"
   },
   {
    "duration": 145,
    "start_time": "2024-02-08T16:39:34.848Z"
   },
   {
    "duration": 128,
    "start_time": "2024-02-08T16:39:34.994Z"
   },
   {
    "duration": 223,
    "start_time": "2024-02-08T16:39:35.123Z"
   },
   {
    "duration": 1260,
    "start_time": "2024-02-08T16:39:35.347Z"
   },
   {
    "duration": 20,
    "start_time": "2024-02-08T16:39:36.609Z"
   },
   {
    "duration": 28,
    "start_time": "2024-02-08T16:39:36.631Z"
   },
   {
    "duration": 46,
    "start_time": "2024-02-08T16:39:36.660Z"
   },
   {
    "duration": 22,
    "start_time": "2024-02-08T16:39:36.707Z"
   },
   {
    "duration": 37,
    "start_time": "2024-02-08T16:39:36.731Z"
   },
   {
    "duration": 26,
    "start_time": "2024-02-08T16:39:36.769Z"
   },
   {
    "duration": 414,
    "start_time": "2024-02-08T16:39:36.797Z"
   },
   {
    "duration": 442,
    "start_time": "2024-02-08T16:39:37.213Z"
   },
   {
    "duration": 56,
    "start_time": "2024-02-08T16:39:37.656Z"
   },
   {
    "duration": 38,
    "start_time": "2024-02-08T16:39:37.713Z"
   },
   {
    "duration": 5,
    "start_time": "2024-02-08T16:39:37.753Z"
   },
   {
    "duration": 60,
    "start_time": "2024-02-08T16:39:37.760Z"
   },
   {
    "duration": 15,
    "start_time": "2024-02-08T16:39:37.822Z"
   },
   {
    "duration": 16,
    "start_time": "2024-02-08T16:39:37.839Z"
   },
   {
    "duration": 60,
    "start_time": "2024-02-08T16:39:37.857Z"
   },
   {
    "duration": 44,
    "start_time": "2024-02-08T16:39:37.919Z"
   },
   {
    "duration": 55,
    "start_time": "2024-02-08T16:39:37.965Z"
   },
   {
    "duration": 17,
    "start_time": "2024-02-08T16:39:38.022Z"
   },
   {
    "duration": 82,
    "start_time": "2024-02-08T16:39:38.041Z"
   },
   {
    "duration": 10,
    "start_time": "2024-02-08T16:39:38.127Z"
   },
   {
    "duration": 121,
    "start_time": "2024-02-08T16:39:38.138Z"
   },
   {
    "duration": 123,
    "start_time": "2024-02-08T16:39:38.260Z"
   },
   {
    "duration": 4491,
    "start_time": "2024-02-08T16:39:38.387Z"
   },
   {
    "duration": 10,
    "start_time": "2024-02-08T16:39:42.880Z"
   },
   {
    "duration": 12,
    "start_time": "2024-02-08T16:39:42.891Z"
   },
   {
    "duration": 32,
    "start_time": "2024-02-08T16:39:42.905Z"
   },
   {
    "duration": 67,
    "start_time": "2024-02-08T16:39:42.939Z"
   },
   {
    "duration": 4,
    "start_time": "2024-02-08T16:39:43.007Z"
   },
   {
    "duration": 576,
    "start_time": "2024-02-08T16:39:43.012Z"
   },
   {
    "duration": 4,
    "start_time": "2024-02-08T16:39:43.589Z"
   },
   {
    "duration": 430,
    "start_time": "2024-02-08T16:39:43.594Z"
   },
   {
    "duration": 36,
    "start_time": "2024-02-08T16:39:44.026Z"
   },
   {
    "duration": 4,
    "start_time": "2024-02-08T16:39:44.063Z"
   },
   {
    "duration": 22,
    "start_time": "2024-02-08T16:39:44.068Z"
   },
   {
    "duration": 47098,
    "start_time": "2024-02-08T16:39:44.091Z"
   },
   {
    "duration": 12796,
    "start_time": "2024-02-08T16:40:31.192Z"
   },
   {
    "duration": 299,
    "start_time": "2024-02-08T16:40:43.989Z"
   },
   {
    "duration": 72170,
    "start_time": "2024-02-08T16:40:44.296Z"
   },
   {
    "duration": 320,
    "start_time": "2024-02-08T16:41:56.467Z"
   },
   {
    "duration": 25,
    "start_time": "2024-02-08T16:41:56.789Z"
   },
   {
    "duration": 114276,
    "start_time": "2024-02-08T16:41:56.816Z"
   },
   {
    "duration": 4398,
    "start_time": "2024-02-08T16:43:51.094Z"
   },
   {
    "duration": 1012,
    "start_time": "2024-02-08T16:43:55.494Z"
   },
   {
    "duration": 330845,
    "start_time": "2024-02-08T16:43:56.508Z"
   },
   {
    "duration": 18882,
    "start_time": "2024-02-08T16:49:27.354Z"
   },
   {
    "duration": 150,
    "start_time": "2024-02-08T16:49:46.237Z"
   },
   {
    "duration": 15,
    "start_time": "2024-02-08T16:49:46.389Z"
   },
   {
    "duration": 340,
    "start_time": "2024-02-08T16:49:46.406Z"
   },
   {
    "duration": 14,
    "start_time": "2024-02-08T16:49:46.747Z"
   },
   {
    "duration": 4530,
    "start_time": "2024-02-09T12:54:49.456Z"
   },
   {
    "duration": 1483,
    "start_time": "2024-02-09T12:54:53.988Z"
   },
   {
    "duration": 15,
    "start_time": "2024-02-09T12:54:55.472Z"
   },
   {
    "duration": 156,
    "start_time": "2024-02-09T12:54:55.489Z"
   },
   {
    "duration": 129,
    "start_time": "2024-02-09T12:54:55.646Z"
   },
   {
    "duration": 89,
    "start_time": "2024-02-09T12:54:55.776Z"
   },
   {
    "duration": 222,
    "start_time": "2024-02-09T12:54:55.866Z"
   },
   {
    "duration": 1165,
    "start_time": "2024-02-09T12:54:56.090Z"
   },
   {
    "duration": 32,
    "start_time": "2024-02-09T12:54:57.257Z"
   },
   {
    "duration": 40,
    "start_time": "2024-02-09T12:54:57.293Z"
   },
   {
    "duration": 30,
    "start_time": "2024-02-09T12:54:57.334Z"
   },
   {
    "duration": 34,
    "start_time": "2024-02-09T12:54:57.365Z"
   },
   {
    "duration": 34,
    "start_time": "2024-02-09T12:54:57.400Z"
   },
   {
    "duration": 25,
    "start_time": "2024-02-09T12:54:57.435Z"
   },
   {
    "duration": 447,
    "start_time": "2024-02-09T12:54:57.462Z"
   },
   {
    "duration": 413,
    "start_time": "2024-02-09T12:54:57.911Z"
   },
   {
    "duration": 51,
    "start_time": "2024-02-09T12:54:58.325Z"
   },
   {
    "duration": 42,
    "start_time": "2024-02-09T12:54:58.378Z"
   },
   {
    "duration": 4,
    "start_time": "2024-02-09T12:54:58.422Z"
   },
   {
    "duration": 58,
    "start_time": "2024-02-09T12:54:58.427Z"
   },
   {
    "duration": 14,
    "start_time": "2024-02-09T12:54:58.487Z"
   },
   {
    "duration": 33,
    "start_time": "2024-02-09T12:54:58.503Z"
   },
   {
    "duration": 72,
    "start_time": "2024-02-09T12:54:58.538Z"
   },
   {
    "duration": 55,
    "start_time": "2024-02-09T12:54:58.611Z"
   },
   {
    "duration": 50,
    "start_time": "2024-02-09T12:54:58.667Z"
   },
   {
    "duration": 16,
    "start_time": "2024-02-09T12:54:58.719Z"
   },
   {
    "duration": 66,
    "start_time": "2024-02-09T12:54:58.736Z"
   },
   {
    "duration": 21,
    "start_time": "2024-02-09T12:54:58.806Z"
   },
   {
    "duration": 110,
    "start_time": "2024-02-09T12:54:58.828Z"
   },
   {
    "duration": 116,
    "start_time": "2024-02-09T12:54:58.940Z"
   },
   {
    "duration": 4472,
    "start_time": "2024-02-09T12:54:59.058Z"
   },
   {
    "duration": 10,
    "start_time": "2024-02-09T12:55:03.532Z"
   },
   {
    "duration": 40,
    "start_time": "2024-02-09T12:55:03.543Z"
   },
   {
    "duration": 65,
    "start_time": "2024-02-09T12:55:03.585Z"
   },
   {
    "duration": 53,
    "start_time": "2024-02-09T12:55:03.651Z"
   },
   {
    "duration": 13,
    "start_time": "2024-02-09T12:55:03.705Z"
   },
   {
    "duration": 32,
    "start_time": "2024-02-09T12:55:03.720Z"
   },
   {
    "duration": 108,
    "start_time": "2024-02-09T12:55:03.754Z"
   },
   {
    "duration": 1,
    "start_time": "2024-02-09T12:55:03.863Z"
   },
   {
    "duration": 0,
    "start_time": "2024-02-09T12:55:03.865Z"
   },
   {
    "duration": 0,
    "start_time": "2024-02-09T12:55:03.866Z"
   },
   {
    "duration": 0,
    "start_time": "2024-02-09T12:55:03.867Z"
   },
   {
    "duration": 0,
    "start_time": "2024-02-09T12:55:03.868Z"
   },
   {
    "duration": 0,
    "start_time": "2024-02-09T12:55:03.869Z"
   },
   {
    "duration": 0,
    "start_time": "2024-02-09T12:55:03.870Z"
   },
   {
    "duration": 0,
    "start_time": "2024-02-09T12:55:03.871Z"
   },
   {
    "duration": 0,
    "start_time": "2024-02-09T12:55:03.872Z"
   },
   {
    "duration": 0,
    "start_time": "2024-02-09T12:55:03.873Z"
   },
   {
    "duration": 0,
    "start_time": "2024-02-09T12:55:03.873Z"
   },
   {
    "duration": 0,
    "start_time": "2024-02-09T12:55:03.874Z"
   },
   {
    "duration": 0,
    "start_time": "2024-02-09T12:55:03.875Z"
   },
   {
    "duration": 0,
    "start_time": "2024-02-09T12:55:03.876Z"
   },
   {
    "duration": 0,
    "start_time": "2024-02-09T12:55:03.877Z"
   },
   {
    "duration": 0,
    "start_time": "2024-02-09T12:55:03.878Z"
   },
   {
    "duration": 0,
    "start_time": "2024-02-09T12:55:03.879Z"
   },
   {
    "duration": 0,
    "start_time": "2024-02-09T12:55:03.880Z"
   },
   {
    "duration": 0,
    "start_time": "2024-02-09T12:55:03.881Z"
   },
   {
    "duration": 0,
    "start_time": "2024-02-09T12:55:03.882Z"
   },
   {
    "duration": 0,
    "start_time": "2024-02-09T12:55:03.883Z"
   },
   {
    "duration": 0,
    "start_time": "2024-02-09T12:55:03.884Z"
   },
   {
    "duration": 0,
    "start_time": "2024-02-09T12:55:03.884Z"
   },
   {
    "duration": 0,
    "start_time": "2024-02-09T12:55:03.886Z"
   },
   {
    "duration": 2166,
    "start_time": "2024-02-09T12:56:06.865Z"
   },
   {
    "duration": 903,
    "start_time": "2024-02-09T12:56:22.645Z"
   },
   {
    "duration": 5,
    "start_time": "2024-02-09T12:56:25.784Z"
   },
   {
    "duration": 110,
    "start_time": "2024-02-09T12:56:33.616Z"
   },
   {
    "duration": 275,
    "start_time": "2024-02-09T12:59:07.237Z"
   },
   {
    "duration": 15,
    "start_time": "2024-02-09T12:59:19.522Z"
   },
   {
    "duration": 298,
    "start_time": "2024-02-09T13:00:02.676Z"
   },
   {
    "duration": 352,
    "start_time": "2024-02-09T13:01:04.842Z"
   },
   {
    "duration": 348,
    "start_time": "2024-02-09T13:03:56.072Z"
   },
   {
    "duration": 16,
    "start_time": "2024-02-09T13:04:15.151Z"
   },
   {
    "duration": 27,
    "start_time": "2024-02-09T13:05:45.945Z"
   },
   {
    "duration": 19,
    "start_time": "2024-02-09T13:06:58.506Z"
   },
   {
    "duration": 10,
    "start_time": "2024-02-09T13:07:08.264Z"
   },
   {
    "duration": 1080,
    "start_time": "2024-02-09T13:14:27.384Z"
   },
   {
    "duration": 107,
    "start_time": "2024-02-09T13:14:37.464Z"
   },
   {
    "duration": 56,
    "start_time": "2024-02-09T13:15:38.303Z"
   },
   {
    "duration": 3530,
    "start_time": "2024-02-09T13:17:20.386Z"
   },
   {
    "duration": 1716,
    "start_time": "2024-02-09T13:17:23.918Z"
   },
   {
    "duration": 20,
    "start_time": "2024-02-09T13:17:25.636Z"
   },
   {
    "duration": 145,
    "start_time": "2024-02-09T13:17:25.658Z"
   },
   {
    "duration": 121,
    "start_time": "2024-02-09T13:17:25.804Z"
   },
   {
    "duration": 90,
    "start_time": "2024-02-09T13:17:25.926Z"
   },
   {
    "duration": 203,
    "start_time": "2024-02-09T13:17:26.017Z"
   },
   {
    "duration": 1145,
    "start_time": "2024-02-09T13:17:26.221Z"
   },
   {
    "duration": 20,
    "start_time": "2024-02-09T13:17:27.367Z"
   },
   {
    "duration": 20,
    "start_time": "2024-02-09T13:17:27.391Z"
   },
   {
    "duration": 39,
    "start_time": "2024-02-09T13:17:27.413Z"
   },
   {
    "duration": 35,
    "start_time": "2024-02-09T13:17:27.454Z"
   },
   {
    "duration": 49,
    "start_time": "2024-02-09T13:17:27.491Z"
   },
   {
    "duration": 31,
    "start_time": "2024-02-09T13:17:27.542Z"
   },
   {
    "duration": 426,
    "start_time": "2024-02-09T13:17:27.574Z"
   },
   {
    "duration": 432,
    "start_time": "2024-02-09T13:17:28.002Z"
   },
   {
    "duration": 53,
    "start_time": "2024-02-09T13:17:28.436Z"
   },
   {
    "duration": 33,
    "start_time": "2024-02-09T13:17:28.491Z"
   },
   {
    "duration": 4,
    "start_time": "2024-02-09T13:17:28.526Z"
   },
   {
    "duration": 46,
    "start_time": "2024-02-09T13:17:28.545Z"
   },
   {
    "duration": 14,
    "start_time": "2024-02-09T13:17:28.593Z"
   },
   {
    "duration": 40,
    "start_time": "2024-02-09T13:17:28.608Z"
   },
   {
    "duration": 52,
    "start_time": "2024-02-09T13:17:28.650Z"
   },
   {
    "duration": 43,
    "start_time": "2024-02-09T13:17:28.704Z"
   },
   {
    "duration": 33,
    "start_time": "2024-02-09T13:17:28.748Z"
   },
   {
    "duration": 17,
    "start_time": "2024-02-09T13:17:28.783Z"
   },
   {
    "duration": 79,
    "start_time": "2024-02-09T13:17:28.802Z"
   },
   {
    "duration": 10,
    "start_time": "2024-02-09T13:17:28.885Z"
   },
   {
    "duration": 110,
    "start_time": "2024-02-09T13:17:28.896Z"
   },
   {
    "duration": 114,
    "start_time": "2024-02-09T13:17:29.008Z"
   },
   {
    "duration": 4286,
    "start_time": "2024-02-09T13:17:29.124Z"
   },
   {
    "duration": 10,
    "start_time": "2024-02-09T13:17:33.411Z"
   },
   {
    "duration": 53,
    "start_time": "2024-02-09T13:17:33.422Z"
   },
   {
    "duration": 12,
    "start_time": "2024-02-09T13:17:33.477Z"
   },
   {
    "duration": 34,
    "start_time": "2024-02-09T13:17:33.491Z"
   },
   {
    "duration": 3,
    "start_time": "2024-02-09T13:17:33.526Z"
   },
   {
    "duration": 86,
    "start_time": "2024-02-09T13:17:33.531Z"
   },
   {
    "duration": 989,
    "start_time": "2024-02-09T13:17:33.618Z"
   },
   {
    "duration": 4,
    "start_time": "2024-02-09T13:17:34.609Z"
   },
   {
    "duration": 99,
    "start_time": "2024-02-09T13:17:34.615Z"
   },
   {
    "duration": 366,
    "start_time": "2024-02-09T13:17:34.715Z"
   },
   {
    "duration": 85,
    "start_time": "2024-02-09T13:17:35.083Z"
   },
   {
    "duration": 0,
    "start_time": "2024-02-09T13:17:35.169Z"
   },
   {
    "duration": 0,
    "start_time": "2024-02-09T13:17:35.170Z"
   },
   {
    "duration": 0,
    "start_time": "2024-02-09T13:17:35.171Z"
   },
   {
    "duration": 0,
    "start_time": "2024-02-09T13:17:35.173Z"
   },
   {
    "duration": 0,
    "start_time": "2024-02-09T13:17:35.174Z"
   },
   {
    "duration": 0,
    "start_time": "2024-02-09T13:17:35.175Z"
   },
   {
    "duration": 0,
    "start_time": "2024-02-09T13:17:35.176Z"
   },
   {
    "duration": 0,
    "start_time": "2024-02-09T13:17:35.177Z"
   },
   {
    "duration": 0,
    "start_time": "2024-02-09T13:17:35.179Z"
   },
   {
    "duration": 0,
    "start_time": "2024-02-09T13:17:35.180Z"
   },
   {
    "duration": 0,
    "start_time": "2024-02-09T13:17:35.181Z"
   },
   {
    "duration": 0,
    "start_time": "2024-02-09T13:17:35.182Z"
   },
   {
    "duration": 0,
    "start_time": "2024-02-09T13:17:35.183Z"
   },
   {
    "duration": 0,
    "start_time": "2024-02-09T13:17:35.184Z"
   },
   {
    "duration": 0,
    "start_time": "2024-02-09T13:17:35.186Z"
   },
   {
    "duration": 0,
    "start_time": "2024-02-09T13:17:35.187Z"
   },
   {
    "duration": 0,
    "start_time": "2024-02-09T13:17:35.188Z"
   },
   {
    "duration": 0,
    "start_time": "2024-02-09T13:17:35.190Z"
   },
   {
    "duration": 0,
    "start_time": "2024-02-09T13:17:35.191Z"
   },
   {
    "duration": 0,
    "start_time": "2024-02-09T13:17:35.192Z"
   },
   {
    "duration": 0,
    "start_time": "2024-02-09T13:17:35.193Z"
   },
   {
    "duration": 0,
    "start_time": "2024-02-09T13:17:35.194Z"
   },
   {
    "duration": 17,
    "start_time": "2024-02-09T13:18:03.594Z"
   },
   {
    "duration": 1072,
    "start_time": "2024-02-09T13:18:04.714Z"
   },
   {
    "duration": 51,
    "start_time": "2024-02-09T13:18:06.192Z"
   },
   {
    "duration": 3567,
    "start_time": "2024-02-09T13:23:47.366Z"
   },
   {
    "duration": 1514,
    "start_time": "2024-02-09T13:23:50.936Z"
   },
   {
    "duration": 16,
    "start_time": "2024-02-09T13:23:52.452Z"
   },
   {
    "duration": 153,
    "start_time": "2024-02-09T13:23:52.470Z"
   },
   {
    "duration": 137,
    "start_time": "2024-02-09T13:23:52.624Z"
   },
   {
    "duration": 105,
    "start_time": "2024-02-09T13:23:52.763Z"
   },
   {
    "duration": 208,
    "start_time": "2024-02-09T13:23:52.869Z"
   },
   {
    "duration": 1172,
    "start_time": "2024-02-09T13:23:53.079Z"
   },
   {
    "duration": 21,
    "start_time": "2024-02-09T13:23:54.253Z"
   },
   {
    "duration": 23,
    "start_time": "2024-02-09T13:23:54.276Z"
   },
   {
    "duration": 27,
    "start_time": "2024-02-09T13:23:54.301Z"
   },
   {
    "duration": 31,
    "start_time": "2024-02-09T13:23:54.330Z"
   },
   {
    "duration": 24,
    "start_time": "2024-02-09T13:23:54.363Z"
   },
   {
    "duration": 20,
    "start_time": "2024-02-09T13:23:54.389Z"
   },
   {
    "duration": 417,
    "start_time": "2024-02-09T13:23:54.411Z"
   },
   {
    "duration": 410,
    "start_time": "2024-02-09T13:23:54.830Z"
   },
   {
    "duration": 45,
    "start_time": "2024-02-09T13:23:55.241Z"
   },
   {
    "duration": 34,
    "start_time": "2024-02-09T13:23:55.287Z"
   },
   {
    "duration": 24,
    "start_time": "2024-02-09T13:23:55.323Z"
   },
   {
    "duration": 38,
    "start_time": "2024-02-09T13:23:55.348Z"
   },
   {
    "duration": 14,
    "start_time": "2024-02-09T13:23:55.387Z"
   },
   {
    "duration": 55,
    "start_time": "2024-02-09T13:23:55.402Z"
   },
   {
    "duration": 44,
    "start_time": "2024-02-09T13:23:55.459Z"
   },
   {
    "duration": 43,
    "start_time": "2024-02-09T13:23:55.505Z"
   },
   {
    "duration": 46,
    "start_time": "2024-02-09T13:23:55.549Z"
   },
   {
    "duration": 18,
    "start_time": "2024-02-09T13:23:55.596Z"
   },
   {
    "duration": 69,
    "start_time": "2024-02-09T13:23:55.616Z"
   },
   {
    "duration": 27,
    "start_time": "2024-02-09T13:23:55.689Z"
   },
   {
    "duration": 117,
    "start_time": "2024-02-09T13:23:55.717Z"
   },
   {
    "duration": 114,
    "start_time": "2024-02-09T13:23:55.835Z"
   },
   {
    "duration": 4376,
    "start_time": "2024-02-09T13:23:55.950Z"
   },
   {
    "duration": 9,
    "start_time": "2024-02-09T13:24:00.328Z"
   },
   {
    "duration": 51,
    "start_time": "2024-02-09T13:24:00.338Z"
   },
   {
    "duration": 34,
    "start_time": "2024-02-09T13:24:00.390Z"
   },
   {
    "duration": 137,
    "start_time": "2024-02-09T13:24:00.425Z"
   },
   {
    "duration": 29,
    "start_time": "2024-02-09T13:24:00.563Z"
   },
   {
    "duration": 33,
    "start_time": "2024-02-09T13:24:00.594Z"
   },
   {
    "duration": 940,
    "start_time": "2024-02-09T13:24:00.628Z"
   },
   {
    "duration": 3,
    "start_time": "2024-02-09T13:24:01.570Z"
   },
   {
    "duration": 156,
    "start_time": "2024-02-09T13:24:01.575Z"
   },
   {
    "duration": 388,
    "start_time": "2024-02-09T13:24:01.733Z"
   },
   {
    "duration": 2,
    "start_time": "2024-02-09T13:24:02.122Z"
   },
   {
    "duration": 62,
    "start_time": "2024-02-09T13:24:02.126Z"
   },
   {
    "duration": 64,
    "start_time": "2024-02-09T13:24:02.190Z"
   },
   {
    "duration": 120,
    "start_time": "2024-02-09T13:24:02.255Z"
   },
   {
    "duration": 219,
    "start_time": "2024-02-09T13:24:02.377Z"
   },
   {
    "duration": 0,
    "start_time": "2024-02-09T13:24:02.597Z"
   },
   {
    "duration": 0,
    "start_time": "2024-02-09T13:24:02.598Z"
   },
   {
    "duration": 0,
    "start_time": "2024-02-09T13:24:02.599Z"
   },
   {
    "duration": 0,
    "start_time": "2024-02-09T13:24:02.601Z"
   },
   {
    "duration": 0,
    "start_time": "2024-02-09T13:24:02.602Z"
   },
   {
    "duration": 0,
    "start_time": "2024-02-09T13:24:02.603Z"
   },
   {
    "duration": 0,
    "start_time": "2024-02-09T13:24:02.604Z"
   },
   {
    "duration": 0,
    "start_time": "2024-02-09T13:24:02.605Z"
   },
   {
    "duration": 0,
    "start_time": "2024-02-09T13:24:02.606Z"
   },
   {
    "duration": 0,
    "start_time": "2024-02-09T13:24:02.607Z"
   },
   {
    "duration": 0,
    "start_time": "2024-02-09T13:24:02.608Z"
   },
   {
    "duration": 0,
    "start_time": "2024-02-09T13:24:02.610Z"
   },
   {
    "duration": 0,
    "start_time": "2024-02-09T13:24:02.611Z"
   },
   {
    "duration": 0,
    "start_time": "2024-02-09T13:24:02.613Z"
   },
   {
    "duration": 0,
    "start_time": "2024-02-09T13:24:02.613Z"
   },
   {
    "duration": 0,
    "start_time": "2024-02-09T13:24:02.614Z"
   },
   {
    "duration": 0,
    "start_time": "2024-02-09T13:24:02.615Z"
   },
   {
    "duration": 0,
    "start_time": "2024-02-09T13:24:02.645Z"
   },
   {
    "duration": 0,
    "start_time": "2024-02-09T13:24:02.646Z"
   },
   {
    "duration": 0,
    "start_time": "2024-02-09T13:24:02.647Z"
   },
   {
    "duration": 0,
    "start_time": "2024-02-09T13:24:02.648Z"
   },
   {
    "duration": 959,
    "start_time": "2024-02-09T13:24:56.206Z"
   },
   {
    "duration": 36,
    "start_time": "2024-02-09T13:24:57.922Z"
   },
   {
    "duration": 271,
    "start_time": "2024-02-09T13:31:14.316Z"
   },
   {
    "duration": 3,
    "start_time": "2024-02-09T13:31:15.583Z"
   },
   {
    "duration": 21,
    "start_time": "2024-02-09T13:31:44.423Z"
   },
   {
    "duration": 3642,
    "start_time": "2024-02-09T13:34:44.495Z"
   },
   {
    "duration": 1538,
    "start_time": "2024-02-09T13:34:48.138Z"
   },
   {
    "duration": 15,
    "start_time": "2024-02-09T13:34:49.677Z"
   },
   {
    "duration": 153,
    "start_time": "2024-02-09T13:34:49.693Z"
   },
   {
    "duration": 132,
    "start_time": "2024-02-09T13:34:49.848Z"
   },
   {
    "duration": 83,
    "start_time": "2024-02-09T13:34:49.982Z"
   },
   {
    "duration": 203,
    "start_time": "2024-02-09T13:34:50.067Z"
   },
   {
    "duration": 1154,
    "start_time": "2024-02-09T13:34:50.271Z"
   },
   {
    "duration": 24,
    "start_time": "2024-02-09T13:34:51.426Z"
   },
   {
    "duration": 77,
    "start_time": "2024-02-09T13:34:51.452Z"
   },
   {
    "duration": 64,
    "start_time": "2024-02-09T13:34:51.530Z"
   },
   {
    "duration": 58,
    "start_time": "2024-02-09T13:34:51.596Z"
   },
   {
    "duration": 43,
    "start_time": "2024-02-09T13:34:51.656Z"
   },
   {
    "duration": 49,
    "start_time": "2024-02-09T13:34:51.701Z"
   },
   {
    "duration": 399,
    "start_time": "2024-02-09T13:34:51.751Z"
   },
   {
    "duration": 417,
    "start_time": "2024-02-09T13:34:52.151Z"
   },
   {
    "duration": 44,
    "start_time": "2024-02-09T13:34:52.569Z"
   },
   {
    "duration": 46,
    "start_time": "2024-02-09T13:34:52.614Z"
   },
   {
    "duration": 4,
    "start_time": "2024-02-09T13:34:52.661Z"
   },
   {
    "duration": 46,
    "start_time": "2024-02-09T13:34:52.666Z"
   },
   {
    "duration": 15,
    "start_time": "2024-02-09T13:34:52.714Z"
   },
   {
    "duration": 40,
    "start_time": "2024-02-09T13:34:52.731Z"
   },
   {
    "duration": 54,
    "start_time": "2024-02-09T13:34:52.773Z"
   },
   {
    "duration": 44,
    "start_time": "2024-02-09T13:34:52.828Z"
   },
   {
    "duration": 44,
    "start_time": "2024-02-09T13:34:52.873Z"
   },
   {
    "duration": 17,
    "start_time": "2024-02-09T13:34:52.919Z"
   },
   {
    "duration": 63,
    "start_time": "2024-02-09T13:34:52.938Z"
   },
   {
    "duration": 21,
    "start_time": "2024-02-09T13:34:53.004Z"
   },
   {
    "duration": 109,
    "start_time": "2024-02-09T13:34:53.026Z"
   },
   {
    "duration": 114,
    "start_time": "2024-02-09T13:34:53.136Z"
   },
   {
    "duration": 4266,
    "start_time": "2024-02-09T13:34:53.252Z"
   },
   {
    "duration": 10,
    "start_time": "2024-02-09T13:34:57.519Z"
   },
   {
    "duration": 12,
    "start_time": "2024-02-09T13:34:57.531Z"
   },
   {
    "duration": 12,
    "start_time": "2024-02-09T13:34:57.544Z"
   },
   {
    "duration": 35,
    "start_time": "2024-02-09T13:34:57.557Z"
   },
   {
    "duration": 4,
    "start_time": "2024-02-09T13:34:57.593Z"
   },
   {
    "duration": 26,
    "start_time": "2024-02-09T13:34:57.598Z"
   },
   {
    "duration": 941,
    "start_time": "2024-02-09T13:34:57.625Z"
   },
   {
    "duration": 3,
    "start_time": "2024-02-09T13:34:58.568Z"
   },
   {
    "duration": 36,
    "start_time": "2024-02-09T13:34:58.572Z"
   },
   {
    "duration": 292,
    "start_time": "2024-02-09T13:34:58.610Z"
   },
   {
    "duration": 109,
    "start_time": "2024-02-09T13:34:58.904Z"
   },
   {
    "duration": 0,
    "start_time": "2024-02-09T13:34:59.014Z"
   },
   {
    "duration": 0,
    "start_time": "2024-02-09T13:34:59.015Z"
   },
   {
    "duration": 0,
    "start_time": "2024-02-09T13:34:59.016Z"
   },
   {
    "duration": 0,
    "start_time": "2024-02-09T13:34:59.017Z"
   },
   {
    "duration": 0,
    "start_time": "2024-02-09T13:34:59.018Z"
   },
   {
    "duration": 0,
    "start_time": "2024-02-09T13:34:59.019Z"
   },
   {
    "duration": 0,
    "start_time": "2024-02-09T13:34:59.020Z"
   },
   {
    "duration": 0,
    "start_time": "2024-02-09T13:34:59.021Z"
   },
   {
    "duration": 0,
    "start_time": "2024-02-09T13:34:59.022Z"
   },
   {
    "duration": 0,
    "start_time": "2024-02-09T13:34:59.023Z"
   },
   {
    "duration": 0,
    "start_time": "2024-02-09T13:34:59.024Z"
   },
   {
    "duration": 0,
    "start_time": "2024-02-09T13:34:59.025Z"
   },
   {
    "duration": 0,
    "start_time": "2024-02-09T13:34:59.045Z"
   },
   {
    "duration": 0,
    "start_time": "2024-02-09T13:34:59.046Z"
   },
   {
    "duration": 0,
    "start_time": "2024-02-09T13:34:59.047Z"
   },
   {
    "duration": 0,
    "start_time": "2024-02-09T13:34:59.048Z"
   },
   {
    "duration": 0,
    "start_time": "2024-02-09T13:34:59.049Z"
   },
   {
    "duration": 0,
    "start_time": "2024-02-09T13:34:59.050Z"
   },
   {
    "duration": 0,
    "start_time": "2024-02-09T13:34:59.051Z"
   },
   {
    "duration": 0,
    "start_time": "2024-02-09T13:34:59.052Z"
   },
   {
    "duration": 0,
    "start_time": "2024-02-09T13:34:59.053Z"
   },
   {
    "duration": 0,
    "start_time": "2024-02-09T13:34:59.054Z"
   },
   {
    "duration": 0,
    "start_time": "2024-02-09T13:34:59.055Z"
   },
   {
    "duration": 0,
    "start_time": "2024-02-09T13:34:59.056Z"
   },
   {
    "duration": 0,
    "start_time": "2024-02-09T13:34:59.057Z"
   },
   {
    "duration": 1,
    "start_time": "2024-02-09T13:34:59.058Z"
   },
   {
    "duration": 0,
    "start_time": "2024-02-09T13:34:59.060Z"
   },
   {
    "duration": 3,
    "start_time": "2024-02-09T13:35:22.143Z"
   },
   {
    "duration": 18,
    "start_time": "2024-02-09T13:35:26.084Z"
   },
   {
    "duration": 3,
    "start_time": "2024-02-09T13:35:26.505Z"
   },
   {
    "duration": 958,
    "start_time": "2024-02-09T13:35:28.273Z"
   },
   {
    "duration": 21,
    "start_time": "2024-02-09T13:35:30.504Z"
   },
   {
    "duration": 19,
    "start_time": "2024-02-09T13:35:31.374Z"
   },
   {
    "duration": 12,
    "start_time": "2024-02-09T13:35:31.733Z"
   },
   {
    "duration": 41,
    "start_time": "2024-02-09T13:35:56.355Z"
   },
   {
    "duration": 16,
    "start_time": "2024-02-09T13:36:01.913Z"
   },
   {
    "duration": 22,
    "start_time": "2024-02-09T13:36:44.613Z"
   },
   {
    "duration": 19,
    "start_time": "2024-02-09T13:36:51.024Z"
   },
   {
    "duration": 11,
    "start_time": "2024-02-09T13:36:57.973Z"
   },
   {
    "duration": 3,
    "start_time": "2024-02-09T13:37:19.974Z"
   },
   {
    "duration": 48584,
    "start_time": "2024-02-09T13:37:53.263Z"
   },
   {
    "duration": 56188,
    "start_time": "2024-02-09T13:39:38.369Z"
   },
   {
    "duration": 2,
    "start_time": "2024-02-09T13:40:56.368Z"
   },
   {
    "duration": 49179,
    "start_time": "2024-02-09T13:40:59.368Z"
   },
   {
    "duration": 47125,
    "start_time": "2024-02-09T13:42:46.335Z"
   },
   {
    "duration": 4,
    "start_time": "2024-02-09T13:47:14.926Z"
   },
   {
    "duration": 92,
    "start_time": "2024-02-09T13:50:09.607Z"
   },
   {
    "duration": 11,
    "start_time": "2024-02-09T13:50:10.446Z"
   },
   {
    "duration": 3629,
    "start_time": "2024-02-09T13:50:33.511Z"
   },
   {
    "duration": 1690,
    "start_time": "2024-02-09T13:50:37.142Z"
   },
   {
    "duration": 19,
    "start_time": "2024-02-09T13:50:38.833Z"
   },
   {
    "duration": 136,
    "start_time": "2024-02-09T13:50:38.853Z"
   },
   {
    "duration": 124,
    "start_time": "2024-02-09T13:50:38.990Z"
   },
   {
    "duration": 88,
    "start_time": "2024-02-09T13:50:39.116Z"
   },
   {
    "duration": 202,
    "start_time": "2024-02-09T13:50:39.205Z"
   },
   {
    "duration": 1128,
    "start_time": "2024-02-09T13:50:39.408Z"
   },
   {
    "duration": 20,
    "start_time": "2024-02-09T13:50:40.538Z"
   },
   {
    "duration": 51,
    "start_time": "2024-02-09T13:50:40.561Z"
   },
   {
    "duration": 42,
    "start_time": "2024-02-09T13:50:40.614Z"
   },
   {
    "duration": 28,
    "start_time": "2024-02-09T13:50:40.657Z"
   },
   {
    "duration": 24,
    "start_time": "2024-02-09T13:50:40.686Z"
   },
   {
    "duration": 30,
    "start_time": "2024-02-09T13:50:40.712Z"
   },
   {
    "duration": 398,
    "start_time": "2024-02-09T13:50:40.743Z"
   },
   {
    "duration": 413,
    "start_time": "2024-02-09T13:50:41.144Z"
   },
   {
    "duration": 46,
    "start_time": "2024-02-09T13:50:41.559Z"
   },
   {
    "duration": 40,
    "start_time": "2024-02-09T13:50:41.607Z"
   },
   {
    "duration": 4,
    "start_time": "2024-02-09T13:50:41.648Z"
   },
   {
    "duration": 78,
    "start_time": "2024-02-09T13:50:41.653Z"
   },
   {
    "duration": 14,
    "start_time": "2024-02-09T13:50:41.733Z"
   },
   {
    "duration": 43,
    "start_time": "2024-02-09T13:50:41.749Z"
   },
   {
    "duration": 43,
    "start_time": "2024-02-09T13:50:41.793Z"
   },
   {
    "duration": 54,
    "start_time": "2024-02-09T13:50:41.838Z"
   },
   {
    "duration": 34,
    "start_time": "2024-02-09T13:50:41.894Z"
   },
   {
    "duration": 21,
    "start_time": "2024-02-09T13:50:41.929Z"
   },
   {
    "duration": 65,
    "start_time": "2024-02-09T13:50:41.952Z"
   },
   {
    "duration": 11,
    "start_time": "2024-02-09T13:50:42.020Z"
   },
   {
    "duration": 114,
    "start_time": "2024-02-09T13:50:42.045Z"
   },
   {
    "duration": 125,
    "start_time": "2024-02-09T13:50:42.161Z"
   },
   {
    "duration": 4298,
    "start_time": "2024-02-09T13:50:42.288Z"
   },
   {
    "duration": 10,
    "start_time": "2024-02-09T13:50:46.587Z"
   },
   {
    "duration": 29,
    "start_time": "2024-02-09T13:50:46.598Z"
   },
   {
    "duration": 18,
    "start_time": "2024-02-09T13:50:46.628Z"
   },
   {
    "duration": 45,
    "start_time": "2024-02-09T13:50:46.647Z"
   },
   {
    "duration": 3,
    "start_time": "2024-02-09T13:50:46.693Z"
   },
   {
    "duration": 4,
    "start_time": "2024-02-09T13:50:46.697Z"
   },
   {
    "duration": 953,
    "start_time": "2024-02-09T13:50:46.702Z"
   },
   {
    "duration": 4,
    "start_time": "2024-02-09T13:50:47.657Z"
   },
   {
    "duration": 159,
    "start_time": "2024-02-09T13:50:47.662Z"
   },
   {
    "duration": 306,
    "start_time": "2024-02-09T13:50:47.823Z"
   },
   {
    "duration": 4,
    "start_time": "2024-02-09T13:50:48.130Z"
   },
   {
    "duration": 10,
    "start_time": "2024-02-09T13:50:48.136Z"
   },
   {
    "duration": 5,
    "start_time": "2024-02-09T13:50:48.147Z"
   },
   {
    "duration": 21,
    "start_time": "2024-02-09T13:50:48.154Z"
   },
   {
    "duration": 4,
    "start_time": "2024-02-09T13:50:48.176Z"
   },
   {
    "duration": 21,
    "start_time": "2024-02-09T13:50:48.181Z"
   },
   {
    "duration": 927,
    "start_time": "2024-02-09T13:50:48.203Z"
   },
   {
    "duration": 22,
    "start_time": "2024-02-09T13:50:49.131Z"
   },
   {
    "duration": 99,
    "start_time": "2024-02-09T13:50:49.155Z"
   },
   {
    "duration": 10,
    "start_time": "2024-02-09T13:50:49.256Z"
   },
   {
    "duration": 6,
    "start_time": "2024-02-09T13:50:49.267Z"
   },
   {
    "duration": 106,
    "start_time": "2024-02-09T13:50:49.274Z"
   },
   {
    "duration": 0,
    "start_time": "2024-02-09T13:50:49.382Z"
   },
   {
    "duration": 0,
    "start_time": "2024-02-09T13:50:49.383Z"
   },
   {
    "duration": 0,
    "start_time": "2024-02-09T13:50:49.385Z"
   },
   {
    "duration": 0,
    "start_time": "2024-02-09T13:50:49.386Z"
   },
   {
    "duration": 0,
    "start_time": "2024-02-09T13:50:49.387Z"
   },
   {
    "duration": 0,
    "start_time": "2024-02-09T13:50:49.388Z"
   },
   {
    "duration": 0,
    "start_time": "2024-02-09T13:50:49.389Z"
   },
   {
    "duration": 0,
    "start_time": "2024-02-09T13:50:49.391Z"
   },
   {
    "duration": 0,
    "start_time": "2024-02-09T13:50:49.392Z"
   },
   {
    "duration": 0,
    "start_time": "2024-02-09T13:50:49.393Z"
   },
   {
    "duration": 0,
    "start_time": "2024-02-09T13:50:49.394Z"
   },
   {
    "duration": 0,
    "start_time": "2024-02-09T13:50:49.395Z"
   },
   {
    "duration": 0,
    "start_time": "2024-02-09T13:50:49.396Z"
   },
   {
    "duration": 0,
    "start_time": "2024-02-09T13:50:49.398Z"
   },
   {
    "duration": 0,
    "start_time": "2024-02-09T13:50:49.398Z"
   },
   {
    "duration": 0,
    "start_time": "2024-02-09T13:50:49.400Z"
   },
   {
    "duration": 11,
    "start_time": "2024-02-09T13:51:09.207Z"
   },
   {
    "duration": 66,
    "start_time": "2024-02-09T13:51:50.819Z"
   },
   {
    "duration": 12,
    "start_time": "2024-02-09T13:51:51.766Z"
   },
   {
    "duration": 16,
    "start_time": "2024-02-09T13:51:58.289Z"
   },
   {
    "duration": 12,
    "start_time": "2024-02-09T13:53:09.567Z"
   },
   {
    "duration": 11,
    "start_time": "2024-02-09T13:53:19.447Z"
   },
   {
    "duration": 27,
    "start_time": "2024-02-09T13:56:30.930Z"
   },
   {
    "duration": 53,
    "start_time": "2024-02-09T13:56:50.728Z"
   },
   {
    "duration": 12,
    "start_time": "2024-02-09T13:56:51.685Z"
   },
   {
    "duration": 12,
    "start_time": "2024-02-09T13:58:28.726Z"
   },
   {
    "duration": 30,
    "start_time": "2024-02-09T13:59:05.246Z"
   },
   {
    "duration": 27,
    "start_time": "2024-02-09T13:59:40.447Z"
   },
   {
    "duration": 30,
    "start_time": "2024-02-09T13:59:59.269Z"
   },
   {
    "duration": 11,
    "start_time": "2024-02-09T14:00:00.565Z"
   },
   {
    "duration": 50823,
    "start_time": "2024-02-09T14:00:50.131Z"
   },
   {
    "duration": 3561,
    "start_time": "2024-02-09T14:03:54.279Z"
   },
   {
    "duration": 1546,
    "start_time": "2024-02-09T14:03:57.842Z"
   },
   {
    "duration": 15,
    "start_time": "2024-02-09T14:03:59.389Z"
   },
   {
    "duration": 155,
    "start_time": "2024-02-09T14:03:59.405Z"
   },
   {
    "duration": 124,
    "start_time": "2024-02-09T14:03:59.561Z"
   },
   {
    "duration": 122,
    "start_time": "2024-02-09T14:03:59.687Z"
   },
   {
    "duration": 204,
    "start_time": "2024-02-09T14:03:59.810Z"
   },
   {
    "duration": 1143,
    "start_time": "2024-02-09T14:04:00.015Z"
   },
   {
    "duration": 19,
    "start_time": "2024-02-09T14:04:01.160Z"
   },
   {
    "duration": 52,
    "start_time": "2024-02-09T14:04:01.181Z"
   },
   {
    "duration": 48,
    "start_time": "2024-02-09T14:04:01.234Z"
   },
   {
    "duration": 54,
    "start_time": "2024-02-09T14:04:01.283Z"
   },
   {
    "duration": 54,
    "start_time": "2024-02-09T14:04:01.338Z"
   },
   {
    "duration": 71,
    "start_time": "2024-02-09T14:04:01.393Z"
   },
   {
    "duration": 446,
    "start_time": "2024-02-09T14:04:01.465Z"
   },
   {
    "duration": 428,
    "start_time": "2024-02-09T14:04:01.913Z"
   },
   {
    "duration": 47,
    "start_time": "2024-02-09T14:04:02.342Z"
   },
   {
    "duration": 43,
    "start_time": "2024-02-09T14:04:02.391Z"
   },
   {
    "duration": 43,
    "start_time": "2024-02-09T14:04:02.435Z"
   },
   {
    "duration": 128,
    "start_time": "2024-02-09T14:04:02.480Z"
   },
   {
    "duration": 36,
    "start_time": "2024-02-09T14:04:02.609Z"
   },
   {
    "duration": 43,
    "start_time": "2024-02-09T14:04:02.646Z"
   },
   {
    "duration": 69,
    "start_time": "2024-02-09T14:04:02.691Z"
   },
   {
    "duration": 83,
    "start_time": "2024-02-09T14:04:02.761Z"
   },
   {
    "duration": 81,
    "start_time": "2024-02-09T14:04:02.845Z"
   },
   {
    "duration": 36,
    "start_time": "2024-02-09T14:04:02.927Z"
   },
   {
    "duration": 310,
    "start_time": "2024-02-09T14:04:02.964Z"
   },
   {
    "duration": 202,
    "start_time": "2024-02-09T14:04:03.278Z"
   },
   {
    "duration": 174,
    "start_time": "2024-02-09T14:04:03.481Z"
   },
   {
    "duration": 106,
    "start_time": "2024-02-09T14:04:03.657Z"
   },
   {
    "duration": 4281,
    "start_time": "2024-02-09T14:04:03.765Z"
   },
   {
    "duration": 10,
    "start_time": "2024-02-09T14:04:08.047Z"
   },
   {
    "duration": 26,
    "start_time": "2024-02-09T14:04:08.059Z"
   },
   {
    "duration": 22,
    "start_time": "2024-02-09T14:04:08.086Z"
   },
   {
    "duration": 67,
    "start_time": "2024-02-09T14:04:08.109Z"
   },
   {
    "duration": 3,
    "start_time": "2024-02-09T14:04:08.177Z"
   },
   {
    "duration": 16,
    "start_time": "2024-02-09T14:04:08.182Z"
   },
   {
    "duration": 956,
    "start_time": "2024-02-09T14:04:08.200Z"
   },
   {
    "duration": 3,
    "start_time": "2024-02-09T14:04:09.158Z"
   },
   {
    "duration": 15,
    "start_time": "2024-02-09T14:04:09.163Z"
   },
   {
    "duration": 300,
    "start_time": "2024-02-09T14:04:09.179Z"
   },
   {
    "duration": 3,
    "start_time": "2024-02-09T14:04:09.481Z"
   },
   {
    "duration": 12,
    "start_time": "2024-02-09T14:04:09.485Z"
   },
   {
    "duration": 7,
    "start_time": "2024-02-09T14:04:09.498Z"
   },
   {
    "duration": 23,
    "start_time": "2024-02-09T14:04:09.506Z"
   },
   {
    "duration": 3,
    "start_time": "2024-02-09T14:04:09.530Z"
   },
   {
    "duration": 15,
    "start_time": "2024-02-09T14:04:09.534Z"
   },
   {
    "duration": 995,
    "start_time": "2024-02-09T14:04:09.550Z"
   },
   {
    "duration": 21,
    "start_time": "2024-02-09T14:04:10.546Z"
   },
   {
    "duration": 18,
    "start_time": "2024-02-09T14:04:10.569Z"
   },
   {
    "duration": 8,
    "start_time": "2024-02-09T14:04:10.588Z"
   },
   {
    "duration": 15,
    "start_time": "2024-02-09T14:04:10.597Z"
   },
   {
    "duration": 116,
    "start_time": "2024-02-09T14:04:10.613Z"
   },
   {
    "duration": 0,
    "start_time": "2024-02-09T14:04:10.730Z"
   },
   {
    "duration": 0,
    "start_time": "2024-02-09T14:04:10.731Z"
   },
   {
    "duration": 0,
    "start_time": "2024-02-09T14:04:10.732Z"
   },
   {
    "duration": 0,
    "start_time": "2024-02-09T14:04:10.733Z"
   },
   {
    "duration": 0,
    "start_time": "2024-02-09T14:04:10.734Z"
   },
   {
    "duration": 0,
    "start_time": "2024-02-09T14:04:10.735Z"
   },
   {
    "duration": 0,
    "start_time": "2024-02-09T14:04:10.736Z"
   },
   {
    "duration": 0,
    "start_time": "2024-02-09T14:04:10.745Z"
   },
   {
    "duration": 0,
    "start_time": "2024-02-09T14:04:10.746Z"
   },
   {
    "duration": 0,
    "start_time": "2024-02-09T14:04:10.746Z"
   },
   {
    "duration": 0,
    "start_time": "2024-02-09T14:04:10.747Z"
   },
   {
    "duration": 0,
    "start_time": "2024-02-09T14:04:10.748Z"
   },
   {
    "duration": 0,
    "start_time": "2024-02-09T14:04:10.749Z"
   },
   {
    "duration": 0,
    "start_time": "2024-02-09T14:04:10.750Z"
   },
   {
    "duration": 0,
    "start_time": "2024-02-09T14:04:10.751Z"
   },
   {
    "duration": 0,
    "start_time": "2024-02-09T14:04:10.752Z"
   },
   {
    "duration": 52222,
    "start_time": "2024-02-09T14:12:10.124Z"
   },
   {
    "duration": 91,
    "start_time": "2024-02-09T14:16:17.455Z"
   },
   {
    "duration": 51506,
    "start_time": "2024-02-09T14:16:17.547Z"
   },
   {
    "duration": 11645,
    "start_time": "2024-02-09T14:26:19.200Z"
   },
   {
    "duration": 299,
    "start_time": "2024-02-09T14:26:30.847Z"
   },
   {
    "duration": 6293,
    "start_time": "2024-02-09T14:27:50.253Z"
   },
   {
    "duration": 67436,
    "start_time": "2024-02-09T14:28:32.881Z"
   },
   {
    "duration": 310,
    "start_time": "2024-02-09T14:29:46.996Z"
   },
   {
    "duration": 24,
    "start_time": "2024-02-09T14:29:47.577Z"
   },
   {
    "duration": 145173,
    "start_time": "2024-02-09T14:30:21.377Z"
   },
   {
    "duration": 4812,
    "start_time": "2024-02-09T14:32:46.551Z"
   },
   {
    "duration": 917,
    "start_time": "2024-02-09T14:32:51.444Z"
   },
   {
    "duration": 316894,
    "start_time": "2024-02-09T14:33:11.679Z"
   },
   {
    "duration": 18112,
    "start_time": "2024-02-09T14:38:28.575Z"
   },
   {
    "duration": 144,
    "start_time": "2024-02-09T14:38:46.688Z"
   },
   {
    "duration": 14,
    "start_time": "2024-02-09T14:41:40.861Z"
   },
   {
    "duration": 304,
    "start_time": "2024-02-09T14:41:47.224Z"
   },
   {
    "duration": 14,
    "start_time": "2024-02-09T14:41:49.192Z"
   },
   {
    "duration": 8,
    "start_time": "2024-02-09T14:42:25.164Z"
   },
   {
    "duration": 2197,
    "start_time": "2024-02-09T14:43:41.288Z"
   },
   {
    "duration": 14,
    "start_time": "2024-02-09T14:44:12.147Z"
   },
   {
    "duration": 4,
    "start_time": "2024-02-09T14:44:37.377Z"
   },
   {
    "duration": 5,
    "start_time": "2024-02-09T14:45:03.078Z"
   },
   {
    "duration": 3500,
    "start_time": "2024-02-09T14:46:36.788Z"
   },
   {
    "duration": 1780,
    "start_time": "2024-02-09T14:46:40.290Z"
   },
   {
    "duration": 14,
    "start_time": "2024-02-09T14:46:42.072Z"
   },
   {
    "duration": 149,
    "start_time": "2024-02-09T14:46:42.087Z"
   },
   {
    "duration": 134,
    "start_time": "2024-02-09T14:46:42.238Z"
   },
   {
    "duration": 94,
    "start_time": "2024-02-09T14:46:42.373Z"
   },
   {
    "duration": 205,
    "start_time": "2024-02-09T14:46:42.468Z"
   },
   {
    "duration": 1168,
    "start_time": "2024-02-09T14:46:42.674Z"
   },
   {
    "duration": 20,
    "start_time": "2024-02-09T14:46:43.844Z"
   },
   {
    "duration": 37,
    "start_time": "2024-02-09T14:46:43.865Z"
   },
   {
    "duration": 29,
    "start_time": "2024-02-09T14:46:43.903Z"
   },
   {
    "duration": 35,
    "start_time": "2024-02-09T14:46:43.933Z"
   },
   {
    "duration": 23,
    "start_time": "2024-02-09T14:46:43.969Z"
   },
   {
    "duration": 19,
    "start_time": "2024-02-09T14:46:43.994Z"
   },
   {
    "duration": 392,
    "start_time": "2024-02-09T14:46:44.015Z"
   },
   {
    "duration": 439,
    "start_time": "2024-02-09T14:46:44.409Z"
   },
   {
    "duration": 45,
    "start_time": "2024-02-09T14:46:44.850Z"
   },
   {
    "duration": 48,
    "start_time": "2024-02-09T14:46:44.897Z"
   },
   {
    "duration": 5,
    "start_time": "2024-02-09T14:46:44.946Z"
   },
   {
    "duration": 39,
    "start_time": "2024-02-09T14:46:44.952Z"
   },
   {
    "duration": 15,
    "start_time": "2024-02-09T14:46:44.992Z"
   },
   {
    "duration": 52,
    "start_time": "2024-02-09T14:46:45.009Z"
   },
   {
    "duration": 55,
    "start_time": "2024-02-09T14:46:45.063Z"
   },
   {
    "duration": 52,
    "start_time": "2024-02-09T14:46:45.120Z"
   },
   {
    "duration": 56,
    "start_time": "2024-02-09T14:46:45.174Z"
   },
   {
    "duration": 17,
    "start_time": "2024-02-09T14:46:45.231Z"
   },
   {
    "duration": 89,
    "start_time": "2024-02-09T14:46:45.250Z"
   },
   {
    "duration": 14,
    "start_time": "2024-02-09T14:46:45.341Z"
   },
   {
    "duration": 115,
    "start_time": "2024-02-09T14:46:45.356Z"
   },
   {
    "duration": 118,
    "start_time": "2024-02-09T14:46:45.473Z"
   },
   {
    "duration": 4342,
    "start_time": "2024-02-09T14:46:45.592Z"
   },
   {
    "duration": 10,
    "start_time": "2024-02-09T14:46:49.936Z"
   },
   {
    "duration": 21,
    "start_time": "2024-02-09T14:46:49.947Z"
   },
   {
    "duration": 11,
    "start_time": "2024-02-09T14:46:49.970Z"
   },
   {
    "duration": 34,
    "start_time": "2024-02-09T14:46:49.983Z"
   },
   {
    "duration": 3,
    "start_time": "2024-02-09T14:46:50.018Z"
   },
   {
    "duration": 962,
    "start_time": "2024-02-09T14:46:50.023Z"
   },
   {
    "duration": 3,
    "start_time": "2024-02-09T14:46:50.987Z"
   },
   {
    "duration": 294,
    "start_time": "2024-02-09T14:46:50.992Z"
   },
   {
    "duration": 4,
    "start_time": "2024-02-09T14:46:51.287Z"
   },
   {
    "duration": 20,
    "start_time": "2024-02-09T14:46:51.294Z"
   },
   {
    "duration": 3,
    "start_time": "2024-02-09T14:46:51.315Z"
   },
   {
    "duration": 1028,
    "start_time": "2024-02-09T14:46:51.319Z"
   },
   {
    "duration": 21,
    "start_time": "2024-02-09T14:46:52.348Z"
   },
   {
    "duration": 68,
    "start_time": "2024-02-09T14:46:52.370Z"
   },
   {
    "duration": 12,
    "start_time": "2024-02-09T14:46:52.439Z"
   },
   {
    "duration": 50795,
    "start_time": "2024-02-09T14:46:52.452Z"
   },
   {
    "duration": 11703,
    "start_time": "2024-02-09T14:47:43.249Z"
   },
   {
    "duration": 394,
    "start_time": "2024-02-09T14:47:54.954Z"
   },
   {
    "duration": 67545,
    "start_time": "2024-02-09T14:47:55.354Z"
   },
   {
    "duration": 346,
    "start_time": "2024-02-09T14:49:02.901Z"
   },
   {
    "duration": 25,
    "start_time": "2024-02-09T14:49:03.248Z"
   },
   {
    "duration": 137980,
    "start_time": "2024-02-09T14:49:03.274Z"
   },
   {
    "duration": 4898,
    "start_time": "2024-02-09T14:51:21.256Z"
   },
   {
    "duration": 1005,
    "start_time": "2024-02-09T14:51:26.156Z"
   },
   {
    "duration": 313161,
    "start_time": "2024-02-09T14:51:27.163Z"
   },
   {
    "duration": 17800,
    "start_time": "2024-02-09T14:56:40.326Z"
   },
   {
    "duration": 149,
    "start_time": "2024-02-09T14:56:58.127Z"
   },
   {
    "duration": 12,
    "start_time": "2024-02-09T14:56:58.278Z"
   },
   {
    "duration": 327,
    "start_time": "2024-02-09T14:56:58.291Z"
   },
   {
    "duration": 26,
    "start_time": "2024-02-09T14:56:58.619Z"
   },
   {
    "duration": 19,
    "start_time": "2024-02-09T14:56:58.646Z"
   }
  ],
  "kernelspec": {
   "display_name": "Python 3 (ipykernel)",
   "language": "python",
   "name": "python3"
  },
  "language_info": {
   "codemirror_mode": {
    "name": "ipython",
    "version": 3
   },
   "file_extension": ".py",
   "mimetype": "text/x-python",
   "name": "python",
   "nbconvert_exporter": "python",
   "pygments_lexer": "ipython3",
   "version": "3.9.5"
  },
  "toc": {
   "base_numbering": 1,
   "nav_menu": {},
   "number_sections": true,
   "sideBar": true,
   "skip_h1_title": true,
   "title_cell": "Table of Contents",
   "title_sidebar": "Contents",
   "toc_cell": false,
   "toc_position": {},
   "toc_section_display": true,
   "toc_window_display": false
  }
 },
 "nbformat": 4,
 "nbformat_minor": 4
}
